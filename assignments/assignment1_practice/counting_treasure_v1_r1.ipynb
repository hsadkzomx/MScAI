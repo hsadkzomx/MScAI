{
 "cells": [
  {
   "cell_type": "code",
   "execution_count": 96,
   "id": "82a7bc86-fbee-485a-aa2b-19f93c0243fc",
   "metadata": {},
   "outputs": [],
   "source": [
    "def identify_type(d, result):\n",
    "    \"\"\"This method is using to identify thr types of values of a dictionary.\n",
    "        We suppose *d* is the data we want to identify.\n",
    "        We suppose *result* is a counter we passed in.\n",
    "    \"\"\"\n",
    "    \n",
    "    if isinstance(d, dict):\n",
    "        for key, value in d.items():\n",
    "            if isinstance(d[key], int):\n",
    "                result.update({key: d[key]})\n",
    "            else:\n",
    "                result.update({key: len(d[key])})\n",
    "                identify_type(d[key], result)\n",
    "    elif isinstance(d, list):\n",
    "        for item in d:\n",
    "            if not isinstance(item, dict):\n",
    "                raise TypeError(\"\\'int\\' object is not iterable\")\n",
    "            identify_type(item, result)\n",
    "    elif isinstance(d, tuple):\n",
    "        for item in d:\n",
    "            if not isinstance(item, dict):\n",
    "                raise TypeError(\"\\'int\\' object is not iterable\")\n",
    "            identify_type(item, result)\n",
    "    \n",
    "    return result"
   ]
  },
  {
   "cell_type": "code",
   "execution_count": 89,
   "id": "b823b726-6275-4632-9a61-c55a576e6373",
   "metadata": {},
   "outputs": [],
   "source": [
    "from collections import Counter\n",
    "\n",
    "def dict_sort(d):\n",
    "    result = {}\n",
    "    for k in sorted(d.keys()):\n",
    "        # in modern Python, dicts remember the order in which their keys\n",
    "        # were added, and use that order when being printed\n",
    "        result[k] = d[k]\n",
    "    return result\n",
    "\n",
    "def count_treasure(box):\n",
    "        \n",
    "    # HINT: use a `Counter` to store your results while working\n",
    "    result = Counter()\n",
    "\n",
    "    ## YOUR CODE HERE\n",
    "    result =  identify_type(box, result)\n",
    "   \n",
    "    \n",
    "    # HINT: use `dict_sort(result)` at the end to sort and\n",
    "    # convert to an ordinary `dict`\n",
    "    return dict_sort(result)"
   ]
  },
  {
   "cell_type": "code",
   "execution_count": null,
   "id": "ee155b27-19d9-4cb0-bf25-7fe0aaaef59b",
   "metadata": {},
   "outputs": [],
   "source": [
    "import doctest \n",
    "doctest.testmod()"
   ]
  },
  {
   "cell_type": "code",
   "execution_count": null,
   "id": "c3f3e9c0-20b7-4665-bb6b-f35be6386264",
   "metadata": {},
   "outputs": [],
   "source": []
  },
  {
   "cell_type": "code",
   "execution_count": 97,
   "id": "ba101cea-106d-42f3-9c62-721f27c6691d",
   "metadata": {},
   "outputs": [
    {
     "data": {
      "text/plain": [
       "{'bags': 2, 'coins': 17}"
      ]
     },
     "execution_count": 97,
     "metadata": {},
     "output_type": "execute_result"
    }
   ],
   "source": [
    "a = {'coins': 10,\n",
    "     'bags': [{'coins': 2}, {'coins': 5}]\n",
    "    }\n",
    "\n",
    "# output: {'bags': 2, 'coins': 17}\n",
    "\n",
    "count_treasure(a)"
   ]
  },
  {
   "cell_type": "code",
   "execution_count": 98,
   "id": "c5027b11-019f-4ef7-b86e-06d862147688",
   "metadata": {},
   "outputs": [
    {
     "data": {
      "text/plain": [
       "{'coins': 10, 'diamonds': 10}"
      ]
     },
     "execution_count": 98,
     "metadata": {},
     "output_type": "execute_result"
    }
   ],
   "source": [
    "b = {'coins': 10, 'diamonds': 10}\n",
    "    \n",
    "# output {'coins': 10, 'diamonds': 10}\n",
    "\n",
    "count_treasure(b)"
   ]
  },
  {
   "cell_type": "code",
   "execution_count": 99,
   "id": "634d1921-1876-46af-a937-055361904c2a",
   "metadata": {},
   "outputs": [
    {
     "data": {
      "text/plain": [
       "{'bags': 2, 'coins': 10}"
      ]
     },
     "execution_count": 99,
     "metadata": {},
     "output_type": "execute_result"
    }
   ],
   "source": [
    "c = {'bags': [{'bags': [{'coins': 10}]}]}\n",
    "\n",
    "# output {'bags': 2, 'coins': 10}\n",
    "count_treasure(c)"
   ]
  },
  {
   "cell_type": "code",
   "execution_count": 100,
   "id": "0a396f01-806b-4203-b40b-48e402bb5144",
   "metadata": {},
   "outputs": [
    {
     "data": {
      "text/plain": [
       "{'coins': 3020, 'enchanted pouches': 1, 'rubies': 20, 'treasure chests': 3}"
      ]
     },
     "execution_count": 100,
     "metadata": {},
     "output_type": "execute_result"
    }
   ],
   "source": [
    "d = {\n",
    "    'coins': 10,\n",
    "                'rubies': 10,\n",
    "                'enchanted pouches': [{\n",
    "                    'coins': 10,\n",
    "                    'rubies': 10,\n",
    "                    'treasure chests': (\n",
    "                        {'coins': 1000},\n",
    "                        {'coins': 1000},\n",
    "                        {'coins': 1000}\n",
    "                    ) # this was a tuple of 3 treasure chests\n",
    "                }] # this was a list of 1 enchanted pouches\n",
    "               }\n",
    "\n",
    "# output {'coins': 3020, 'enchanted pouches': 1, 'rubies': 20, 'treasure chests': 3}\n",
    "\n",
    "count_treasure(d)"
   ]
  },
  {
   "cell_type": "code",
   "execution_count": 92,
   "id": "606de113-57e6-4409-9ba2-28bb077bcdb5",
   "metadata": {},
   "outputs": [
    {
     "data": {
      "text/plain": [
       "dict"
      ]
     },
     "execution_count": 92,
     "metadata": {},
     "output_type": "execute_result"
    }
   ],
   "source": [
    "e = {'bags': (10, 20, 30)}\n",
    "\n",
    "type(e)"
   ]
  },
  {
   "cell_type": "code",
   "execution_count": 101,
   "id": "7904d602-f7c3-47fb-84cb-bb2b09397630",
   "metadata": {},
   "outputs": [
    {
     "ename": "TypeError",
     "evalue": "'int' object is not iterable",
     "output_type": "error",
     "traceback": [
      "\u001b[0;31m---------------------------------------------------------------------------\u001b[0m",
      "\u001b[0;31mTypeError\u001b[0m                                 Traceback (most recent call last)",
      "Input \u001b[0;32mIn [101]\u001b[0m, in \u001b[0;36m<cell line: 1>\u001b[0;34m()\u001b[0m\n\u001b[0;32m----> 1\u001b[0m \u001b[43mcount_treasure\u001b[49m\u001b[43m(\u001b[49m\u001b[43me\u001b[49m\u001b[43m)\u001b[49m\n",
      "Input \u001b[0;32mIn [89]\u001b[0m, in \u001b[0;36mcount_treasure\u001b[0;34m(box)\u001b[0m\n\u001b[1;32m     14\u001b[0m result \u001b[38;5;241m=\u001b[39m Counter()\n\u001b[1;32m     16\u001b[0m \u001b[38;5;66;03m## YOUR CODE HERE\u001b[39;00m\n\u001b[0;32m---> 17\u001b[0m result \u001b[38;5;241m=\u001b[39m  \u001b[43midentify_type\u001b[49m\u001b[43m(\u001b[49m\u001b[43mbox\u001b[49m\u001b[43m,\u001b[49m\u001b[43m \u001b[49m\u001b[43mresult\u001b[49m\u001b[43m)\u001b[49m\n\u001b[1;32m     20\u001b[0m \u001b[38;5;66;03m# HINT: use `dict_sort(result)` at the end to sort and\u001b[39;00m\n\u001b[1;32m     21\u001b[0m \u001b[38;5;66;03m# convert to an ordinary `dict`\u001b[39;00m\n\u001b[1;32m     22\u001b[0m \u001b[38;5;28;01mreturn\u001b[39;00m dict_sort(result)\n",
      "Input \u001b[0;32mIn [96]\u001b[0m, in \u001b[0;36midentify_type\u001b[0;34m(d, result)\u001b[0m\n\u001b[1;32m     11\u001b[0m         \u001b[38;5;28;01melse\u001b[39;00m:\n\u001b[1;32m     12\u001b[0m             result\u001b[38;5;241m.\u001b[39mupdate({key: \u001b[38;5;28mlen\u001b[39m(d[key])})\n\u001b[0;32m---> 13\u001b[0m             \u001b[43midentify_type\u001b[49m\u001b[43m(\u001b[49m\u001b[43md\u001b[49m\u001b[43m[\u001b[49m\u001b[43mkey\u001b[49m\u001b[43m]\u001b[49m\u001b[43m,\u001b[49m\u001b[43m \u001b[49m\u001b[43mresult\u001b[49m\u001b[43m)\u001b[49m\n\u001b[1;32m     14\u001b[0m \u001b[38;5;28;01melif\u001b[39;00m \u001b[38;5;28misinstance\u001b[39m(d, \u001b[38;5;28mlist\u001b[39m):\n\u001b[1;32m     15\u001b[0m     \u001b[38;5;28;01mfor\u001b[39;00m item \u001b[38;5;129;01min\u001b[39;00m d:\n",
      "Input \u001b[0;32mIn [96]\u001b[0m, in \u001b[0;36midentify_type\u001b[0;34m(d, result)\u001b[0m\n\u001b[1;32m     20\u001b[0m     \u001b[38;5;28;01mfor\u001b[39;00m item \u001b[38;5;129;01min\u001b[39;00m d:\n\u001b[1;32m     21\u001b[0m         \u001b[38;5;28;01mif\u001b[39;00m \u001b[38;5;129;01mnot\u001b[39;00m \u001b[38;5;28misinstance\u001b[39m(item, \u001b[38;5;28mdict\u001b[39m):\n\u001b[0;32m---> 22\u001b[0m             \u001b[38;5;28;01mraise\u001b[39;00m \u001b[38;5;167;01mTypeError\u001b[39;00m(\u001b[38;5;124m\"\u001b[39m\u001b[38;5;130;01m\\'\u001b[39;00m\u001b[38;5;124mint\u001b[39m\u001b[38;5;130;01m\\'\u001b[39;00m\u001b[38;5;124m object is not iterable\u001b[39m\u001b[38;5;124m\"\u001b[39m)\n\u001b[1;32m     23\u001b[0m         identify_type(item, result)\n\u001b[1;32m     25\u001b[0m \u001b[38;5;28;01mreturn\u001b[39;00m result\n",
      "\u001b[0;31mTypeError\u001b[0m: 'int' object is not iterable"
     ]
    }
   ],
   "source": [
    "count_treasure(e)"
   ]
  },
  {
   "cell_type": "code",
   "execution_count": null,
   "id": "5fba4002-ed01-4805-b04d-c15588a7b953",
   "metadata": {},
   "outputs": [],
   "source": []
  }
 ],
 "metadata": {
  "kernelspec": {
   "display_name": "Python 3 (ipykernel)",
   "language": "python",
   "name": "python3"
  },
  "language_info": {
   "codemirror_mode": {
    "name": "ipython",
    "version": 3
   },
   "file_extension": ".py",
   "mimetype": "text/x-python",
   "name": "python",
   "nbconvert_exporter": "python",
   "pygments_lexer": "ipython3",
   "version": "3.9.12"
  }
 },
 "nbformat": 4,
 "nbformat_minor": 5
}
