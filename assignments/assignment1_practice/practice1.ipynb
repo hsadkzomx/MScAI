{
 "cells": [
  {
   "cell_type": "markdown",
   "id": "b79ff61c-d2d2-467c-b65b-8255263c5083",
   "metadata": {},
   "source": [
    "## Counting Treasure \n",
    "\n",
    "Get the file treasure.py from Bb. It contains a spec for a simple program, including doctests. Run it using python -m doctest treasure.py. Add code to implement the spec. Do not change the doctests. Put your name(s) and ID(s) as shown at the top. Submit treasure.py. This is worth 5%."
   ]
  },
  {
   "cell_type": "code",
   "execution_count": 36,
   "id": "96308deb-ebbf-4a25-ae51-08935b48c77c",
   "metadata": {},
   "outputs": [],
   "source": [
    "# I/we declare that this file represents our own work, and that we\n",
    "# have not seen any work on this assignment done by others, and that\n",
    "# we have not shown our work to any others.\n",
    "\n",
    "# Student name(s): Jiarong Li\n",
    "# Student ID(s): 20230033\n",
    "\n",
    "# Do not change the formatting above. For multiple names/IDs, use\n",
    "# commas to separate.\n",
    "\n",
    "\n",
    "from collections import Counter\n",
    "\n",
    "def dict_sort(d):\n",
    "    result = {}\n",
    "    for k in sorted(d.keys()):\n",
    "        # in modern Python, dicts remember the order in which their keys\n",
    "        # were added, and use that order when being printed\n",
    "        result[k] = d[k]\n",
    "    return result\n",
    "\n",
    "def count_treasure(box):\n",
    "    '''\n",
    "    While wandering in the fortress of the goblin king, we've discovered a\n",
    "    box of treasure!\n",
    "\n",
    "    Count all the treasure and other items in the box and return the\n",
    "    result as a `dict`, with keys sorted alphabetically.\n",
    "    \n",
    "    `box` is a `dict` specifying the number of each item, eg:\n",
    "    >>> count_treasure({'coins': 10, 'diamonds': 10})\n",
    "    {'coins': 10, 'diamonds': 10}\n",
    "\n",
    "    The above is a box containing 10 coins and 10 diamonds, so the output\n",
    "    is as shown.\n",
    "\n",
    "    A container (the box itself, or a bag, pouch, etc.) can contain other\n",
    "    containers. Instead of a number, the containers are specified as a \n",
    "    list, tuple, or similar. We should include the containers in the count:\n",
    "    >>> count_treasure({'coins': 10,  \n",
    "    ...                 'bags': [{'coins': 2}, {'coins': 5}]})\n",
    "    {'bags': 2, 'coins': 17}\n",
    "\n",
    "    Notice the above is a multi-line doctest, using ...\n",
    "\n",
    "    Containers can be recursive:\n",
    "    >>> count_treasure({'bags': [{'bags': [{'coins': 10}]}]})\n",
    "    {'bags': 2, 'coins': 10}\n",
    "\n",
    "    Here is a bigger example:\n",
    "    >>> count_treasure({\n",
    "    ...   'coins': 10,\n",
    "    ...   'rubies': 10,\n",
    "    ...   'enchanted pouches': [{\n",
    "    ...      'coins': 10,\n",
    "    ...      'rubies': 10,\n",
    "    ...      'treasure chests': (\n",
    "    ...         {'coins': 1000},\n",
    "    ...         {'coins': 1000},\n",
    "    ...         {'coins': 1000}\n",
    "    ...      ) # this was a tuple of 3 treasure chests\n",
    "    ...    }] # this was a list of 1 enchanted pouches\n",
    "    ... })\n",
    "    {'coins': 3020, 'enchanted pouches': 1, 'rubies': 20, 'treasure chests': 3}\n",
    "\n",
    "    If the input is mis-specified, we expect to see an error:\n",
    "    >>> count_treasure({'bags': (10, 20, 30)})\n",
    "    Traceback (most recent call last):\n",
    "    ...\n",
    "    TypeError: 'int' object is not iterable\n",
    "    '''\n",
    "    \n",
    "    # HINT: use a `Counter` to store your results while working\n",
    "    result = Counter()\n",
    "    \n",
    "\n",
    "    ## YOUR CODE HERE\n",
    "    if isinstance(box, dict):\n",
    "        for key, value in box.items():\n",
    "            #yield key\n",
    "            #print(\"key: \", key)\n",
    "        \n",
    "            if isinstance(value, dict):\n",
    "                #yield from count_treasure(value) # because type(box) is dict\n",
    "                print(\"dict: \", value)\n",
    "                count_treasure(value)\n",
    "            elif isinstance(value, list):\n",
    "                print(\"list: \", value)\n",
    "                for v in value:\n",
    "                    if isinstance(v, dict):\n",
    "                        print(\"if v is a dict in value list: \", v)\n",
    "                        count_treasure(v)\n",
    "            elif isinstance(value, tuple):\n",
    "                print(\"tuple: \", value)\n",
    "                for v in value:\n",
    "                    if isinstance(v, dict):\n",
    "                        print(\"if v is a dict in value tuple: \", v)\n",
    "                        count_treasure(v)\n",
    "            else:\n",
    "                print(\"result update\")\n",
    "                if key in result:\n",
    "                    result.update({key: result[key] + value})\n",
    "                else:\n",
    "                    result.update({key: value})\n",
    "                print(result)\n",
    "                print(\"update finish\")\n",
    "                \n",
    "            \n",
    "    \n",
    "\n",
    "    # HINT: use `dict_sort(result)` at the end to sort and\n",
    "    # convert to an ordinary `dict`\n",
    "    return dict_sort(result)\n",
    "\n",
    "\n"
   ]
  },
  {
   "cell_type": "code",
   "execution_count": 37,
   "id": "d6dd9661-4ab4-4b50-b8a5-4caed44a457a",
   "metadata": {
    "tags": []
   },
   "outputs": [
    {
     "name": "stdout",
     "output_type": "stream",
     "text": [
      "result update\n",
      "Counter({'coins': 10})\n",
      "update finish\n",
      "list:  [{'coins': 2}, {'coins': 5}]\n",
      "if v is a dict in value list:  {'coins': 2}\n",
      "result update\n",
      "Counter({'coins': 2})\n",
      "update finish\n",
      "if v is a dict in value list:  {'coins': 5}\n",
      "result update\n",
      "Counter({'coins': 5})\n",
      "update finish\n"
     ]
    },
    {
     "data": {
      "text/plain": [
       "{'coins': 10}"
      ]
     },
     "execution_count": 37,
     "metadata": {},
     "output_type": "execute_result"
    }
   ],
   "source": [
    "#a = {'coins': 10,\n",
    "#     'bags': [{'coins': 2}, {'coins': 5}]\n",
    "#    }\n",
    "count_treasure(a)"
   ]
  },
  {
   "cell_type": "code",
   "execution_count": 2,
   "id": "94bb35a2-ed0f-4db4-9cab-242fe94effd9",
   "metadata": {},
   "outputs": [
    {
     "name": "stdout",
     "output_type": "stream",
     "text": [
      "{'coins': 2}\n",
      "{'coins': 5}\n"
     ]
    }
   ],
   "source": [
    "v1 = [{'coins': 2}, {'coins': 5}]\n",
    "for v in v1:\n",
    "    if isinstance(v, dict):\n",
    "        count_treasure(v)\n",
    "    print(v)"
   ]
  },
  {
   "cell_type": "code",
   "execution_count": null,
   "id": "8b89935e-87b3-4354-a4a7-caa0e035c6da",
   "metadata": {},
   "outputs": [],
   "source": []
  },
  {
   "cell_type": "code",
   "execution_count": 31,
   "id": "f0198bfc-5abd-4d82-b25f-2fdeab166805",
   "metadata": {},
   "outputs": [],
   "source": [
    "a = {'coins': 10,\n",
    "     'bags': [{'coins': 2}, {'coins': 5}]\n",
    "    }\n",
    "\n",
    "# output: {'bags': 2, 'coins': 17}"
   ]
  },
  {
   "cell_type": "code",
   "execution_count": 47,
   "id": "ce61d499-b762-4927-96fb-adae660f9d4c",
   "metadata": {},
   "outputs": [
    {
     "name": "stdout",
     "output_type": "stream",
     "text": [
      "Counter({'coins': 10})\n",
      "dict_keys(['coins'])\n",
      "dict_keys(['coins'])\n"
     ]
    }
   ],
   "source": [
    "counts = Counter()\n",
    "re = {}\n",
    "\n",
    "if type(a) == dict:\n",
    "    for key in a.keys():\n",
    "        if not isinstance(a[key], (list, tuple, dict)):\n",
    "            counts.update({key : a[key]})\n",
    "            print(counts)\n",
    "        elif isinstance(a[key], list):\n",
    "            for element in a[key]:\n",
    "                if isinstance(element, dict):\n",
    "                    \n",
    "                    print(element.keys())"
   ]
  },
  {
   "cell_type": "code",
   "execution_count": null,
   "id": "8a508a67-7f4a-422d-a6c4-4c56c729567c",
   "metadata": {},
   "outputs": [],
   "source": [
    "for key, value in b.items():\n",
    "    yield key\n",
    "    if isinstance(value, dict):\n",
    "        yield from "
   ]
  },
  {
   "cell_type": "code",
   "execution_count": null,
   "id": "9439dfe6-0d98-43d0-bd0a-a7c16be5ab4f",
   "metadata": {},
   "outputs": [],
   "source": []
  },
  {
   "cell_type": "code",
   "execution_count": 10,
   "id": "6a4f1422-890d-4093-a5a4-d9143864238e",
   "metadata": {},
   "outputs": [
    {
     "name": "stdout",
     "output_type": "stream",
     "text": [
      "b.items() =  dict_items([('coins', 10), ('bags', [{'coins': 2}, {'coins': 5}])])\n",
      "b.keys() =  dict_keys(['coins', 'bags'])\n",
      "b.values() =  dict_values([10, [{'coins': 2}, {'coins': 5}]])\n"
     ]
    }
   ],
   "source": [
    "b = {'coins': 10,\n",
    "     'bags': [{'coins': 2}, {'coins': 5}]\n",
    "    }\n",
    "\n",
    "print(\"b.items() = \", b.items())\n",
    "print(\"b.keys() = \", b.keys())\n",
    "print(\"b.values() = \", b.values())"
   ]
  },
  {
   "cell_type": "code",
   "execution_count": 5,
   "id": "715403c1-275a-4337-9f0a-0be55d5cbacd",
   "metadata": {},
   "outputs": [
    {
     "name": "stdout",
     "output_type": "stream",
     "text": [
      "c.items() =  dict_items([('bags', [{'bags': [{'coins': 10}]}])])\n",
      "c.keys() =  dict_keys(['bags'])\n",
      "c.values() =  dict_values([[{'bags': [{'coins': 10}]}]])\n"
     ]
    }
   ],
   "source": [
    "c = {'bags': [{'bags': [{'coins': 10}]}]\n",
    "    }\n",
    "\n",
    "print(\"c.items() = \", c.items())\n",
    "print(\"c.keys() = \", c.keys())\n",
    "print(\"c.values() = \", c.values())"
   ]
  },
  {
   "cell_type": "code",
   "execution_count": 12,
   "id": "da2b687a-3fc8-418f-8d74-e3157eb67bb1",
   "metadata": {},
   "outputs": [],
   "source": [
    "d = {\n",
    "                'coins': 10,\n",
    "                'rubies': 10,\n",
    "                'enchanted pouches': [{\n",
    "                    'coins': 10,\n",
    "                    'rubies': 10,\n",
    "                    'treasure chests': (\n",
    "                        {'coins': 1000},\n",
    "                        {'coins': 1000},\n",
    "                        {'coins': 1000}\n",
    "                    ) # this was a tuple of 3 treasure chests\n",
    "                }] # this was a list of 1 enchanted pouches\n",
    "               }"
   ]
  },
  {
   "cell_type": "code",
   "execution_count": null,
   "id": "610da62e-ffb0-418d-be0d-aae4b3bbb76c",
   "metadata": {},
   "outputs": [],
   "source": []
  },
  {
   "cell_type": "code",
   "execution_count": 10,
   "id": "5c1ff86f-a8da-4fd6-b99c-ae74d03b49be",
   "metadata": {},
   "outputs": [
    {
     "data": {
      "text/plain": [
       "['__add__',\n",
       " '__and__',\n",
       " '__class__',\n",
       " '__class_getitem__',\n",
       " '__contains__',\n",
       " '__delattr__',\n",
       " '__delitem__',\n",
       " '__dict__',\n",
       " '__dir__',\n",
       " '__doc__',\n",
       " '__eq__',\n",
       " '__format__',\n",
       " '__ge__',\n",
       " '__getattribute__',\n",
       " '__getitem__',\n",
       " '__gt__',\n",
       " '__hash__',\n",
       " '__iadd__',\n",
       " '__iand__',\n",
       " '__init__',\n",
       " '__init_subclass__',\n",
       " '__ior__',\n",
       " '__isub__',\n",
       " '__iter__',\n",
       " '__le__',\n",
       " '__len__',\n",
       " '__lt__',\n",
       " '__missing__',\n",
       " '__module__',\n",
       " '__ne__',\n",
       " '__neg__',\n",
       " '__new__',\n",
       " '__or__',\n",
       " '__pos__',\n",
       " '__reduce__',\n",
       " '__reduce_ex__',\n",
       " '__repr__',\n",
       " '__reversed__',\n",
       " '__ror__',\n",
       " '__setattr__',\n",
       " '__setitem__',\n",
       " '__sizeof__',\n",
       " '__str__',\n",
       " '__sub__',\n",
       " '__subclasshook__',\n",
       " '__weakref__',\n",
       " '_keep_positive',\n",
       " 'clear',\n",
       " 'copy',\n",
       " 'elements',\n",
       " 'fromkeys',\n",
       " 'get',\n",
       " 'items',\n",
       " 'keys',\n",
       " 'most_common',\n",
       " 'pop',\n",
       " 'popitem',\n",
       " 'setdefault',\n",
       " 'subtract',\n",
       " 'update',\n",
       " 'values']"
      ]
     },
     "execution_count": 10,
     "metadata": {},
     "output_type": "execute_result"
    }
   ],
   "source": [
    "dir(a)"
   ]
  },
  {
   "cell_type": "code",
   "execution_count": null,
   "id": "6f4906bc-422d-4c38-84af-1d8689bf9ffd",
   "metadata": {},
   "outputs": [],
   "source": []
  },
  {
   "cell_type": "code",
   "execution_count": null,
   "id": "afadd099-9738-4e09-be6a-4200213b9819",
   "metadata": {},
   "outputs": [],
   "source": []
  },
  {
   "cell_type": "code",
   "execution_count": 14,
   "id": "caa59ba8-f11c-40f1-a789-23b2c5ead67a",
   "metadata": {},
   "outputs": [
    {
     "data": {
      "text/plain": [
       "{'coins': 10, 'diamonds': 10}"
      ]
     },
     "execution_count": 14,
     "metadata": {},
     "output_type": "execute_result"
    }
   ],
   "source": [
    "count_treasure({'diamonds': 10, 'coins': 10})\n",
    "\n",
    "# output: {'coins': 10, 'diamonds': 10}"
   ]
  },
  {
   "cell_type": "code",
   "execution_count": null,
   "id": "cea9d818-1c02-43e2-b536-42f566013045",
   "metadata": {},
   "outputs": [],
   "source": [
    "count_treasure({'coins': 10,\n",
    "                'bags': [{'coins': 2}, {'coins': 5}]\n",
    "               })\n",
    "\n",
    "# output: {'bags': 2, 'coins': 17}"
   ]
  },
  {
   "cell_type": "code",
   "execution_count": null,
   "id": "e45dceb1-158f-4175-a50a-3e3e00172b8f",
   "metadata": {},
   "outputs": [],
   "source": [
    "count_treasure({'bags': [{'bags': [{'coins': 10}]}]\n",
    "               })\n",
    "\n",
    "# output: {'bags': 2, 'coins': 10}"
   ]
  },
  {
   "cell_type": "code",
   "execution_count": null,
   "id": "0ae3a645-4e00-4d33-b36b-30d9d4b24cb3",
   "metadata": {},
   "outputs": [],
   "source": [
    "count_treasure({\n",
    "                'coins': 10,\n",
    "                'rubies': 10,\n",
    "                'enchanted pouches': [{\n",
    "                    'coins': 10,\n",
    "                    'rubies': 10,\n",
    "                    'treasure chests': (\n",
    "                        {'coins': 1000},\n",
    "                        {'coins': 1000},\n",
    "                        {'coins': 1000}\n",
    "                    ) # this was a tuple of 3 treasure chests\n",
    "                }] # this was a list of 1 enchanted pouches\n",
    "               })\n",
    "\n",
    "# output: {'coins': 3020, 'enchanted pouches': 1, 'rubies': 20, 'treasure chests': 3}"
   ]
  }
 ],
 "metadata": {
  "kernelspec": {
   "display_name": "Python 3 (ipykernel)",
   "language": "python",
   "name": "python3"
  },
  "language_info": {
   "codemirror_mode": {
    "name": "ipython",
    "version": 3
   },
   "file_extension": ".py",
   "mimetype": "text/x-python",
   "name": "python",
   "nbconvert_exporter": "python",
   "pygments_lexer": "ipython3",
   "version": "3.9.12"
  }
 },
 "nbformat": 4,
 "nbformat_minor": 5
}
