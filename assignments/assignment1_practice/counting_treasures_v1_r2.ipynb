{
 "cells": [
  {
   "cell_type": "markdown",
   "id": "8b6876a7-d1a6-45ca-ab7e-3a95b98603af",
   "metadata": {},
   "source": [
    "## Counting_Treasures_v1_r2"
   ]
  },
  {
   "cell_type": "markdown",
   "id": "d6f02bb5-04d3-43b4-bfe8-438eaa2a142a",
   "metadata": {},
   "source": [
    "Get the file treasure.py from Bb. It contains a spec for a simple program, including doctests. Run it using python -m doctest treasure.py. Add code to implement the spec. Do not change the doctests. Put your name(s) and ID(s) as shown at the top. Submit treasure.py. This is worth 5%."
   ]
  },
  {
   "cell_type": "code",
   "execution_count": 1,
   "id": "90dc54f4-9ed2-4471-b5d9-ce28901b8f77",
   "metadata": {},
   "outputs": [],
   "source": [
    "# I/we declare that this file represents our own work, and that we\n",
    "# have not seen any work on this assignment done by others, and that\n",
    "# we have not shown our work to any others.\n",
    "\n",
    "# Student name(s): Jiarong Li\n",
    "# Student ID(s): 20230033\n",
    "\n",
    "# Do not change the formatting above. For multiple names/IDs, use\n",
    "# commas to separate.\n",
    "\n",
    "\n",
    "from collections import Counter\n",
    "\n",
    "def dict_sort(d):\n",
    "    result = {}\n",
    "    for k in sorted(d.keys()):\n",
    "        # in modern Python, dicts remember the order in which their keys\n",
    "        # were added, and use that order when being printed\n",
    "        result[k] = d[k]\n",
    "    return result\n",
    "\n",
    "def count_treasure(box):\n",
    "    '''\n",
    "    While wandering in the fortress of the goblin king, we've discovered a\n",
    "    box of treasure!\n",
    "\n",
    "    Count all the treasure and other items in the box and return the\n",
    "    result as a `dict`, with keys sorted alphabetically.\n",
    "    \n",
    "    `box` is a `dict` specifying the number of each item, eg:\n",
    "    >>> count_treasure({'coins': 10, 'diamonds': 10})\n",
    "    {'coins': 10, 'diamonds': 10}\n",
    "\n",
    "    The above is a box containing 10 coins and 10 diamonds, so the output\n",
    "    is as shown.\n",
    "\n",
    "    A container (the box itself, or a bag, pouch, etc.) can contain other\n",
    "    containers. Instead of a number, the containers are specified as a \n",
    "    list, tuple, or similar. We should include the containers in the count:\n",
    "    >>> count_treasure({'coins': 10,  \n",
    "    ...                 'bags': [{'coins': 2}, {'coins': 5}]})\n",
    "    {'bags': 2, 'coins': 17}\n",
    "\n",
    "    Notice the above is a multi-line doctest, using ...\n",
    "\n",
    "    Containers can be recursive:\n",
    "    >>> count_treasure({'bags': [{'bags': [{'coins': 10}]}]})\n",
    "    {'bags': 2, 'coins': 10}\n",
    "\n",
    "    Here is a bigger example:\n",
    "    >>> count_treasure({\n",
    "    ...   'coins': 10,\n",
    "    ...   'rubies': 10,\n",
    "    ...   'enchanted pouches': [{\n",
    "    ...      'coins': 10,\n",
    "    ...      'rubies': 10,\n",
    "    ...      'treasure chests': (\n",
    "    ...         {'coins': 1000},\n",
    "    ...         {'coins': 1000},\n",
    "    ...         {'coins': 1000}\n",
    "    ...      ) # this was a tuple of 3 treasure chests\n",
    "    ...    }] # this was a list of 1 enchanted pouches\n",
    "    ... })\n",
    "    {'coins': 3020, 'enchanted pouches': 1, 'rubies': 20, 'treasure chests': 3}\n",
    "\n",
    "    If the input is mis-specified, we expect to see an error:\n",
    "    >>> count_treasure({'bags': (10, 20, 30)})\n",
    "    Traceback (most recent call last):\n",
    "    ...\n",
    "    TypeError: 'int' object is not iterable\n",
    "    '''\n",
    "    \n",
    "    # HINT: use a `Counter` to store your results while working\n",
    "    result = Counter()\n",
    "    \n",
    "    \n",
    "    ## YOUR CODE HERE\n",
    "     \n",
    "    ## I create an assistant function called identify_type() \n",
    "    ## to deal with nested dictionaries/lists/tuples and \n",
    "    ## return the counter with elements stored. \n",
    "    result =  identify_type(box, result)\n",
    "    \n",
    "    \n",
    "    # HINT: use `dict_sort(result)` at the end to sort and\n",
    "    # convert to an ordinary `dict`\n",
    "    return dict_sort(result)"
   ]
  },
  {
   "cell_type": "code",
   "execution_count": 2,
   "id": "f61a01a2-a5ee-4591-8f4d-71d54f1ef63b",
   "metadata": {},
   "outputs": [],
   "source": [
    "def identify_type(d, result):\n",
    "    \n",
    "    \"\"\"This method is using to identify the types of values of a \n",
    "    dictionary and returns a counter.\n",
    "    We suppose *d* is the value we want to identify.\n",
    "    We suppose *result* is the counter we passed in.\n",
    "    \n",
    "    \"\"\"\n",
    "    \n",
    "    if isinstance(d, dict): # If d is an instance of dictionary.\n",
    "        for key, value in d.items(): # For each item in d.\n",
    "            if isinstance(d[key], int): # If the value of current item is an integer.\n",
    "                                        # We assume the number of treasures is an integer.\n",
    "                result.update({key: d[key]}) # We update the couter.\n",
    "            else:                       # If the value of current item is not an integer.\n",
    "                result.update({key: len(d[key])}) # We first store the key and\n",
    "                                                  # the length of the corresposed value.\n",
    "                identify_type(d[key], result)     # Then identify the type of current value.\n",
    "    elif isinstance(d, list): # If d is an instance of list\n",
    "        for item in d:         \n",
    "            if not isinstance(item, dict): # If the innermost item is not a dictionary type,\n",
    "                raise TypeError(\"\\'int\\' object is not iterable\") # it will raise an error.\n",
    "            identify_type(item, result)    # We check the type of current value in the list.\n",
    "    elif isinstance(d, tuple): # If d is an instance of tuple\n",
    "        for item in d:\n",
    "            if not isinstance(item, dict):\n",
    "                raise TypeError(\"\\'int\\' object is not iterable\")\n",
    "            identify_type(item, result) # # We check the type of current value in the tuple.\n",
    "    \n",
    "    return result"
   ]
  },
  {
   "cell_type": "code",
   "execution_count": 3,
   "id": "6b42f2f6-f516-4aa2-a0b2-5fc02cc838ca",
   "metadata": {},
   "outputs": [
    {
     "data": {
      "text/plain": [
       "TestResults(failed=0, attempted=5)"
      ]
     },
     "execution_count": 3,
     "metadata": {},
     "output_type": "execute_result"
    }
   ],
   "source": [
    "import doctest \n",
    "doctest.testmod()"
   ]
  },
  {
   "cell_type": "code",
   "execution_count": null,
   "id": "cfa44a72-becc-421f-b613-c98a5cb39c44",
   "metadata": {},
   "outputs": [],
   "source": []
  }
 ],
 "metadata": {
  "kernelspec": {
   "display_name": "Python 3 (ipykernel)",
   "language": "python",
   "name": "python3"
  },
  "language_info": {
   "codemirror_mode": {
    "name": "ipython",
    "version": 3
   },
   "file_extension": ".py",
   "mimetype": "text/x-python",
   "name": "python",
   "nbconvert_exporter": "python",
   "pygments_lexer": "ipython3",
   "version": "3.9.12"
  }
 },
 "nbformat": 4,
 "nbformat_minor": 5
}
