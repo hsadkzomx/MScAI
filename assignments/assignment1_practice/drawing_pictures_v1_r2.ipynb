{
 "cells": [
  {
   "cell_type": "markdown",
   "id": "fb225a7a-ead7-4552-9d38-6a1ee5705352",
   "metadata": {},
   "source": [
    "# drawing pictures"
   ]
  },
  {
   "cell_type": "code",
   "execution_count": 1,
   "id": "75b87bb8-90df-44ba-821d-000119fb10d5",
   "metadata": {},
   "outputs": [],
   "source": [
    "# I/we declare that this file represents our own work, and that we\n",
    "# have not seen any work on this assignment done by others, and that\n",
    "# we have not shown our work to any others.\n",
    "\n",
    "# Student name(s): Jiarong Li\n",
    "# Student ID(s): 20230033\n",
    "\n",
    "# Do not change the formatting above. For multiple names/IDs, use\n",
    "# commas to separate.\n",
    "\n",
    "\n",
    "import math\n",
    "\n",
    "def distance(x0, y0, x1, y1):\n",
    "    # Euclidean distance between (x0, y0) and (x1, y1).\n",
    "    # Don't change this.\n",
    "    return math.sqrt((x0 - x1)**2 + (y0 - y1)**2)"
   ]
  },
  {
   "cell_type": "code",
   "execution_count": 2,
   "id": "bc8b81dc-1644-4f00-bc0b-c5bd3cecfcb5",
   "metadata": {},
   "outputs": [],
   "source": [
    "def render(canvas):\n",
    "    # This function takes in a canvas which has already been drawn on,\n",
    "    # and prints it. Don't change this.\n",
    "    for row in canvas:\n",
    "        print(' '.join(row))"
   ]
  },
  {
   "cell_type": "code",
   "execution_count": 61,
   "id": "f1d21931-4c88-4c9f-8368-816b91d841b3",
   "metadata": {},
   "outputs": [],
   "source": [
    "def draw(shapes, width, height):\n",
    "    '''Draw a simple picture on a grid.\n",
    "\n",
    "    A picture is specified as a list of shapes. Each shape is either a\n",
    "    `disc` or a `rect`.\n",
    "\n",
    "    `draw` creates the grid as a list of lists and draws the shapes.\n",
    "\n",
    "    A second function, `render`, takes care of some details of\n",
    "    printing correctly.\n",
    "\n",
    "    The coordinate system starts at the top-left of the image.\n",
    "\n",
    "    Here we draw a rectangle, using the 'colour' #,\n",
    "    with top-left (0, 0), with width 2 and height 3,\n",
    "    in a grid of width 10 and height 5\n",
    "    >>> render(draw([['rect', '#', 0, 0, 2, 3]], 10, 5))\n",
    "    # # . . . . . . . .\n",
    "    # # . . . . . . . .\n",
    "    # # . . . . . . . .\n",
    "    . . . . . . . . . .\n",
    "    . . . . . . . . . .\n",
    "\n",
    "    >>> render(draw([['disc', '#', 2, 2, 2]], 5, 5))\n",
    "    . . . . .\n",
    "    . # # # .\n",
    "    . # # # .\n",
    "    . # # # .\n",
    "    . . . . .\n",
    "\n",
    "    If a shape goes beyond the grid, we just draw the part that\n",
    "    is inside the grid:\n",
    "    >>> render(draw([['rect', '#', 3, 3, 9, 9]], 5, 5))\n",
    "    . . . . .\n",
    "    . . . . .\n",
    "    . . . . .\n",
    "    . . . # #\n",
    "    . . . # #\n",
    "\n",
    "    If one shape overlaps another, the later overwrites the earlier:\n",
    "    >>> render(draw([['disc', '#', 10, 10, 5], ['rect', '=', 5, 5, 3, 5]], 20, 20))\n",
    "    . . . . . . . . . . . . . . . . . . . .\n",
    "    . . . . . . . . . . . . . . . . . . . .\n",
    "    . . . . . . . . . . . . . . . . . . . .\n",
    "    . . . . . . . . . . . . . . . . . . . .\n",
    "    . . . . . . . . . . . . . . . . . . . .\n",
    "    . . . . . = = = . . . . . . . . . . . .\n",
    "    . . . . . = = = # # # # # . . . . . . .\n",
    "    . . . . . = = = # # # # # # . . . . . .\n",
    "    . . . . . = = = # # # # # # # . . . . .\n",
    "    . . . . . = = = # # # # # # # . . . . .\n",
    "    . . . . . . # # # # # # # # # . . . . .\n",
    "    . . . . . . # # # # # # # # # . . . . .\n",
    "    . . . . . . # # # # # # # # # . . . . .\n",
    "    . . . . . . . # # # # # # # . . . . . .\n",
    "    . . . . . . . . # # # # # . . . . . . .\n",
    "    . . . . . . . . . . . . . . . . . . . .\n",
    "    . . . . . . . . . . . . . . . . . . . .\n",
    "    . . . . . . . . . . . . . . . . . . . .\n",
    "    . . . . . . . . . . . . . . . . . . . .\n",
    "    . . . . . . . . . . . . . . . . . . . .\n",
    "\n",
    "    '''\n",
    "    \n",
    "    canvas = [['.' for _ in range(width)] for _ in range(height)]\n",
    "\n",
    "    ## YOUR CODE HERE\n",
    "    \n",
    "    print(\"start...\")\n",
    "    \n",
    "    for shape in shapes: # shapes is a list\n",
    "        if shape[0] == 'rect':\n",
    "            print(\"This is a rect.\")\n",
    "            \n",
    "            for i in range(shape[5]): #  We use *i* to represent height of the picture.\n",
    "                for j in range(shape[4]): # We use *j* to represent weight of the picture.\n",
    "                    canvas[i][j] = shape[1] # We paint the 'colour' to current position. \n",
    "        \n",
    "        elif shape[0] == 'disc':\n",
    "            \n",
    "            print(\"This is a disc.\")\n",
    "    \n",
    "    \n",
    "    \n",
    "    return canvas\n",
    "\n",
    "\n"
   ]
  },
  {
   "cell_type": "code",
   "execution_count": 60,
   "id": "8487ab82-1e5f-4db9-95c9-05cde8be885a",
   "metadata": {},
   "outputs": [
    {
     "name": "stdout",
     "output_type": "stream",
     "text": [
      "start...\n",
      "This is a rect.\n"
     ]
    },
    {
     "data": {
      "text/plain": [
       "[['#', '#', '.', '.', '.', '.', '.', '.', '.', '.'],\n",
       " ['#', '#', '.', '.', '.', '.', '.', '.', '.', '.'],\n",
       " ['#', '#', '.', '.', '.', '.', '.', '.', '.', '.'],\n",
       " ['.', '.', '.', '.', '.', '.', '.', '.', '.', '.'],\n",
       " ['.', '.', '.', '.', '.', '.', '.', '.', '.', '.']]"
      ]
     },
     "execution_count": 60,
     "metadata": {},
     "output_type": "execute_result"
    }
   ],
   "source": [
    "\"\"\"\n",
    "render(draw([['rect', '#', 0, 0, 2, 3]], 10, 5))\n",
    "    # # . . . . . . . .\n",
    "    # # . . . . . . . .\n",
    "    # # . . . . . . . .\n",
    "    . . . . . . . . . .\n",
    "    . . . . . . . . . .\n",
    "\"\"\"\n",
    "draw([['rect', '#', 0, 0, 2, 3]], 10, 5)\n"
   ]
  },
  {
   "cell_type": "code",
   "execution_count": 56,
   "id": "d9e69d01-3529-430a-ad12-4f171658a971",
   "metadata": {},
   "outputs": [
    {
     "data": {
      "text/plain": [
       "[['.', '.', '.', '.', '.', '.', '.', '.', '.', '.'],\n",
       " ['.', '.', '.', '.', '.', '.', '.', '.', '.', '.'],\n",
       " ['.', '.', '.', '.', '.', '.', '.', '.', '.', '.'],\n",
       " ['.', '.', '.', '.', '.', '.', '.', '.', '.', '.'],\n",
       " ['.', '.', '.', '.', '.', '.', '.', '.', '.', '.']]"
      ]
     },
     "execution_count": 56,
     "metadata": {},
     "output_type": "execute_result"
    }
   ],
   "source": [
    "canvas = [['.' for _ in range(10)] for _ in range(5)]\n",
    "canvas"
   ]
  },
  {
   "cell_type": "code",
   "execution_count": 49,
   "id": "22acdfd2-6e1c-4074-8892-6e7a78fae3e0",
   "metadata": {},
   "outputs": [],
   "source": [
    "shapes = [['rect', '#', 0, 0, 2, 3]]"
   ]
  },
  {
   "cell_type": "code",
   "execution_count": 58,
   "id": "1eb1f708-8e18-48b2-80e1-37fb06a2b26a",
   "metadata": {},
   "outputs": [
    {
     "data": {
      "text/plain": [
       "[['#', '#', '.', '.', '.', '.', '.', '.', '.', '.'],\n",
       " ['#', '#', '.', '.', '.', '.', '.', '.', '.', '.'],\n",
       " ['#', '#', '.', '.', '.', '.', '.', '.', '.', '.'],\n",
       " ['.', '.', '.', '.', '.', '.', '.', '.', '.', '.'],\n",
       " ['.', '.', '.', '.', '.', '.', '.', '.', '.', '.']]"
      ]
     },
     "execution_count": 58,
     "metadata": {},
     "output_type": "execute_result"
    }
   ],
   "source": [
    "for i in range(3): #  We use *i* to represent height\n",
    "    for j in range(2): # We use *j* to represent weight\n",
    "        canvas[i][j] = '#'\n",
    "canvas"
   ]
  },
  {
   "cell_type": "code",
   "execution_count": null,
   "id": "fe56d1f8-899b-415b-8a05-580c1e2cc8b9",
   "metadata": {},
   "outputs": [],
   "source": []
  },
  {
   "cell_type": "code",
   "execution_count": null,
   "id": "42586f3b-7239-447e-afae-752763ba8970",
   "metadata": {},
   "outputs": [],
   "source": []
  },
  {
   "cell_type": "code",
   "execution_count": null,
   "id": "f8fcf48a-104f-4632-a9f4-b8a6ed638ac6",
   "metadata": {},
   "outputs": [],
   "source": []
  },
  {
   "cell_type": "code",
   "execution_count": null,
   "id": "df7f547f-282b-4773-b427-f0cc31cfa655",
   "metadata": {},
   "outputs": [],
   "source": []
  },
  {
   "cell_type": "code",
   "execution_count": null,
   "id": "fd09dd0c-5fc1-46ab-8c84-b1836bb71ad5",
   "metadata": {},
   "outputs": [],
   "source": []
  },
  {
   "cell_type": "code",
   "execution_count": null,
   "id": "0abff40e-c0ef-4c03-b2f0-88959ecc1b9c",
   "metadata": {},
   "outputs": [],
   "source": []
  },
  {
   "cell_type": "code",
   "execution_count": 9,
   "id": "ce3dc450-8c3c-4c13-8c1c-8c79c9f1b50a",
   "metadata": {},
   "outputs": [],
   "source": [
    "def owl():\n",
    "    '''\n",
    "\n",
    "    This function is a test. No need to change anything.\n",
    "\n",
    "    >>> owl()\n",
    "    . . . . . . . . . . . . . . . . . . . . . . . . . . . . . .\n",
    "    . . . . . . . . . . . . . . . . . . . . . . . . . . . . . .\n",
    "    . . . . . . . . . . . . . . . . . . . . . . . . . . . . . .\n",
    "    . . . . . . . . . . . . . . . . . . . . . . . . . . . . . .\n",
    "    . . . . . . . . . . . . . . . . . . . . # # # # # . . . . .\n",
    "    . . . . . . . . . . . . . . . . . . . # # # . . . . . . . .\n",
    "    . . . . . . . . . . . . . . . . . . # # # . . . . . . . . .\n",
    "    . . . . . . . . . . . . . . . . . . # # # . . . . . . . . .\n",
    "    . . . . . . . . . . . . . . . . . . # # # . . . . . . . . .\n",
    "    . . . . . . . . . . . . . . . . . . # # # . . . . . . . . .\n",
    "    . . . . . . . . . . . . . . . . . . # # # . . . . . . . . .\n",
    "    . . . . . . . . . . . . . . . . . . . # # # . . . . . . . .\n",
    "    . . . . . . . . . . . . . . . . . . . . # # # # # . . . . .\n",
    "    . . . . . . . . . . . . . . . . . . . . . . . . . . . . . .\n",
    "    . . . . . . . . . . . . . . . . . . . . . . . . . . . . . .\n",
    "    . . . . . . . . . . . . . . . . . . . . . . . . . . . . . .\n",
    "    . . . . . . . . . . . . . . . . . . . . . . . . . . . . . .\n",
    "    . . . . . . . . . . . . . . . . . . . . . . . . . . . . . .\n",
    "    . . . . . = = . . . . . . = = . . . . . . . . . . . . . . .\n",
    "    . . . . . = = . . . . . . = = . . . . . . . . . . . . . . .\n",
    "    . . . . . = = = = = = = = = = . . . . . . . . . . . . . . .\n",
    "    . . . . . = = = = = = = = = = . . . . . . . . . . . . . . .\n",
    "    . . . . . =       = =       = . . . . . . . . . . . . . . .\n",
    "    . . . . . =       = =       = . . . . . . . . . . . . . . .\n",
    "    . . . . . =       = =       = . . . . . . . . . . . . . . .\n",
    "    . . . . . = = = = = = = = = = . . . . . . . . . . . . . . .\n",
    "    . . . . . = = = = = = = = = = . . . . . . . . . . . . . . .\n",
    "    . . . . . = = = = = = = = = = . . . . . . . . . . . . . . .\n",
    "    . . . . . = = = = = = = = = = . . . . . . . . . . . . . . .\n",
    "    . . . . . = = = = = = = = = = . . . . . . . . . . . . . . .\n",
    "    \n",
    "    '''\n",
    "    shapes = [\n",
    "        ['disc', '#', 22, 8, 5],\n",
    "        ['disc', '.', 24, 8, 4],\n",
    "        ['rect', '=', 5, 18, 10, 12],\n",
    "        ['rect', ' ', 6, 22, 3, 3],\n",
    "        ['rect', ' ', 11, 22, 3, 3],\n",
    "        ['rect', '.', 7, 18, 6, 2],\n",
    "        ]\n",
    "        \n",
    "    render(draw(shapes, 30, 30))\n"
   ]
  },
  {
   "cell_type": "code",
   "execution_count": 10,
   "id": "34a712b1-223a-4c58-b70f-b0a939e99ef2",
   "metadata": {},
   "outputs": [
    {
     "name": "stdout",
     "output_type": "stream",
     "text": [
      ". . . . . . . . . . . . . . . . . . . . . . . . . . . . . .\n",
      ". . . . . . . . . . . . . . . . . . . . . . . . . . . . . .\n",
      ". . . . . . . . . . . . . . . . . . . . . . . . . . . . . .\n",
      ". . . . . . . . . . . . . . . . . . . . . . . . . . . . . .\n",
      ". . . . . . . . . . . . . . . . . . . . . . . . . . . . . .\n",
      ". . . . . . . . . . . . . . . . . . . . . . . . . . . . . .\n",
      ". . . . . . . . . . . . . . . . . . . . . . . . . . . . . .\n",
      ". . . . . . . . . . . . . . . . . . . . . . . . . . . . . .\n",
      ". . . . . . . . . . . . . . . . . . . . . . . . . . . . . .\n",
      ". . . . . . . . . . . . . . . . . . . . . . . . . . . . . .\n",
      ". . . . . . . . . . . . . . . . . . . . . . . . . . . . . .\n",
      ". . . . . . . . . . . . . . . . . . . . . . . . . . . . . .\n",
      ". . . . . . . . . . . . . . . . . . . . . . . . . . . . . .\n",
      ". . . . . . . . . . . . . . . . . . . . . . . . . . . . . .\n",
      ". . . . . . . . . . . . . . . . . . . . . . . . . . . . . .\n",
      ". . . . . . . . . . . . . . . . . . . . . . . . . . . . . .\n",
      ". . . . . . . . . . . . . . . . . . . . . . . . . . . . . .\n",
      ". . . . . . . . . . . . . . . . . . . . . . . . . . . . . .\n",
      ". . . . . . . . . . . . . . . . . . . . . . . . . . . . . .\n",
      ". . . . . . . . . . . . . . . . . . . . . . . . . . . . . .\n",
      ". . . . . . . . . . . . . . . . . . . . . . . . . . . . . .\n",
      ". . . . . . . . . . . . . . . . . . . . . . . . . . . . . .\n",
      ". . . . . . . . . . . . . . . . . . . . . . . . . . . . . .\n",
      ". . . . . . . . . . . . . . . . . . . . . . . . . . . . . .\n",
      ". . . . . . . . . . . . . . . . . . . . . . . . . . . . . .\n",
      ". . . . . . . . . . . . . . . . . . . . . . . . . . . . . .\n",
      ". . . . . . . . . . . . . . . . . . . . . . . . . . . . . .\n",
      ". . . . . . . . . . . . . . . . . . . . . . . . . . . . . .\n",
      ". . . . . . . . . . . . . . . . . . . . . . . . . . . . . .\n",
      ". . . . . . . . . . . . . . . . . . . . . . . . . . . . . .\n"
     ]
    }
   ],
   "source": [
    "owl()"
   ]
  },
  {
   "cell_type": "code",
   "execution_count": null,
   "id": "648cdd49-f556-436a-a91e-fb379d6e0e6e",
   "metadata": {},
   "outputs": [],
   "source": []
  },
  {
   "cell_type": "code",
   "execution_count": null,
   "id": "456c7a55-c614-4d7f-b187-3ec9a139b55c",
   "metadata": {},
   "outputs": [],
   "source": [
    "def my_drawing():\n",
    "    \n",
    "    # Draw a picture of whatever you like. \n",
    "\n",
    "    # No doctests needed for this function.\n",
    "\n",
    "    # For this function, run it using $ python draw.py\n",
    "\n",
    "    # Set width, height as you like.\n",
    "    height, width = 30, 30\n",
    "    \n",
    "    shapes = [\n",
    "        ## YOUR CODE HERE\n",
    "    ]\n",
    "    render(draw(shapes, height, width))\n",
    "\n",
    "    \n",
    "if __name__ == '__main__':\n",
    "    my_drawing()"
   ]
  },
  {
   "cell_type": "code",
   "execution_count": null,
   "id": "afe7bc6b-e8a8-46fd-8b64-732dbec71fa4",
   "metadata": {},
   "outputs": [],
   "source": []
  }
 ],
 "metadata": {
  "kernelspec": {
   "display_name": "Python 3 (ipykernel)",
   "language": "python",
   "name": "python3"
  },
  "language_info": {
   "codemirror_mode": {
    "name": "ipython",
    "version": 3
   },
   "file_extension": ".py",
   "mimetype": "text/x-python",
   "name": "python",
   "nbconvert_exporter": "python",
   "pygments_lexer": "ipython3",
   "version": "3.9.12"
  }
 },
 "nbformat": 4,
 "nbformat_minor": 5
}
