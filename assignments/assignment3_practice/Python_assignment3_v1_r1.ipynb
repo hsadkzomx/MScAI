{
 "cells": [
  {
   "cell_type": "code",
   "execution_count": 6,
   "id": "b47c8667-ebcc-45b5-9914-f5dd5e7c7a8f",
   "metadata": {},
   "outputs": [
    {
     "name": "stdout",
     "output_type": "stream",
     "text": [
      "39\n"
     ]
    }
   ],
   "source": [
    "fname1 = \"societies1.txt\"\n",
    "fname2 = \"societies2.txt\"\n",
    "\n",
    "f = open(fname1)\n",
    "for i in f:\n",
    "    count = sum(1 for _ in f)\n",
    "print(count)               "
   ]
  },
  {
   "cell_type": "code",
   "execution_count": 9,
   "id": "1691183d-43bf-4b4c-b5ac-99dfe610b6fe",
   "metadata": {},
   "outputs": [
    {
     "name": "stdout",
     "output_type": "stream",
     "text": [
      "[\"{'Karate Club': ['Witch'\", '']\n",
      "[\"'Squid Game Triangle'\", '']\n",
      "[\"'Ghost'\", '']\n",
      "[\"'Cinderella'\", '']\n",
      "[\"'Dracula']\", '']\n",
      "[\"'Debating Society': ['Harrison'\", \" 'Gabriel'\", \" 'The Fly'\", \" 'Cockroach']\", '']\n",
      "[\"'Musical Society': ['The Fly'\", \" 'Elon'\", \" 'Spire']\", '']\n",
      "[\"'History Society': ['Elon'\", '']\n",
      "[\"'Ronaldo'\", '']\n",
      "[\"'Lettuce'\", '']\n",
      "[\"'King Kong'\", '']\n",
      "[\"'Squid Game Square']\", '']\n",
      "[\"'Football Club': ['Frankenstein'\", '']\n",
      "[\"'Zombie'\", '']\n",
      "[\"'Starr'\", '']\n",
      "[\"'Ripley'\", '']\n",
      "[\"'Duke Nukem'\", '']\n",
      "[\"'Giant Spider']\", '']\n",
      "[\"'Formula 1 Club': ['Winnie the Pooh'\", \" 'Ghost'\", \" 'Papa Smurf']\", '']\n",
      "[\"'Woodworking Society': ['Lilo'\", \" 'Nemo'\", \" 'Duke Nukem']\", '']\n",
      "[\"'Calligraphy Society': ['Cockroach'\", \" 'Ronaldo'\", \" 'Pumpkin']\", '']\n",
      "[\"'Hackers': ['Lilo'\", \" 'Squid Game Circle']\", '']\n",
      "[\"'Investment Society': ['The Witcher'\", '']\n",
      "[\"'Lilo'\", '']\n",
      "[\"'Elon'\", '']\n",
      "[\"'Pocahontas'\", '']\n",
      "[\"'Squid Game Square'\", '']\n",
      "[\"'Witch']\", '']\n",
      "[\"'Enlightenment': ['Goblin Queen'\", '']\n",
      "[\"'Woody'\", '']\n",
      "[\"'Mutant'\", '']\n",
      "[\"'Squid Game Circle'\", '']\n",
      "[\"'Lettuce']\", '']\n",
      "[\"'Young Communists': ['Buzz'\", '']\n",
      "[\"'Gabriel'\", '']\n",
      "[\"'Winnie the Pooh'\", '']\n",
      "[\"'Godzilla'\", '']\n",
      "[\"'Leia']\", '']\n",
      "[\"'Journalists Club': ['King Kong'\", \" 'Gabriel']}\"]\n",
      "['']\n"
     ]
    }
   ],
   "source": [
    "f = open(fname1)\n",
    "for line in f:\n",
    "    x = line.strip().split(\",\")\n",
    "    print(x)\n",
    "    #G.add_edge(n1, n2)"
   ]
  },
  {
   "cell_type": "code",
   "execution_count": null,
   "id": "0abba54f-351a-4204-a6c4-02accf417340",
   "metadata": {},
   "outputs": [],
   "source": []
  },
  {
   "cell_type": "code",
   "execution_count": null,
   "id": "95dff1a5-8c1d-4690-b8ab-04ccf397fe5a",
   "metadata": {},
   "outputs": [],
   "source": []
  },
  {
   "cell_type": "code",
   "execution_count": null,
   "id": "fd2cecf1-664a-4d29-9540-33fcb3b2c740",
   "metadata": {},
   "outputs": [],
   "source": []
  },
  {
   "cell_type": "code",
   "execution_count": null,
   "id": "f5baaf9f-ee21-4cd7-8860-bc2d43f43ce3",
   "metadata": {},
   "outputs": [],
   "source": []
  },
  {
   "cell_type": "code",
   "execution_count": null,
   "id": "2d0ce3ba-b469-4e2c-88ef-482be005891d",
   "metadata": {},
   "outputs": [],
   "source": []
  },
  {
   "cell_type": "code",
   "execution_count": null,
   "id": "f5b4eae1-26f2-45bf-a219-444a47889275",
   "metadata": {},
   "outputs": [],
   "source": []
  }
 ],
 "metadata": {
  "kernelspec": {
   "display_name": "Python 3 (ipykernel)",
   "language": "python",
   "name": "python3"
  },
  "language_info": {
   "codemirror_mode": {
    "name": "ipython",
    "version": 3
   },
   "file_extension": ".py",
   "mimetype": "text/x-python",
   "name": "python",
   "nbconvert_exporter": "python",
   "pygments_lexer": "ipython3",
   "version": "3.9.13"
  }
 },
 "nbformat": 4,
 "nbformat_minor": 5
}
