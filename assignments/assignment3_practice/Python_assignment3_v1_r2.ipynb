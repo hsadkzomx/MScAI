{
 "cells": [
  {
   "cell_type": "code",
   "execution_count": 64,
   "id": "b47c8667-ebcc-45b5-9914-f5dd5e7c7a8f",
   "metadata": {},
   "outputs": [],
   "source": [
    "fname1 = \"societies1.txt\"\n",
    "fname2 = \"societies2.txt\"\n",
    "\n",
    "f1 = open(fname1).read()\n",
    "# for i in f1:\n",
    "#     count1 = sum(1 for _ in f1)\n",
    "# print(count1)      \n",
    "\n",
    "# f2 = open(fname2)\n",
    "# for i in f2:\n",
    "#     count2 = sum(1 for _ in f2)\n",
    "# print(count2)      "
   ]
  },
  {
   "cell_type": "code",
   "execution_count": 90,
   "id": "2d0ce3ba-b469-4e2c-88ef-482be005891d",
   "metadata": {},
   "outputs": [
    {
     "name": "stdout",
     "output_type": "stream",
     "text": [
      "['Witch', 'Squid Game Triangle', 'Ghost', 'Cinderella', 'Dracula']\n"
     ]
    }
   ],
   "source": [
    "import json\n",
    "import ast\n",
    "s = open(fname1).read()\n",
    "\n",
    "dict_f = ast.literal_eval(s)\n",
    "\n",
    "print(json_data['Karate Club'])"
   ]
  },
  {
   "cell_type": "code",
   "execution_count": null,
   "id": "26098851-5505-4f9a-82fe-8dcb36a92e2e",
   "metadata": {},
   "outputs": [],
   "source": []
  },
  {
   "cell_type": "code",
   "execution_count": null,
   "id": "4f043737-1283-4b2b-ae5c-e4e7997fbd6f",
   "metadata": {},
   "outputs": [],
   "source": []
  }
 ],
 "metadata": {
  "kernelspec": {
   "display_name": "Python 3 (ipykernel)",
   "language": "python",
   "name": "python3"
  },
  "language_info": {
   "codemirror_mode": {
    "name": "ipython",
    "version": 3
   },
   "file_extension": ".py",
   "mimetype": "text/x-python",
   "name": "python",
   "nbconvert_exporter": "python",
   "pygments_lexer": "ipython3",
   "version": "3.9.13"
  }
 },
 "nbformat": 4,
 "nbformat_minor": 5
}
