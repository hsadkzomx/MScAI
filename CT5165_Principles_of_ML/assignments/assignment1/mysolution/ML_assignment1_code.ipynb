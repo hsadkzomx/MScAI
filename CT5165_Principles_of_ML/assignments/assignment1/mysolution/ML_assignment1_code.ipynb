{
 "cells": [
  {
   "cell_type": "code",
   "execution_count": 1,
   "id": "92614596-4294-4eae-a012-c2441cb91e08",
   "metadata": {},
   "outputs": [
    {
     "name": "stdout",
     "output_type": "stream",
     "text": [
      "Accuracy: 1.0\n"
     ]
    }
   ],
   "source": [
    "# importing libraries\n",
    "import pandas as pd\n",
    "import collections\n",
    "\n",
    "from sklearn import preprocessing\n",
    "from sklearn.tree import DecisionTreeClassifier\n",
    "from sklearn import metrics\n",
    "\n",
    "# load training and testing data\n",
    "train_data = pd.read_csv(\"plant-data/plant-train.csv\")\n",
    "test_data = pd.read_csv(\"plant-data/plant-test.csv\")\n",
    "\n",
    "# splitting training dataset in features and targets\n",
    "X_train = train_data.iloc[:, :-1]\n",
    "y_train = train_data.iloc[:, [-1]]\n",
    "\n",
    "# splitting testing dataset in features and targets\n",
    "X_test = test_data.iloc[:, :-1]\n",
    "y_test = test_data.iloc[:, [-1]]\n",
    "\n",
    "# Building Decision Tree Model\n",
    "dt_clf = DecisionTreeClassifier() # create decision tree classifer\n",
    "dt_clf = dt_clf.fit(X_train, y_train) # train decision tree classifer\n",
    "y_pred = dt_clf.predict(X_test)\n",
    "\n",
    "# Evaluating Model with Model Accuracy\n",
    "print(\"Accuracy:\",metrics.accuracy_score(y_test, y_pred))"
   ]
  },
  {
   "cell_type": "code",
   "execution_count": 5,
   "id": "8dcfce51-2f35-4db4-aff8-6b4e1897a619",
   "metadata": {},
   "outputs": [
    {
     "name": "stdout",
     "output_type": "stream",
     "text": [
      "Accuracy: 1.0\n"
     ]
    }
   ],
   "source": [
    "# importing libraries\n",
    "import pandas as pd\n",
    "import collections\n",
    "\n",
    "from sklearn import preprocessing\n",
    "from sklearn.tree import DecisionTreeClassifier\n",
    "from sklearn import metrics\n",
    "\n",
    "# load training and testing data\n",
    "train_data = pd.read_csv(\"plant-data/plant-train.csv\")\n",
    "test_data = pd.read_csv(\"plant-data/plant-test.csv\")\n",
    "\n",
    "# splitting training dataset in features and targets\n",
    "X_train = train_data.iloc[:, :-1]\n",
    "y_train = train_data.iloc[:, [-1]]\n",
    "\n",
    "# splitting testing dataset in features and targets\n",
    "X_test = test_data.iloc[:, :-1]\n",
    "y_test = test_data.iloc[:, [-1]]\n",
    "\n",
    "# normalise the data\n",
    "X_train_normalise = preprocessing.normalize(X_train)\n",
    "X_test_normalise = preprocessing.normalize(X_test)\n",
    "\n",
    "dt_clf = DecisionTreeClassifier() # create decision tree classifer\n",
    "dt_clf = dt_clf.fit(X_train_normalise, y_train) # train decision tree classifer\n",
    "y_pred = dt_clf.predict(X_test_normalise)\n",
    "\n",
    "# Evaluating Model with Model Accuracy\n",
    "print(\"Accuracy:\",metrics.accuracy_score(y_test, y_pred))"
   ]
  },
  {
   "cell_type": "code",
   "execution_count": 9,
   "id": "67bc06ae-b932-40cc-b729-518fa5307a19",
   "metadata": {},
   "outputs": [
    {
     "name": "stdout",
     "output_type": "stream",
     "text": [
      "Accuracy: 1.0\n"
     ]
    },
    {
     "name": "stderr",
     "output_type": "stream",
     "text": [
      "/usr/local/anaconda3/lib/python3.8/site-packages/sklearn/utils/validation.py:63: DataConversionWarning: A column-vector y was passed when a 1d array was expected. Please change the shape of y to (n_samples, ), for example using ravel().\n",
      "  return f(*args, **kwargs)\n"
     ]
    }
   ],
   "source": [
    "# importing libraries\n",
    "from sklearn.naive_bayes import MultinomialNB\n",
    "from tqdm import tqdm\n",
    "from sklearn.metrics import classification_report\n",
    "\n",
    "# load training and testing data\n",
    "train_data = pd.read_csv(\"plant-data/plant-train.csv\")\n",
    "test_data = pd.read_csv(\"plant-data/plant-test.csv\")\n",
    "\n",
    "# splitting training dataset in features and targets\n",
    "X_train = train_data.iloc[:, :-1]\n",
    "y_train = train_data.iloc[:, [-1]]\n",
    "\n",
    "# splitting testing dataset in features and targets\n",
    "X_test = test_data.iloc[:, :-1]\n",
    "y_test = test_data.iloc[:, [-1]]\n",
    "\n",
    "NB_clf = MultinomialNB() # create Naive Bayes classifer\n",
    "NB_clf = NB_clf.fit(X_train, y_train)\n",
    "y_pred = NB_clf.predict(X_test)\n",
    "\n",
    "# Evaluating Model with Model Accuracy\n",
    "print(\"Accuracy:\",metrics.accuracy_score(y_test, y_pred))"
   ]
  },
  {
   "cell_type": "code",
   "execution_count": 10,
   "id": "6730e137-48de-4958-aa2c-342770c99c72",
   "metadata": {},
   "outputs": [
    {
     "name": "stdout",
     "output_type": "stream",
     "text": [
      "Accuracy: 1.0\n"
     ]
    },
    {
     "name": "stderr",
     "output_type": "stream",
     "text": [
      "/usr/local/anaconda3/lib/python3.8/site-packages/sklearn/utils/validation.py:63: DataConversionWarning: A column-vector y was passed when a 1d array was expected. Please change the shape of y to (n_samples, ), for example using ravel().\n",
      "  return f(*args, **kwargs)\n"
     ]
    }
   ],
   "source": [
    "# importing libraries\n",
    "from sklearn.naive_bayes import MultinomialNB\n",
    "from tqdm import tqdm\n",
    "from sklearn.metrics import classification_report\n",
    "\n",
    "# load training and testing data\n",
    "train_data = pd.read_csv(\"plant-data/plant-train.csv\")\n",
    "test_data = pd.read_csv(\"plant-data/plant-test.csv\")\n",
    "\n",
    "# splitting training dataset in features and targets\n",
    "X_train = train_data.iloc[:, :-1]\n",
    "y_train = train_data.iloc[:, [-1]]\n",
    "\n",
    "# splitting testing dataset in features and targets\n",
    "X_test = test_data.iloc[:, :-1]\n",
    "y_test = test_data.iloc[:, [-1]]\n",
    "\n",
    "# normalise the data\n",
    "X_train_normalise = preprocessing.normalize(X_train)\n",
    "X_test_normalise = preprocessing.normalize(X_test)\n",
    "\n",
    "NB_clf = MultinomialNB() # create Naive Bayes classifer\n",
    "NB_clf = NB_clf.fit(X_train_normalise, y_train)\n",
    "y_pred = NB_clf.predict(X_test_normalise)\n",
    "\n",
    "# Evaluating Model with Model Accuracy\n",
    "print(\"Accuracy:\",metrics.accuracy_score(y_test, y_pred))"
   ]
  },
  {
   "cell_type": "code",
   "execution_count": null,
   "id": "4a6482ba-00b7-4847-a8d6-db11242c08ec",
   "metadata": {},
   "outputs": [],
   "source": []
  }
 ],
 "metadata": {
  "kernelspec": {
   "display_name": "Python 3",
   "language": "python",
   "name": "python3"
  },
  "language_info": {
   "codemirror_mode": {
    "name": "ipython",
    "version": 3
   },
   "file_extension": ".py",
   "mimetype": "text/x-python",
   "name": "python",
   "nbconvert_exporter": "python",
   "pygments_lexer": "ipython3",
   "version": "3.8.8"
  }
 },
 "nbformat": 4,
 "nbformat_minor": 5
}
