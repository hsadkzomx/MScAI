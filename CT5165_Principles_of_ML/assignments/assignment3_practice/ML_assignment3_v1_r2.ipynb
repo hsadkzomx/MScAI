{
 "cells": [
  {
   "cell_type": "markdown",
   "id": "22a6426d-cc4a-459a-94cb-fdfbca29f4a4",
   "metadata": {},
   "source": [
    "# CT5165 Principles of Machine Learning Assignment 3\n",
    "\n",
    "### Jiarong Li\n",
    "\n",
    "### ID 20230033, 1MA1"
   ]
  },
  {
   "cell_type": "markdown",
   "id": "db500556-e6cd-4e7b-ad5b-1da960163b38",
   "metadata": {},
   "source": [
    "## Introduction\n",
    "\n",
    "The goal of this assignment is for you to gain practical experience of performing regression on a real world dataset. This is the code part."
   ]
  },
  {
   "cell_type": "markdown",
   "id": "6f883682-716d-43c9-b080-4d02ac239ad9",
   "metadata": {},
   "source": [
    "## Import libraries"
   ]
  },
  {
   "cell_type": "code",
   "execution_count": 14,
   "id": "2c9bb67f-2476-44f0-8536-07f6439093a3",
   "metadata": {},
   "outputs": [],
   "source": [
    "import numpy as np\n",
    "import pandas as pd\n",
    "#import seaborn as sns\n",
    "import matplotlib.pyplot as plt\n",
    "\n",
    "from sklearn import preprocessing, svm\n",
    "from sklearn.model_selection import train_test_split\n",
    "from sklearn.linear_model import LinearRegression\n",
    "from sklearn.preprocessing import OneHotEncoder # one hot encoding\n",
    "from sklearn.preprocessing import OrdinalEncoder\n",
    "from sklearn.model_selection import cross_val_score # for cross validation\n",
    "\n",
    "from sklearn.model_selection import KFold\n",
    "from sklearn.feature_selection import RFE\n",
    "from sklearn.model_selection import GridSearchCV\n",
    "\n",
    "from sklearn.pipeline import make_pipeline"
   ]
  },
  {
   "cell_type": "markdown",
   "id": "b5304e82-f474-4008-9994-eb1b64268b99",
   "metadata": {},
   "source": [
    "## Dataset\n",
    "\n",
    "Each row describes one individual instance in the dataset. \n",
    "\n",
    "The attributes in train.csv are in columns in the following order:\n",
    "\n",
    "ID, temperature, var1, pressure, windspeed, var2, and electricity_consumption.\n",
    "\n",
    "The test.csv file is same as train however, the electricity_consumption column is missing.\n",
    "\n",
    "In this dataset, one or more of the attributes e.g. var2 are categorical and others are continuous. \n",
    "\n",
    "The values (A, B, or C) in this attribute do not have a natural ordering. \n",
    "\n",
    "It will be necessary to encode the categorical attributes as numeric values using ordinal encoding or one-hot encoding before applying your chosen regression algorithms. \n",
    "\n",
    "For a further information on how to encode categorical variables, you may wish to consult the following free online resources:\n",
    "https://machinelearningmastery.com/one-hot-encoding-for-categorical-data/"
   ]
  },
  {
   "cell_type": "markdown",
   "id": "07c38f16-8203-472e-9992-e62b710f4487",
   "metadata": {},
   "source": [
    "### Data pre-processing"
   ]
  },
  {
   "cell_type": "code",
   "execution_count": 15,
   "id": "bf44c606-9fcf-498f-a180-8139c94076fb",
   "metadata": {},
   "outputs": [],
   "source": [
    "def data_preprocess(data_path, train=True):\n",
    "    df = pd.read_csv(data_path, \n",
    "                     header=0, \n",
    "                     parse_dates=['datetime'], infer_datetime_format=True\n",
    "                    )\n",
    "    #df_original = train_df\n",
    "    #one_hot_encoder = OneHotEncoder(sparse=False)\n",
    "    orinal_encoder = OrdinalEncoder()\n",
    "    \n",
    "    df['Year'] = df.datetime.dt.year\n",
    "    df['Month'] = df.datetime.dt.month\n",
    "    time = np.array(df.datetime.dt.time).reshape(-1, 1)\n",
    "    df['Time'] = orinal_encoder.fit_transform(time)\n",
    "    \n",
    "\n",
    "    var2 = np.array(df[\"var2\"]).reshape(-1, 1)\n",
    "    \n",
    "    var_2_ordinal = orinal_encoder.fit_transform(var2) # transform data\n",
    "    df[\"var_2_ordinal\"] = var_2_ordinal #.tolist()\n",
    "    \n",
    "    if train == True:\n",
    "        labels = df[\"electricity_consumption\"].to_numpy()\n",
    "        df = df.drop(columns=[\"datetime\", \"ID\", \"var2\", \"electricity_consumption\"])\n",
    "\n",
    "    else:\n",
    "        df = df.drop(columns=[\"datetime\", \"ID\", \"var2\"])\n",
    "        labels = np.array([])\n",
    "    \n",
    "    X = df.to_numpy()\n",
    "\n",
    "    return X, labels"
   ]
  },
  {
   "cell_type": "code",
   "execution_count": 16,
   "id": "76684416-747c-43cd-a29e-91bbf2450799",
   "metadata": {},
   "outputs": [],
   "source": [
    "train_data_path = \"Electricity-Consumption/train.csv\"\n",
    "test_data_path = \"Electricity-Consumption/test.csv\""
   ]
  },
  {
   "cell_type": "code",
   "execution_count": 17,
   "id": "a309567b-063f-4800-ac6c-f0452f57ac5f",
   "metadata": {},
   "outputs": [
    {
     "name": "stdout",
     "output_type": "stream",
     "text": [
      "(26496, 8)\n",
      "(26496,)\n"
     ]
    }
   ],
   "source": [
    "X_train, y_train = data_preprocess(train_data_path)\n",
    "print(X_train.shape)\n",
    "print(y_train.shape)"
   ]
  },
  {
   "cell_type": "code",
   "execution_count": 9,
   "id": "be08100c-04ef-4037-beb1-3c6c7550b89f",
   "metadata": {},
   "outputs": [
    {
     "name": "stdout",
     "output_type": "stream",
     "text": [
      "(0,)\n",
      "(8568, 8)\n"
     ]
    }
   ],
   "source": [
    "X_test, none = data_preprocess(test_data_path, train=False)\n",
    "print(none.shape)\n",
    "print(X_test.shape)"
   ]
  },
  {
   "cell_type": "markdown",
   "id": "74baf019-3448-4d4d-a98b-c5334f38a12b",
   "metadata": {},
   "source": [
    "## Cross validation"
   ]
  },
  {
   "cell_type": "markdown",
   "id": "61e70ff0-24f5-4c31-b890-e70257e7103a",
   "metadata": {},
   "source": [
    "### Linear regression\n",
    "\n",
    "code ref: https://www.kaggle.com/code/jnikhilsai/cross-validation-with-linear-regression#0.-Experiments-to-Understand-Overfitting"
   ]
  },
  {
   "cell_type": "code",
   "execution_count": 18,
   "id": "6b4a0d51-d9ab-464a-94a2-85878e618a16",
   "metadata": {},
   "outputs": [],
   "source": [
    "linear_regression = LinearRegression()"
   ]
  },
  {
   "cell_type": "code",
   "execution_count": 22,
   "id": "dce14933-6603-4063-aadd-bc973ad037f8",
   "metadata": {},
   "outputs": [],
   "source": [
    "scoring = [\"r2\", \"neg_mean_absolute_error\", \"neg_mean_squared_error\"]\n",
    "hyper_params = [{'n_features_to_select': list(range(1, 9))}]\n",
    "\n",
    "# create a KFold object with 5 splits \n",
    "kfolds = KFold(n_splits = 5, shuffle = True, random_state = 100)\n",
    "# for s in scoring:\n",
    "#     scores = cross_val_score(linear_regression, X_train, y_train, scoring=s, cv=kfolds)\n",
    "    \n",
    "#     #view mean absolute error\n",
    "#     mse = np.mean(np.absolute(scores))  # In general, the lower the MAE, the more closely a model is able to predict the actual observations.\n",
    "    \n",
    "#     #view RMSE \n",
    "#     rmse = np.sqrt(np.mean(np.absolute(scores)))  # The lower the RMSE, the more closely a model is able to predict the actual observations.\n",
    "    \n",
    "#     print(f\"scoring = {s}:\\nscore = {scores}\\nmse = {mse}\\nrmse = {rmse}\\n\\n\")\n"
   ]
  },
  {
   "cell_type": "code",
   "execution_count": 24,
   "id": "bff05cf5-20d3-4797-9bbc-9a2a889880d2",
   "metadata": {
    "tags": []
   },
   "outputs": [
    {
     "name": "stdout",
     "output_type": "stream",
     "text": [
      "21196 5300\n",
      "21197 5299\n",
      "21197 5299\n",
      "21197 5299\n",
      "21197 5299\n"
     ]
    }
   ],
   "source": [
    "for train, validation in kfolds.split(X_train):\n",
    "    print(len(X_train[train]), len(X_train[validation]))"
   ]
  },
  {
   "cell_type": "markdown",
   "id": "2f7a5d25-d759-4f93-8c18-2fa91ab12a17",
   "metadata": {},
   "source": [
    "#### Hyperparameter Tuning Using Grid Search Cross-Validation\n",
    "\n",
    "A common use of cross-validation is for tuning hyperparameters of a model. The most common technique is what is called grid search cross-validation."
   ]
  },
  {
   "cell_type": "code",
   "execution_count": 32,
   "id": "643e0d2b-2305-47d5-a8ff-77ebd8c77a51",
   "metadata": {},
   "outputs": [
    {
     "name": "stdout",
     "output_type": "stream",
     "text": [
      "Fitting 5 folds for each of 8 candidates, totalling 40 fits\n",
      "Fitting 5 folds for each of 8 candidates, totalling 40 fits\n",
      "Fitting 5 folds for each of 8 candidates, totalling 40 fits\n",
      "[GridSearchCV(cv=KFold(n_splits=5, random_state=100, shuffle=True),\n",
      "             estimator=RFE(estimator=LinearRegression()),\n",
      "             param_grid=[{'n_features_to_select': [1, 2, 3, 4, 5, 6, 7, 8]}],\n",
      "             return_train_score=True, scoring='r2', verbose=1), GridSearchCV(cv=KFold(n_splits=5, random_state=100, shuffle=True),\n",
      "             estimator=RFE(estimator=LinearRegression()),\n",
      "             param_grid=[{'n_features_to_select': [1, 2, 3, 4, 5, 6, 7, 8]}],\n",
      "             return_train_score=True, scoring='neg_mean_absolute_error',\n",
      "             verbose=1), GridSearchCV(cv=KFold(n_splits=5, random_state=100, shuffle=True),\n",
      "             estimator=RFE(estimator=LinearRegression()),\n",
      "             param_grid=[{'n_features_to_select': [1, 2, 3, 4, 5, 6, 7, 8]}],\n",
      "             return_train_score=True, scoring='neg_mean_squared_error',\n",
      "             verbose=1)]\n"
     ]
    }
   ],
   "source": [
    "# Hyperparameter Tuning Using Grid Search Cross-Validation\n",
    "\n",
    "# step-3: perform grid search\n",
    "# 3.1 specify model\n",
    "linear_regression = LinearRegression()\n",
    "linear_regression.fit(X_train, y_train)\n",
    "rfe = RFE(linear_regression)             \n",
    "models = []\n",
    "# 3.2 call GridSearchCV()\n",
    "for i in scoring:\n",
    "    model_cv = GridSearchCV(estimator = rfe, \n",
    "                        param_grid = hyper_params, \n",
    "                        scoring= i, \n",
    "                        cv = folds, \n",
    "                        verbose = 1,\n",
    "                        return_train_score=True)  \n",
    "    model_cv.fit(X_train, y_train)    \n",
    "    models.append(model_cv)\n",
    "\n",
    "print(models)"
   ]
  },
  {
   "cell_type": "code",
   "execution_count": 37,
   "id": "7b2469ff-016a-4f70-944f-4702b48d3391",
   "metadata": {},
   "outputs": [
    {
     "name": "stdout",
     "output_type": "stream",
     "text": [
      "0.2281414279640158\n",
      "-68.43979423077523\n",
      "-9006.293592502212\n"
     ]
    }
   ],
   "source": [
    "for i in models:\n",
    "    print(i.best_score_)"
   ]
  },
  {
   "cell_type": "code",
   "execution_count": null,
   "id": "7a3ef156-549f-4c06-ab2c-8e761f56cfe5",
   "metadata": {},
   "outputs": [],
   "source": []
  },
  {
   "cell_type": "code",
   "execution_count": 30,
   "id": "23efb1ca-b92b-495c-b726-191ba2ab220e",
   "metadata": {},
   "outputs": [
    {
     "data": {
      "text/html": [
       "<div>\n",
       "<style scoped>\n",
       "    .dataframe tbody tr th:only-of-type {\n",
       "        vertical-align: middle;\n",
       "    }\n",
       "\n",
       "    .dataframe tbody tr th {\n",
       "        vertical-align: top;\n",
       "    }\n",
       "\n",
       "    .dataframe thead th {\n",
       "        text-align: right;\n",
       "    }\n",
       "</style>\n",
       "<table border=\"1\" class=\"dataframe\">\n",
       "  <thead>\n",
       "    <tr style=\"text-align: right;\">\n",
       "      <th></th>\n",
       "      <th>mean_fit_time</th>\n",
       "      <th>std_fit_time</th>\n",
       "      <th>mean_score_time</th>\n",
       "      <th>std_score_time</th>\n",
       "      <th>param_n_features_to_select</th>\n",
       "      <th>params</th>\n",
       "      <th>split0_test_score</th>\n",
       "      <th>split1_test_score</th>\n",
       "      <th>split2_test_score</th>\n",
       "      <th>split3_test_score</th>\n",
       "      <th>...</th>\n",
       "      <th>mean_test_score</th>\n",
       "      <th>std_test_score</th>\n",
       "      <th>rank_test_score</th>\n",
       "      <th>split0_train_score</th>\n",
       "      <th>split1_train_score</th>\n",
       "      <th>split2_train_score</th>\n",
       "      <th>split3_train_score</th>\n",
       "      <th>split4_train_score</th>\n",
       "      <th>mean_train_score</th>\n",
       "      <th>std_train_score</th>\n",
       "    </tr>\n",
       "  </thead>\n",
       "  <tbody>\n",
       "    <tr>\n",
       "      <th>0</th>\n",
       "      <td>0.018597</td>\n",
       "      <td>0.004717</td>\n",
       "      <td>0.000215</td>\n",
       "      <td>0.000038</td>\n",
       "      <td>1</td>\n",
       "      <td>{'n_features_to_select': 1}</td>\n",
       "      <td>-12149.840400</td>\n",
       "      <td>-11255.797798</td>\n",
       "      <td>-11235.364203</td>\n",
       "      <td>-11600.974976</td>\n",
       "      <td>...</td>\n",
       "      <td>-11508.976578</td>\n",
       "      <td>346.582935</td>\n",
       "      <td>7</td>\n",
       "      <td>-11347.419595</td>\n",
       "      <td>-11570.693541</td>\n",
       "      <td>-11575.672372</td>\n",
       "      <td>-11484.451162</td>\n",
       "      <td>-11558.880183</td>\n",
       "      <td>-11507.423371</td>\n",
       "      <td>86.530659</td>\n",
       "    </tr>\n",
       "    <tr>\n",
       "      <th>1</th>\n",
       "      <td>0.019214</td>\n",
       "      <td>0.003623</td>\n",
       "      <td>0.003702</td>\n",
       "      <td>0.002683</td>\n",
       "      <td>2</td>\n",
       "      <td>{'n_features_to_select': 2}</td>\n",
       "      <td>-12149.808374</td>\n",
       "      <td>-11257.354111</td>\n",
       "      <td>-11236.171415</td>\n",
       "      <td>-11601.657581</td>\n",
       "      <td>...</td>\n",
       "      <td>-11509.578622</td>\n",
       "      <td>346.253305</td>\n",
       "      <td>8</td>\n",
       "      <td>-11347.413167</td>\n",
       "      <td>-11570.566285</td>\n",
       "      <td>-11575.536610</td>\n",
       "      <td>-11484.332422</td>\n",
       "      <td>-11558.865807</td>\n",
       "      <td>-11507.342858</td>\n",
       "      <td>86.497618</td>\n",
       "    </tr>\n",
       "    <tr>\n",
       "      <th>2</th>\n",
       "      <td>0.019402</td>\n",
       "      <td>0.004397</td>\n",
       "      <td>0.003245</td>\n",
       "      <td>0.001571</td>\n",
       "      <td>3</td>\n",
       "      <td>{'n_features_to_select': 3}</td>\n",
       "      <td>-10167.451391</td>\n",
       "      <td>-9344.246441</td>\n",
       "      <td>-9406.118657</td>\n",
       "      <td>-9732.900472</td>\n",
       "      <td>...</td>\n",
       "      <td>-9636.724824</td>\n",
       "      <td>296.789946</td>\n",
       "      <td>6</td>\n",
       "      <td>-9500.521848</td>\n",
       "      <td>-9706.412059</td>\n",
       "      <td>-9690.465419</td>\n",
       "      <td>-9609.080028</td>\n",
       "      <td>-9658.890565</td>\n",
       "      <td>-9633.073984</td>\n",
       "      <td>74.141115</td>\n",
       "    </tr>\n",
       "    <tr>\n",
       "      <th>3</th>\n",
       "      <td>0.019804</td>\n",
       "      <td>0.002434</td>\n",
       "      <td>0.001411</td>\n",
       "      <td>0.000748</td>\n",
       "      <td>4</td>\n",
       "      <td>{'n_features_to_select': 4}</td>\n",
       "      <td>-9987.900914</td>\n",
       "      <td>-9146.871287</td>\n",
       "      <td>-9162.090597</td>\n",
       "      <td>-9469.615626</td>\n",
       "      <td>...</td>\n",
       "      <td>-9413.287895</td>\n",
       "      <td>309.927024</td>\n",
       "      <td>5</td>\n",
       "      <td>-9265.151563</td>\n",
       "      <td>-9475.439009</td>\n",
       "      <td>-9471.083756</td>\n",
       "      <td>-9394.831424</td>\n",
       "      <td>-9436.719269</td>\n",
       "      <td>-9408.645004</td>\n",
       "      <td>77.368448</td>\n",
       "    </tr>\n",
       "    <tr>\n",
       "      <th>4</th>\n",
       "      <td>0.015569</td>\n",
       "      <td>0.005919</td>\n",
       "      <td>0.001391</td>\n",
       "      <td>0.001138</td>\n",
       "      <td>5</td>\n",
       "      <td>{'n_features_to_select': 5}</td>\n",
       "      <td>-9983.804446</td>\n",
       "      <td>-9151.397215</td>\n",
       "      <td>-9158.127931</td>\n",
       "      <td>-9472.116665</td>\n",
       "      <td>...</td>\n",
       "      <td>-9383.377197</td>\n",
       "      <td>324.571874</td>\n",
       "      <td>4</td>\n",
       "      <td>-9261.577777</td>\n",
       "      <td>-9469.936300</td>\n",
       "      <td>-9467.464926</td>\n",
       "      <td>-9389.739712</td>\n",
       "      <td>-9296.863176</td>\n",
       "      <td>-9377.116378</td>\n",
       "      <td>85.705882</td>\n",
       "    </tr>\n",
       "    <tr>\n",
       "      <th>5</th>\n",
       "      <td>0.013419</td>\n",
       "      <td>0.004468</td>\n",
       "      <td>0.002298</td>\n",
       "      <td>0.000879</td>\n",
       "      <td>6</td>\n",
       "      <td>{'n_features_to_select': 6}</td>\n",
       "      <td>-9833.226234</td>\n",
       "      <td>-8975.950562</td>\n",
       "      <td>-9032.342954</td>\n",
       "      <td>-9366.113117</td>\n",
       "      <td>...</td>\n",
       "      <td>-9218.009311</td>\n",
       "      <td>348.171066</td>\n",
       "      <td>3</td>\n",
       "      <td>-9120.968242</td>\n",
       "      <td>-9335.589188</td>\n",
       "      <td>-9320.698109</td>\n",
       "      <td>-9238.288329</td>\n",
       "      <td>-9030.908838</td>\n",
       "      <td>-9209.290541</td>\n",
       "      <td>117.324104</td>\n",
       "    </tr>\n",
       "    <tr>\n",
       "      <th>6</th>\n",
       "      <td>0.009293</td>\n",
       "      <td>0.003886</td>\n",
       "      <td>0.002499</td>\n",
       "      <td>0.001116</td>\n",
       "      <td>7</td>\n",
       "      <td>{'n_features_to_select': 7}</td>\n",
       "      <td>-9549.617569</td>\n",
       "      <td>-8710.282861</td>\n",
       "      <td>-8767.505321</td>\n",
       "      <td>-9123.047173</td>\n",
       "      <td>...</td>\n",
       "      <td>-9006.293593</td>\n",
       "      <td>306.323114</td>\n",
       "      <td>1</td>\n",
       "      <td>-8863.664297</td>\n",
       "      <td>-9073.594060</td>\n",
       "      <td>-9058.706371</td>\n",
       "      <td>-8970.740367</td>\n",
       "      <td>-9030.275528</td>\n",
       "      <td>-8999.396124</td>\n",
       "      <td>76.447182</td>\n",
       "    </tr>\n",
       "    <tr>\n",
       "      <th>7</th>\n",
       "      <td>0.006324</td>\n",
       "      <td>0.002985</td>\n",
       "      <td>0.003246</td>\n",
       "      <td>0.001358</td>\n",
       "      <td>8</td>\n",
       "      <td>{'n_features_to_select': 8}</td>\n",
       "      <td>-9551.885904</td>\n",
       "      <td>-8712.372473</td>\n",
       "      <td>-8768.055589</td>\n",
       "      <td>-9121.081512</td>\n",
       "      <td>...</td>\n",
       "      <td>-9006.706135</td>\n",
       "      <td>306.564609</td>\n",
       "      <td>2</td>\n",
       "      <td>-8862.147982</td>\n",
       "      <td>-9072.118556</td>\n",
       "      <td>-9057.532446</td>\n",
       "      <td>-8970.651114</td>\n",
       "      <td>-9030.262796</td>\n",
       "      <td>-8998.542579</td>\n",
       "      <td>76.525579</td>\n",
       "    </tr>\n",
       "  </tbody>\n",
       "</table>\n",
       "<p>8 rows × 21 columns</p>\n",
       "</div>"
      ],
      "text/plain": [
       "   mean_fit_time  std_fit_time  mean_score_time  std_score_time  \\\n",
       "0       0.018597      0.004717         0.000215        0.000038   \n",
       "1       0.019214      0.003623         0.003702        0.002683   \n",
       "2       0.019402      0.004397         0.003245        0.001571   \n",
       "3       0.019804      0.002434         0.001411        0.000748   \n",
       "4       0.015569      0.005919         0.001391        0.001138   \n",
       "5       0.013419      0.004468         0.002298        0.000879   \n",
       "6       0.009293      0.003886         0.002499        0.001116   \n",
       "7       0.006324      0.002985         0.003246        0.001358   \n",
       "\n",
       "  param_n_features_to_select                       params  split0_test_score  \\\n",
       "0                          1  {'n_features_to_select': 1}      -12149.840400   \n",
       "1                          2  {'n_features_to_select': 2}      -12149.808374   \n",
       "2                          3  {'n_features_to_select': 3}      -10167.451391   \n",
       "3                          4  {'n_features_to_select': 4}       -9987.900914   \n",
       "4                          5  {'n_features_to_select': 5}       -9983.804446   \n",
       "5                          6  {'n_features_to_select': 6}       -9833.226234   \n",
       "6                          7  {'n_features_to_select': 7}       -9549.617569   \n",
       "7                          8  {'n_features_to_select': 8}       -9551.885904   \n",
       "\n",
       "   split1_test_score  split2_test_score  split3_test_score  ...  \\\n",
       "0      -11255.797798      -11235.364203      -11600.974976  ...   \n",
       "1      -11257.354111      -11236.171415      -11601.657581  ...   \n",
       "2       -9344.246441       -9406.118657       -9732.900472  ...   \n",
       "3       -9146.871287       -9162.090597       -9469.615626  ...   \n",
       "4       -9151.397215       -9158.127931       -9472.116665  ...   \n",
       "5       -8975.950562       -9032.342954       -9366.113117  ...   \n",
       "6       -8710.282861       -8767.505321       -9123.047173  ...   \n",
       "7       -8712.372473       -8768.055589       -9121.081512  ...   \n",
       "\n",
       "   mean_test_score  std_test_score  rank_test_score  split0_train_score  \\\n",
       "0    -11508.976578      346.582935                7       -11347.419595   \n",
       "1    -11509.578622      346.253305                8       -11347.413167   \n",
       "2     -9636.724824      296.789946                6        -9500.521848   \n",
       "3     -9413.287895      309.927024                5        -9265.151563   \n",
       "4     -9383.377197      324.571874                4        -9261.577777   \n",
       "5     -9218.009311      348.171066                3        -9120.968242   \n",
       "6     -9006.293593      306.323114                1        -8863.664297   \n",
       "7     -9006.706135      306.564609                2        -8862.147982   \n",
       "\n",
       "   split1_train_score  split2_train_score  split3_train_score  \\\n",
       "0       -11570.693541       -11575.672372       -11484.451162   \n",
       "1       -11570.566285       -11575.536610       -11484.332422   \n",
       "2        -9706.412059        -9690.465419        -9609.080028   \n",
       "3        -9475.439009        -9471.083756        -9394.831424   \n",
       "4        -9469.936300        -9467.464926        -9389.739712   \n",
       "5        -9335.589188        -9320.698109        -9238.288329   \n",
       "6        -9073.594060        -9058.706371        -8970.740367   \n",
       "7        -9072.118556        -9057.532446        -8970.651114   \n",
       "\n",
       "   split4_train_score  mean_train_score  std_train_score  \n",
       "0       -11558.880183     -11507.423371        86.530659  \n",
       "1       -11558.865807     -11507.342858        86.497618  \n",
       "2        -9658.890565      -9633.073984        74.141115  \n",
       "3        -9436.719269      -9408.645004        77.368448  \n",
       "4        -9296.863176      -9377.116378        85.705882  \n",
       "5        -9030.908838      -9209.290541       117.324104  \n",
       "6        -9030.275528      -8999.396124        76.447182  \n",
       "7        -9030.262796      -8998.542579        76.525579  \n",
       "\n",
       "[8 rows x 21 columns]"
      ]
     },
     "execution_count": 30,
     "metadata": {},
     "output_type": "execute_result"
    }
   ],
   "source": [
    "# cv results\n",
    "cv_results = pd.DataFrame(model_cv.cv_results_)\n",
    "cv_results\n",
    "\n",
    "# model_cv.cv_results_"
   ]
  },
  {
   "cell_type": "code",
   "execution_count": 250,
   "id": "0dc3a1d6-93b8-4e3f-9f6d-59063072f556",
   "metadata": {},
   "outputs": [
    {
     "data": {
      "text/plain": [
       "<matplotlib.legend.Legend at 0x295164cd0>"
      ]
     },
     "execution_count": 250,
     "metadata": {},
     "output_type": "execute_result"
    },
    {
     "data": {
      "image/png": "[encoded data removed]",
      "text/plain": [
       "<Figure size 800x300 with 1 Axes>"
      ]
     },
     "metadata": {},
     "output_type": "display_data"
    }
   ],
   "source": [
    "# plotting cv results\n",
    "plt.figure(figsize=(8,3))\n",
    "\n",
    "#plt.plot(cv_results[\"param_n_features_to_select\"], cv_results[\"mean_test_score\"])\n",
    "plt.plot(cv_results[\"param_n_features_to_select\"], cv_results[\"mean_train_score\"])\n",
    "plt.xlabel('number of features')\n",
    "plt.ylabel('r-squared')\n",
    "plt.title(\"Optimal Number of Features\")\n",
    "plt.legend(['test score', 'train score'], loc='upper left')"
   ]
  },
  {
   "cell_type": "markdown",
   "id": "6d8f0a3f-bfec-4362-acfb-07dda563f79c",
   "metadata": {},
   "source": [
    "Now we can choose the optimal value of number of features and build a final model."
   ]
  },
  {
   "cell_type": "code",
   "execution_count": 237,
   "id": "da3873d5-b5d0-4117-88d3-e78e9c4eda7f",
   "metadata": {},
   "outputs": [
    {
     "data": {
      "text/html": [
       "<style>#sk-container-id-4 {color: black;background-color: white;}#sk-container-id-4 pre{padding: 0;}#sk-container-id-4 div.sk-toggleable {background-color: white;}#sk-container-id-4 label.sk-toggleable__label {cursor: pointer;display: block;width: 100%;margin-bottom: 0;padding: 0.3em;box-sizing: border-box;text-align: center;}#sk-container-id-4 label.sk-toggleable__label-arrow:before {content: \"▸\";float: left;margin-right: 0.25em;color: #696969;}#sk-container-id-4 label.sk-toggleable__label-arrow:hover:before {color: black;}#sk-container-id-4 div.sk-estimator:hover label.sk-toggleable__label-arrow:before {color: black;}#sk-container-id-4 div.sk-toggleable__content {max-height: 0;max-width: 0;overflow: hidden;text-align: left;background-color: #f0f8ff;}#sk-container-id-4 div.sk-toggleable__content pre {margin: 0.2em;color: black;border-radius: 0.25em;background-color: #f0f8ff;}#sk-container-id-4 input.sk-toggleable__control:checked~div.sk-toggleable__content {max-height: 200px;max-width: 100%;overflow: auto;}#sk-container-id-4 input.sk-toggleable__control:checked~label.sk-toggleable__label-arrow:before {content: \"▾\";}#sk-container-id-4 div.sk-estimator input.sk-toggleable__control:checked~label.sk-toggleable__label {background-color: #d4ebff;}#sk-container-id-4 div.sk-label input.sk-toggleable__control:checked~label.sk-toggleable__label {background-color: #d4ebff;}#sk-container-id-4 input.sk-hidden--visually {border: 0;clip: rect(1px 1px 1px 1px);clip: rect(1px, 1px, 1px, 1px);height: 1px;margin: -1px;overflow: hidden;padding: 0;position: absolute;width: 1px;}#sk-container-id-4 div.sk-estimator {font-family: monospace;background-color: #f0f8ff;border: 1px dotted black;border-radius: 0.25em;box-sizing: border-box;margin-bottom: 0.5em;}#sk-container-id-4 div.sk-estimator:hover {background-color: #d4ebff;}#sk-container-id-4 div.sk-parallel-item::after {content: \"\";width: 100%;border-bottom: 1px solid gray;flex-grow: 1;}#sk-container-id-4 div.sk-label:hover label.sk-toggleable__label {background-color: #d4ebff;}#sk-container-id-4 div.sk-serial::before {content: \"\";position: absolute;border-left: 1px solid gray;box-sizing: border-box;top: 0;bottom: 0;left: 50%;z-index: 0;}#sk-container-id-4 div.sk-serial {display: flex;flex-direction: column;align-items: center;background-color: white;padding-right: 0.2em;padding-left: 0.2em;position: relative;}#sk-container-id-4 div.sk-item {position: relative;z-index: 1;}#sk-container-id-4 div.sk-parallel {display: flex;align-items: stretch;justify-content: center;background-color: white;position: relative;}#sk-container-id-4 div.sk-item::before, #sk-container-id-4 div.sk-parallel-item::before {content: \"\";position: absolute;border-left: 1px solid gray;box-sizing: border-box;top: 0;bottom: 0;left: 50%;z-index: -1;}#sk-container-id-4 div.sk-parallel-item {display: flex;flex-direction: column;z-index: 1;position: relative;background-color: white;}#sk-container-id-4 div.sk-parallel-item:first-child::after {align-self: flex-end;width: 50%;}#sk-container-id-4 div.sk-parallel-item:last-child::after {align-self: flex-start;width: 50%;}#sk-container-id-4 div.sk-parallel-item:only-child::after {width: 0;}#sk-container-id-4 div.sk-dashed-wrapped {border: 1px dashed gray;margin: 0 0.4em 0.5em 0.4em;box-sizing: border-box;padding-bottom: 0.4em;background-color: white;}#sk-container-id-4 div.sk-label label {font-family: monospace;font-weight: bold;display: inline-block;line-height: 1.2em;}#sk-container-id-4 div.sk-label-container {text-align: center;}#sk-container-id-4 div.sk-container {/* jupyter's `normalize.less` sets `[hidden] { display: none; }` but bootstrap.min.css set `[hidden] { display: none !important; }` so we also need the `!important` here to be able to override the default hidden behavior on the sphinx rendered scikit-learn.org. See: https://github.com/scikit-learn/scikit-learn/issues/21755 */display: inline-block !important;position: relative;}#sk-container-id-4 div.sk-text-repr-fallback {display: none;}</style><div id=\"sk-container-id-4\" class=\"sk-top-container\"><div class=\"sk-text-repr-fallback\"><pre>RFE(estimator=LinearRegression(), n_features_to_select=7)</pre><b>In a Jupyter environment, please rerun this cell to show the HTML representation or trust the notebook. <br />On GitHub, the HTML representation is unable to render, please try loading this page with nbviewer.org.</b></div><div class=\"sk-container\" hidden><div class=\"sk-item sk-dashed-wrapped\"><div class=\"sk-label-container\"><div class=\"sk-label sk-toggleable\"><input class=\"sk-toggleable__control sk-hidden--visually\" id=\"sk-estimator-id-11\" type=\"checkbox\" ><label for=\"sk-estimator-id-11\" class=\"sk-toggleable__label sk-toggleable__label-arrow\">RFE</label><div class=\"sk-toggleable__content\"><pre>RFE(estimator=LinearRegression(), n_features_to_select=7)</pre></div></div></div><div class=\"sk-parallel\"><div class=\"sk-parallel-item\"><div class=\"sk-item\"><div class=\"sk-label-container\"><div class=\"sk-label sk-toggleable\"><input class=\"sk-toggleable__control sk-hidden--visually\" id=\"sk-estimator-id-12\" type=\"checkbox\" ><label for=\"sk-estimator-id-12\" class=\"sk-toggleable__label sk-toggleable__label-arrow\">estimator: LinearRegression</label><div class=\"sk-toggleable__content\"><pre>LinearRegression()</pre></div></div></div><div class=\"sk-serial\"><div class=\"sk-item\"><div class=\"sk-estimator sk-toggleable\"><input class=\"sk-toggleable__control sk-hidden--visually\" id=\"sk-estimator-id-13\" type=\"checkbox\" ><label for=\"sk-estimator-id-13\" class=\"sk-toggleable__label sk-toggleable__label-arrow\">LinearRegression</label><div class=\"sk-toggleable__content\"><pre>LinearRegression()</pre></div></div></div></div></div></div></div></div></div></div>"
      ],
      "text/plain": [
       "RFE(estimator=LinearRegression(), n_features_to_select=7)"
      ]
     },
     "execution_count": 237,
     "metadata": {},
     "output_type": "execute_result"
    }
   ],
   "source": [
    "model_cv.best_estimator_"
   ]
  },
  {
   "cell_type": "code",
   "execution_count": 238,
   "id": "64593b03-94b3-4b96-ab78-a8e4e2f26ff2",
   "metadata": {},
   "outputs": [
    {
     "data": {
      "text/plain": [
       "0.2281414279640158"
      ]
     },
     "execution_count": 238,
     "metadata": {},
     "output_type": "execute_result"
    }
   ],
   "source": [
    "model_cv.best_score_"
   ]
  },
  {
   "cell_type": "code",
   "execution_count": 255,
   "id": "a41ae3c9-16df-4ee0-89d8-fdcc123c7e12",
   "metadata": {},
   "outputs": [
    {
     "data": {
      "text/plain": [
       "{'n_features_to_select': 7}"
      ]
     },
     "execution_count": 255,
     "metadata": {},
     "output_type": "execute_result"
    }
   ],
   "source": [
    "model_cv.best_params_"
   ]
  },
  {
   "cell_type": "code",
   "execution_count": null,
   "id": "98f1e468-d24e-4c8b-8c4c-752a97ce002c",
   "metadata": {},
   "outputs": [],
   "source": []
  },
  {
   "cell_type": "code",
   "execution_count": null,
   "id": "6f5353cf-416c-469e-a6ff-3e7545464f9a",
   "metadata": {},
   "outputs": [],
   "source": []
  },
  {
   "cell_type": "code",
   "execution_count": null,
   "id": "e1e1eba7-042d-4991-9322-ebf95f461791",
   "metadata": {},
   "outputs": [],
   "source": []
  },
  {
   "cell_type": "code",
   "execution_count": null,
   "id": "82b5045a-3de0-4e37-8c18-33cb0206aff9",
   "metadata": {},
   "outputs": [],
   "source": []
  },
  {
   "cell_type": "code",
   "execution_count": null,
   "id": "a71abd38-ca44-4f21-8ec9-b1854e768aff",
   "metadata": {},
   "outputs": [],
   "source": []
  }
 ],
 "metadata": {
  "kernelspec": {
   "display_name": "Python 3 (ipykernel)",
   "language": "python",
   "name": "python3"
  },
  "language_info": {
   "codemirror_mode": {
    "name": "ipython",
    "version": 3
   },
   "file_extension": ".py",
   "mimetype": "text/x-python",
   "name": "python",
   "nbconvert_exporter": "python",
   "pygments_lexer": "ipython3",
   "version": "3.9.13"
  }
 },
 "nbformat": 4,
 "nbformat_minor": 5
}
