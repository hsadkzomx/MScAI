{
 "cells": [
  {
   "cell_type": "code",
   "execution_count": 2,
   "id": "901d0a80-61eb-455f-9373-7af62e8dabfa",
   "metadata": {},
   "outputs": [
    {
     "name": "stderr",
     "output_type": "stream",
     "text": [
      "[nltk_data] Downloading package wordnet to\n",
      "[nltk_data]     /Users/jiarongli/nltk_data...\n",
      "[nltk_data]   Package wordnet is already up-to-date!\n",
      "[nltk_data] Downloading package omw-1.4 to\n",
      "[nltk_data]     /Users/jiarongli/nltk_data...\n",
      "[nltk_data]   Package omw-1.4 is already up-to-date!\n",
      "[nltk_data] Downloading package punkt to /Users/jiarongli/nltk_data...\n",
      "[nltk_data]   Package punkt is already up-to-date!\n",
      "[nltk_data] Error loading average_perceptron_tagger: Package\n",
      "[nltk_data]     'average_perceptron_tagger' not found in index\n",
      "[nltk_data] Downloading package stopwords to\n",
      "[nltk_data]     /Users/jiarongli/nltk_data...\n",
      "[nltk_data]   Package stopwords is already up-to-date!\n",
      "[nltk_data] Downloading package brown to /Users/jiarongli/nltk_data...\n",
      "[nltk_data]   Package brown is already up-to-date!\n",
      "[nltk_data] Downloading package movie_reviews to\n",
      "[nltk_data]     /Users/jiarongli/nltk_data...\n",
      "[nltk_data]   Package movie_reviews is already up-to-date!\n"
     ]
    },
    {
     "data": {
      "text/plain": [
       "True"
      ]
     },
     "execution_count": 2,
     "metadata": {},
     "output_type": "execute_result"
    }
   ],
   "source": [
    "import nltk\n",
    "nltk.download('wordnet')\n",
    "nltk.download('omw-1.4')\n",
    "nltk.download('punkt')\n",
    "nltk.download('average_perceptron_tagger')\n",
    "nltk.download('stopwords')\n",
    "nltk.download('brown')\n",
    "nltk.download('movie_reviews')"
   ]
  },
  {
   "cell_type": "code",
   "execution_count": 5,
   "id": "53e301d6-61a3-4f1f-89cf-8f4bef87c273",
   "metadata": {},
   "outputs": [
    {
     "name": "stdout",
     "output_type": "stream",
     "text": [
      "final datasets, train examples: 1360, val examples: 240, test examples: 400\n"
     ]
    }
   ],
   "source": [
    "# Construct dataset for activity\n",
    "# We'll load movie statement dataset from nltk into a pandas dataframe for ease of use\n",
    "\n",
    "from nltk.corpus import movie_reviews\n",
    "import pandas as pd\n",
    "from sklearn.model_selection import train_test_split\n",
    "\n",
    "pos_ids = movie_reviews.fileids('pos')\n",
    "neg_ids = movie_reviews.fileids('neg')\n",
    "\n",
    "pos_reviews = []\n",
    "for id in pos_ids:\n",
    "    pos_reviews.append(movie_reviews.raw(fileids=id))\n",
    "\n",
    "neg_reviews = []\n",
    "for id in neg_ids:\n",
    "    neg_reviews.append(movie_reviews.raw(fileids=id))\n",
    "    \n",
    "pos_df = pd.DataFrame({\"text\": pos_reviews, \"label\": [1] * len(pos_reviews)})\n",
    "neg_df = pd.DataFrame({\"text\": neg_reviews, \"label\": [0] * len(neg_reviews)})\n",
    "\n",
    "df = pd.concat([pos_df, neg_df])\n",
    "\n",
    "train, test = train_test_split(df, random_state=2023, stratify=df[\"label\"], test_size=.20)\n",
    "train, val = train_test_split(train, random_state=2023, stratify=train[\"label\"], test_size=.15)\n",
    "\n",
    "print(f\"final datasets, train examples: {len(train)}, val examples: {len(val)}, test examples: {len(test)}\")"
   ]
  },
  {
   "cell_type": "code",
   "execution_count": 6,
   "id": "1dc54732-6b2a-4980-8b3b-498fe5985a3f",
   "metadata": {},
   "outputs": [],
   "source": [
    "def preprocess_text(text:str) -> str:\n",
    "    \"\"\"\n",
    "    Method as input a essy string and return a clean and normalised string\n",
    "    The clean processs is as follows:\n",
    "        1. lowercase string\n",
    "        2. remove all non-alpha characters\n",
    "    \"\"\"\n",
    "    \n",
    "    # 1. lowercase the string\n",
    "    text = text.lower()\n",
    "    \n",
    "    # 2. Strip all non alpha characters\n",
    "    text = \"\".join([char for char in text if char.isalpha() or char == ' '])\n",
    "    \n",
    "    return text"
   ]
  },
  {
   "cell_type": "code",
   "execution_count": 7,
   "id": "5496efbf-ffb1-44dd-8a25-5270559581dd",
   "metadata": {},
   "outputs": [
    {
     "name": "stdout",
     "output_type": "stream",
     "text": [
      "Function output: the quick brown foxes jumped over the lazy dogs\n",
      "Function test: True\n"
     ]
    }
   ],
   "source": [
    "messy_text = 'The 3)quick bro*&wn foxes ju#$mped over t<>he l\"~azy dogs.'\n",
    "clean_text = \"the quick brown foxes jumped over the lazy dogs\"\n",
    "\n",
    "print(f\"Function output: {preprocess_text(messy_text)}\")\n",
    "print(f\"Function test: {preprocess_text(messy_text) == clean_text}\")"
   ]
  },
  {
   "cell_type": "code",
   "execution_count": 9,
   "id": "3b9adb60-7d45-4ce9-99df-dbbecd993622",
   "metadata": {},
   "outputs": [],
   "source": [
    "train[\"cleaned_text\"] = train[\"text\"].apply(preprocess_text)\n",
    "test[\"cleaned_text\"] = test[\"text\"].apply(preprocess_text)"
   ]
  },
  {
   "cell_type": "code",
   "execution_count": 11,
   "id": "184b73cb-c9e9-4bf4-ba77-d32c107aadd8",
   "metadata": {},
   "outputs": [],
   "source": [
    "import nltk\n",
    "from nltk.stem import WordNetLemmatizer\n",
    "\n",
    "lemmatizer = WordNetLemmatizer()\n",
    "\n",
    "def lemmatize_sentence(text):\n",
    "    return \" \".join(lemmatizer.lemmatize(tok) for tok in text.split())\n",
    "\n",
    "train[\"cleaned_text\"] = train[\"cleaned_text\"].apply(lemmatize_sentence)\n",
    "test[\"cleaned_text\"] = test[\"cleaned_text\"].apply(lemmatize_sentence)"
   ]
  },
  {
   "cell_type": "code",
   "execution_count": 14,
   "id": "20d9840f-23d9-45ba-ab16-ed468dd180d6",
   "metadata": {},
   "outputs": [
    {
     "data": {
      "text/plain": [
       "874    ingredient man with amnesia who wake up wanted...\n",
       "542    dont let the following quirk of this review fo...\n",
       "788    you leave little note on my pillow i told you ...\n",
       "403    my fellow american is a movie that at first gl...\n",
       "808    did claus von bulow try to kill his wife sunny...\n",
       "                             ...                        \n",
       "426    by now i figured id seen every alfred hitchcoc...\n",
       "399    the year is and the military is conducting nuc...\n",
       "486    where do i begin okay how about with this star...\n",
       "476    a backdrop of new year eve in would seem to le...\n",
       "126    plot a separated glamorous hollywood couple mu...\n",
       "Name: cleaned_text, Length: 1360, dtype: object"
      ]
     },
     "execution_count": 14,
     "metadata": {},
     "output_type": "execute_result"
    }
   ],
   "source": [
    "train[\"cleaned_text\"]"
   ]
  },
  {
   "cell_type": "code",
   "execution_count": 17,
   "id": "6d2332b2-2f18-4cd1-bd1a-485ab6ba0861",
   "metadata": {},
   "outputs": [
    {
     "data": {
      "text/html": [
       "<style>#sk-container-id-1 {color: black;background-color: white;}#sk-container-id-1 pre{padding: 0;}#sk-container-id-1 div.sk-toggleable {background-color: white;}#sk-container-id-1 label.sk-toggleable__label {cursor: pointer;display: block;width: 100%;margin-bottom: 0;padding: 0.3em;box-sizing: border-box;text-align: center;}#sk-container-id-1 label.sk-toggleable__label-arrow:before {content: \"▸\";float: left;margin-right: 0.25em;color: #696969;}#sk-container-id-1 label.sk-toggleable__label-arrow:hover:before {color: black;}#sk-container-id-1 div.sk-estimator:hover label.sk-toggleable__label-arrow:before {color: black;}#sk-container-id-1 div.sk-toggleable__content {max-height: 0;max-width: 0;overflow: hidden;text-align: left;background-color: #f0f8ff;}#sk-container-id-1 div.sk-toggleable__content pre {margin: 0.2em;color: black;border-radius: 0.25em;background-color: #f0f8ff;}#sk-container-id-1 input.sk-toggleable__control:checked~div.sk-toggleable__content {max-height: 200px;max-width: 100%;overflow: auto;}#sk-container-id-1 input.sk-toggleable__control:checked~label.sk-toggleable__label-arrow:before {content: \"▾\";}#sk-container-id-1 div.sk-estimator input.sk-toggleable__control:checked~label.sk-toggleable__label {background-color: #d4ebff;}#sk-container-id-1 div.sk-label input.sk-toggleable__control:checked~label.sk-toggleable__label {background-color: #d4ebff;}#sk-container-id-1 input.sk-hidden--visually {border: 0;clip: rect(1px 1px 1px 1px);clip: rect(1px, 1px, 1px, 1px);height: 1px;margin: -1px;overflow: hidden;padding: 0;position: absolute;width: 1px;}#sk-container-id-1 div.sk-estimator {font-family: monospace;background-color: #f0f8ff;border: 1px dotted black;border-radius: 0.25em;box-sizing: border-box;margin-bottom: 0.5em;}#sk-container-id-1 div.sk-estimator:hover {background-color: #d4ebff;}#sk-container-id-1 div.sk-parallel-item::after {content: \"\";width: 100%;border-bottom: 1px solid gray;flex-grow: 1;}#sk-container-id-1 div.sk-label:hover label.sk-toggleable__label {background-color: #d4ebff;}#sk-container-id-1 div.sk-serial::before {content: \"\";position: absolute;border-left: 1px solid gray;box-sizing: border-box;top: 0;bottom: 0;left: 50%;z-index: 0;}#sk-container-id-1 div.sk-serial {display: flex;flex-direction: column;align-items: center;background-color: white;padding-right: 0.2em;padding-left: 0.2em;position: relative;}#sk-container-id-1 div.sk-item {position: relative;z-index: 1;}#sk-container-id-1 div.sk-parallel {display: flex;align-items: stretch;justify-content: center;background-color: white;position: relative;}#sk-container-id-1 div.sk-item::before, #sk-container-id-1 div.sk-parallel-item::before {content: \"\";position: absolute;border-left: 1px solid gray;box-sizing: border-box;top: 0;bottom: 0;left: 50%;z-index: -1;}#sk-container-id-1 div.sk-parallel-item {display: flex;flex-direction: column;z-index: 1;position: relative;background-color: white;}#sk-container-id-1 div.sk-parallel-item:first-child::after {align-self: flex-end;width: 50%;}#sk-container-id-1 div.sk-parallel-item:last-child::after {align-self: flex-start;width: 50%;}#sk-container-id-1 div.sk-parallel-item:only-child::after {width: 0;}#sk-container-id-1 div.sk-dashed-wrapped {border: 1px dashed gray;margin: 0 0.4em 0.5em 0.4em;box-sizing: border-box;padding-bottom: 0.4em;background-color: white;}#sk-container-id-1 div.sk-label label {font-family: monospace;font-weight: bold;display: inline-block;line-height: 1.2em;}#sk-container-id-1 div.sk-label-container {text-align: center;}#sk-container-id-1 div.sk-container {/* jupyter's `normalize.less` sets `[hidden] { display: none; }` but bootstrap.min.css set `[hidden] { display: none !important; }` so we also need the `!important` here to be able to override the default hidden behavior on the sphinx rendered scikit-learn.org. See: https://github.com/scikit-learn/scikit-learn/issues/21755 */display: inline-block !important;position: relative;}#sk-container-id-1 div.sk-text-repr-fallback {display: none;}</style><div id=\"sk-container-id-1\" class=\"sk-top-container\"><div class=\"sk-text-repr-fallback\"><pre>CountVectorizer(max_df=0.6, ngram_range=(1, 3), stop_words=&#x27;english&#x27;)</pre><b>In a Jupyter environment, please rerun this cell to show the HTML representation or trust the notebook. <br />On GitHub, the HTML representation is unable to render, please try loading this page with nbviewer.org.</b></div><div class=\"sk-container\" hidden><div class=\"sk-item\"><div class=\"sk-estimator sk-toggleable\"><input class=\"sk-toggleable__control sk-hidden--visually\" id=\"sk-estimator-id-1\" type=\"checkbox\" checked><label for=\"sk-estimator-id-1\" class=\"sk-toggleable__label sk-toggleable__label-arrow\">CountVectorizer</label><div class=\"sk-toggleable__content\"><pre>CountVectorizer(max_df=0.6, ngram_range=(1, 3), stop_words=&#x27;english&#x27;)</pre></div></div></div></div></div>"
      ],
      "text/plain": [
       "CountVectorizer(max_df=0.6, ngram_range=(1, 3), stop_words='english')"
      ]
     },
     "execution_count": 17,
     "metadata": {},
     "output_type": "execute_result"
    }
   ],
   "source": [
    "# generate Frequencies for the positive labels\n",
    "import nltk\n",
    "import numpy as np\n",
    "from sklearn.feature_extraction.text import CountVectorizer\n",
    "\n",
    "positive_examples = train.query(\"label == 1\")[\"cleaned_text\"].tolist()\n",
    "cv = CountVectorizer(stop_words=\"english\", ngram_range=(1, 3), max_df=.6)\n",
    "cv.fit(positive_examples)"
   ]
  },
  {
   "cell_type": "code",
   "execution_count": 42,
   "id": "865ef7ac-5205-458b-be46-ad8f2a8dbf30",
   "metadata": {},
   "outputs": [
    {
     "name": "stdout",
     "output_type": "stream",
     "text": [
      "story: 939\n",
      "good: 846\n",
      "life: 824\n",
      "way: 665\n",
      "year: 631\n",
      "doe: 595\n",
      "performance: 584\n",
      "best: 560\n",
      "little: 559\n",
      "thing: 557\n",
      "people: 553\n",
      "come: 552\n",
      "really: 525\n",
      "great: 517\n",
      "work: 500\n"
     ]
    }
   ],
   "source": [
    "id2vocab = {v:k for k,v in cv.vocabulary_.items()}\n",
    "\n",
    "pos_matrix = cv.transform(positive_examples)\n",
    "counts = np.array(np.sum(pos_matrix, axis=0))[0]\n",
    "sorted_mat = np.argsort(counts)[::-1]\n",
    "\n",
    "# # top 15 tokens\n",
    "for val in sorted_mat[:15]:\n",
    "    print(f\"{id2vocab[val]}: {counts[val]}\")"
   ]
  },
  {
   "cell_type": "code",
   "execution_count": 44,
   "id": "54bdcabc-fe38-4430-9ac5-763be324d4cb",
   "metadata": {},
   "outputs": [],
   "source": [
    "# generate input features\n",
    "from sklearn.feature_extraction.text import TfidfVectorizer\n",
    "\n",
    "# We'll use the TFIDF instead of pure counts as it provides the model additional information\n",
    "tfidf = TfidfVectorizer(\n",
    "    stop_words = \"english\", # use english stopwords\n",
    "    ngram_range = (1, 3), # generate ngrams\n",
    "    max_df = .6, # corpus level stopwords: words that frequently occur in corpus\n",
    "    max_features = 20000, # maximum vocabulary size\n",
    ")\n",
    "\n",
    "# Fit the tfidf vectorizer on the cleaned text column\n",
    "tfidf.fit(train[\"cleaned_text\"])\n",
    "\n",
    "# Generate feature for train\n",
    "train_X = tfidf.transform(train[\"cleaned_text\"])\n",
    "train_y = train[\"label\"].tolist() # labels are already numericalised\n",
    "\n",
    "# generate features for test\n",
    "test_X = tfidf.transform(test[\"cleaned_text\"])\n",
    "test_y = test[\"label\"].tolist()"
   ]
  },
  {
   "cell_type": "code",
   "execution_count": 45,
   "id": "4eca0d71-c75e-4a82-9043-f73dd8c9cdff",
   "metadata": {},
   "outputs": [
    {
     "data": {
      "text/plain": [
       "(1360, 20000)"
      ]
     },
     "execution_count": 45,
     "metadata": {},
     "output_type": "execute_result"
    }
   ],
   "source": [
    "train_X.shape"
   ]
  },
  {
   "cell_type": "code",
   "execution_count": null,
   "id": "1050b89d-a85d-47d0-a333-b34fdb02b4fc",
   "metadata": {},
   "outputs": [],
   "source": [
    "# Train a Gaussian Naive Bayes Model\n",
    "from sklearn.naive_bayes import GaussianNB\n",
    "from sklearn.metrics import classification_report\n",
    "\n",
    "nb = GaussianNB() # initialise model\n",
    "nb.fit(train_X.toarray())"
   ]
  },
  {
   "cell_type": "code",
   "execution_count": null,
   "id": "fc5d04d8-b8e7-4863-af46-df5ed46b3b9d",
   "metadata": {},
   "outputs": [],
   "source": []
  },
  {
   "cell_type": "code",
   "execution_count": null,
   "id": "0c4a1931-82ae-45ed-b891-3bb94157554c",
   "metadata": {},
   "outputs": [],
   "source": []
  }
 ],
 "metadata": {
  "kernelspec": {
   "display_name": "Python 3 (ipykernel)",
   "language": "python",
   "name": "python3"
  },
  "language_info": {
   "codemirror_mode": {
    "name": "ipython",
    "version": 3
   },
   "file_extension": ".py",
   "mimetype": "text/x-python",
   "name": "python",
   "nbconvert_exporter": "python",
   "pygments_lexer": "ipython3",
   "version": "3.9.16"
  }
 },
 "nbformat": 4,
 "nbformat_minor": 5
}
