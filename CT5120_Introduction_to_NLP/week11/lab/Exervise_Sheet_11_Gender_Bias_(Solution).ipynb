{
  "cells": [
    {
      "cell_type": "markdown",
      "metadata": {
        "id": "NOL9zUq9C3up"
      },
      "source": [
        "## Learning Objectives:\n",
        "\n",
        "1. Gaining an intuitive technical understanding of bias in machine learning systems.\n",
        "\n",
        "2. Exploring the interplay between data, algorithms, application, workflow, and human context when considering responsible AI."
      ]
    },
    {
      "cell_type": "markdown",
      "metadata": {
        "id": "idhysORlC3uy"
      },
      "source": [
        "# Part One: Setup"
      ]
    },
    {
      "cell_type": "markdown",
      "metadata": {
        "id": "Vn-4xIh6C3uz"
      },
      "source": [
        "## 1.1 - 🛠️ Install `responsibly`"
      ]
    },
    {
      "cell_type": "code",
      "execution_count": null,
      "metadata": {
        "id": "_nQ508U3C3uz",
        "colab": {
          "base_uri": "https://localhost:8080/"
        },
        "outputId": "fb2b38dd-cc9f-4d22-8e7b-7324362690b3"
      },
      "outputs": [
        {
          "output_type": "stream",
          "name": "stdout",
          "text": [
            "Looking in indexes: https://pypi.org/simple, https://us-python.pkg.dev/colab-wheels/public/simple/\n",
            "Requirement already satisfied: responsibly in /root/.local/lib/python3.7/site-packages (0.1.3)\n",
            "Requirement already satisfied: numpy>=1.15 in /usr/local/lib/python3.7/dist-packages (from responsibly) (1.21.6)\n",
            "Requirement already satisfied: six>=1.10 in /usr/local/lib/python3.7/dist-packages (from responsibly) (1.15.0)\n",
            "Requirement already satisfied: tabulate>=0.8 in /usr/local/lib/python3.7/dist-packages (from responsibly) (0.8.10)\n",
            "Requirement already satisfied: scipy>=1.1 in /usr/local/lib/python3.7/dist-packages (from responsibly) (1.7.3)\n",
            "Requirement already satisfied: gensim<3.8,>=3.7 in /root/.local/lib/python3.7/site-packages (from responsibly) (3.7.3)\n",
            "Requirement already satisfied: click>=6.0 in /usr/local/lib/python3.7/dist-packages (from responsibly) (7.1.2)\n",
            "Requirement already satisfied: mlxtend<0.17,>=0.13 in /usr/local/lib/python3.7/dist-packages (from responsibly) (0.14.0)\n",
            "Requirement already satisfied: matplotlib<3,>=2.2 in /root/.local/lib/python3.7/site-packages (from responsibly) (2.2.5)\n",
            "Requirement already satisfied: pandas>=0.23 in /usr/local/lib/python3.7/dist-packages (from responsibly) (1.3.5)\n",
            "Requirement already satisfied: scikit-learn>=0.19 in /usr/local/lib/python3.7/dist-packages (from responsibly) (1.0.2)\n",
            "Requirement already satisfied: tqdm>=4.24 in /usr/local/lib/python3.7/dist-packages (from responsibly) (4.64.1)\n",
            "Requirement already satisfied: seaborn>=0.9 in /usr/local/lib/python3.7/dist-packages (from responsibly) (0.11.2)\n",
            "Requirement already satisfied: smart-open>=1.7.0 in /usr/local/lib/python3.7/dist-packages (from gensim<3.8,>=3.7->responsibly) (5.2.1)\n",
            "Requirement already satisfied: kiwisolver>=1.0.1 in /usr/local/lib/python3.7/dist-packages (from matplotlib<3,>=2.2->responsibly) (1.4.4)\n",
            "Requirement already satisfied: python-dateutil>=2.1 in /usr/local/lib/python3.7/dist-packages (from matplotlib<3,>=2.2->responsibly) (2.8.2)\n",
            "Requirement already satisfied: pyparsing!=2.0.4,!=2.1.2,!=2.1.6,>=2.0.1 in /usr/local/lib/python3.7/dist-packages (from matplotlib<3,>=2.2->responsibly) (3.0.9)\n",
            "Requirement already satisfied: pytz in /usr/local/lib/python3.7/dist-packages (from matplotlib<3,>=2.2->responsibly) (2022.6)\n",
            "Requirement already satisfied: cycler>=0.10 in /usr/local/lib/python3.7/dist-packages (from matplotlib<3,>=2.2->responsibly) (0.11.0)\n",
            "Requirement already satisfied: typing-extensions in /usr/local/lib/python3.7/dist-packages (from kiwisolver>=1.0.1->matplotlib<3,>=2.2->responsibly) (4.1.1)\n",
            "Requirement already satisfied: setuptools in /usr/local/lib/python3.7/dist-packages (from mlxtend<0.17,>=0.13->responsibly) (57.4.0)\n",
            "Requirement already satisfied: threadpoolctl>=2.0.0 in /usr/local/lib/python3.7/dist-packages (from scikit-learn>=0.19->responsibly) (3.1.0)\n",
            "Requirement already satisfied: joblib>=0.11 in /usr/local/lib/python3.7/dist-packages (from scikit-learn>=0.19->responsibly) (1.2.0)\n"
          ]
        }
      ],
      "source": [
        "%pip install --user responsibly"
      ]
    },
    {
      "cell_type": "markdown",
      "metadata": {
        "id": "7KVoylBYC3u0"
      },
      "source": [
        "---\n",
        "\n",
        "### You might need to restart youe notebook\n",
        "If you get an error of **`ModuleNotFoundError: No module named 'responsibly'`** after the `import responsibly` in the next cell, and you work on either **Colab** or **Binder** - this is **normal**.\n",
        "<br/> <br/>\n",
        "**Restart** the Kernel/Runtime (use the menu on top or the botton in the notebook), **skip** the installation cell (`!pip install --user responsibly`) and **run** the previous cell again (`import responsibly`).\n",
        "\n",
        "Now it should all work fine!\n",
        "\n",
        "---"
      ]
    },
    {
      "cell_type": "markdown",
      "metadata": {
        "id": "rU1uolhsC3u0"
      },
      "source": [
        "## 1.2 - Validate Installation of `responsibly`"
      ]
    },
    {
      "cell_type": "code",
      "execution_count": null,
      "metadata": {
        "id": "E63RXd26C3u0",
        "colab": {
          "base_uri": "https://localhost:8080/",
          "height": 35
        },
        "outputId": "618f1f86-208d-466e-bee5-39d58bc971e9"
      },
      "outputs": [
        {
          "output_type": "execute_result",
          "data": {
            "text/plain": [
              "'0.1.3'"
            ],
            "application/vnd.google.colaboratory.intrinsic+json": {
              "type": "string"
            }
          },
          "metadata": {},
          "execution_count": 2
        }
      ],
      "source": [
        "import responsibly\n",
        "\n",
        "# You should get '0.1.3'\n",
        "responsibly.__version__"
      ]
    },
    {
      "cell_type": "markdown",
      "metadata": {
        "id": "ND0y48N0C3u1"
      },
      "source": [
        "# Part Two: Examples of Bias in Language Technology"
      ]
    },
    {
      "cell_type": "markdown",
      "metadata": {
        "id": "7bC6uNO_DRAm"
      },
      "source": [
        "## 2.1 - Translation\n",
        "\n",
        "<img src=\"https://github.com/ResponsiblyAI/word-embedding/blob/main/images/example-translate.jpg?raw=1\"/>\n",
        "\n",
        "Source: [Google Blog](https://www.blog.google/products/translate/reducing-gender-bias-google-translate/), [Google AI Blog](https://ai.googleblog.com/2018/12/providing-gender-specific-translations.html)"
      ]
    },
    {
      "cell_type": "markdown",
      "metadata": {
        "id": "87IEqEWwDRK3"
      },
      "source": [
        "## 2.2 - Automated Speech Recognition (ASR) \n",
        "\n",
        "<img src=\"https://github.com/ResponsiblyAI/word-embedding/blob/main/images/asr-wer.jpg?raw=1\" />\n",
        "\n",
        "WER = Average Word Error Rate\n",
        "\n",
        "`(substitutions + deletions + insertions) / total number of words`\n",
        "\n",
        "Koenecke, Allison, Andrew Nam, Emily Lake, Joe Nudell, Minnie Quartey, Zion Mengesha, Connor Toups, John R. Rickford, Dan Jurafsky, and Sharad Goel. \"[Racial disparities in automated speech recognition](https://www.pnas.org/content/117/14/7684).\" Proceedings of the National Academy of Sciences 117, no. 14 (2020): 7684-7689.\n",
        "\n",
        "[Stanford News](https://news.stanford.edu/2020/03/23/automated-speech-recognition-less-accurate-blacks/)"
      ]
    },
    {
      "cell_type": "markdown",
      "metadata": {
        "id": "zkXSkI3SC3u1"
      },
      "source": [
        "## 2.3 - Recruiting tool\n",
        "\n",
        "\"Amazon scraps secret AI recruiting tool that showed bias against women\" ([Reuters](https://www.reuters.com/article/us-amazon-com-jobs-automation-insight/amazon-scraps-secret-ai-recruiting-tool-that-showed-bias-against-women-idUSKCN1MK08G))\n",
        "\n",
        "\"But by 2015, the company realized its new system was not rating candidates for software developer jobs and other technical posts in a gender-neutral way.\""
      ]
    },
    {
      "cell_type": "markdown",
      "metadata": {
        "id": "6112Hp2dDaYG"
      },
      "source": [
        "\n",
        "## 2.4 - Natural Language Generation  (based on language models)\n",
        "\n",
        "\n",
        "### WARNING: The following demonstration contains examples which are offensive in nature.\n",
        "\n",
        "\n",
        "[Write With Transformer](https://transformer.huggingface.co/doc/gpt2-large) (OpenAI GPT-2)\n",
        "\n",
        "<img src=\"https://github.com/ResponsiblyAI/word-embedding/blob/main/images/nlg-prompt.png?raw=1\" width=\"400\"/>\n",
        "\n",
        "1. Sheng, E., Chang, K. W., Natarajan, P., & Peng, N. (2019). [The woman worked as a babysitter: On biases in language generation](https://arxiv.org/pdf/1909.01326.pdf). arXiv preprint arXiv:1909.01326.\n",
        "2. [StereoSet](https://stereoset.mit.edu/)\n",
        "Nadeem, M., Bethke, A., & Reddy, S. (2020). [StereoSet: Measuring stereotypical bias in pretrained language models](https://arxiv.org/pdf/2004.09456.pdf). arXiv preprint arXiv:2004.09456."
      ]
    },
    {
      "cell_type": "markdown",
      "metadata": {
        "id": "OP-aP2sZEu6o"
      },
      "source": [
        "<img src=\"https://github.com/ResponsiblyAI/word-embedding/blob/main/images/banner.png?raw=1\" />"
      ]
    },
    {
      "cell_type": "markdown",
      "metadata": {
        "id": "uJx1tKxrC3vA"
      },
      "source": [
        "# Part Three: Gender Bias\n",
        "\n",
        "**⚡ We use the word *bias* merely as a technical term, without jugement of \"good\" or \"bad\". Later on we will put the bias into *human contextes* to evaluate it.**\n",
        "\n",
        "Keep in mind, the data is from Google News, the writers are professional journalists.\n",
        "\n",
        "Bolukbasi Tolga, Kai-Wei Chang, James Y. Zou, Venkatesh Saligrama, and Adam T. Kalai. [Man is to computer programmer as woman is to homemaker? debiasing word embeddings](https://arxiv.org/abs/1607.06520). NIPS 2016."
      ]
    },
    {
      "cell_type": "code",
      "execution_count": null,
      "metadata": {
        "id": "P8T1Vu6mC3vA"
      },
      "outputs": [],
      "source": [
        "from responsibly.we import load_w2v_small\n",
        "\n",
        "w2v_small = load_w2v_small()"
      ]
    },
    {
      "cell_type": "markdown",
      "metadata": {
        "id": "VFoKGcr2C3vA"
      },
      "source": [
        "## 3.1 - Gender appropriate he-she analogies"
      ]
    },
    {
      "cell_type": "code",
      "execution_count": null,
      "metadata": {
        "id": "mzHt7krQC3vB",
        "colab": {
          "base_uri": "https://localhost:8080/"
        },
        "outputId": "febd9c5a-eca7-4b41-cf5f-ecf53b2223b9"
      },
      "outputs": [
        {
          "output_type": "execute_result",
          "data": {
            "text/plain": [
              "[('brother', 0.7627110481262207),\n",
              " ('younger_brother', 0.6856132745742798),\n",
              " ('cousin', 0.6685015559196472),\n",
              " ('uncle', 0.6580697894096375),\n",
              " ('nephew', 0.65260249376297),\n",
              " ('father', 0.6411106586456299),\n",
              " ('son', 0.630827009677887),\n",
              " ('elder_brother', 0.585418701171875),\n",
              " ('brothers', 0.5706700086593628),\n",
              " ('twin_brother', 0.5622221231460571)]"
            ]
          },
          "metadata": {},
          "execution_count": 4
        }
      ],
      "source": [
        "# she:sister :: he:?\n",
        "# sister - she + he = ?\n",
        "\n",
        "w2v_small.most_similar(positive=['sister', 'he'],\n",
        "                       negative=['she'])"
      ]
    },
    {
      "cell_type": "markdown",
      "metadata": {
        "id": "HctdMqv8C3vB"
      },
      "source": [
        "```\n",
        "queen-king\n",
        "waitress-waiter\n",
        "sister-brother\n",
        "mother-father\n",
        "ovarian_cancer-prostate_cancer\n",
        "convent-monastery\n",
        "```"
      ]
    },
    {
      "cell_type": "markdown",
      "metadata": {
        "id": "JmdyMQbBC3vB"
      },
      "source": [
        "## 3.2 - Gender stereotype he-she analogies"
      ]
    },
    {
      "cell_type": "code",
      "execution_count": null,
      "metadata": {
        "id": "1Lq26hcCC3vB",
        "colab": {
          "base_uri": "https://localhost:8080/"
        },
        "outputId": "faa1c0dd-bdb2-4ef1-9e1f-4fd1e42e8655"
      },
      "outputs": [
        {
          "output_type": "execute_result",
          "data": {
            "text/plain": [
              "[('doctor', 0.5559606552124023),\n",
              " ('medic', 0.5425378680229187),\n",
              " ('physician', 0.5394272208213806),\n",
              " ('surgeon', 0.5160146951675415),\n",
              " ('nurses', 0.49741458892822266),\n",
              " ('paramedic', 0.4924110770225525),\n",
              " ('patient', 0.46544164419174194),\n",
              " ('doctors', 0.4639861285686493),\n",
              " ('nursing', 0.46371760964393616),\n",
              " ('registered_nurse', 0.46238088607788086)]"
            ]
          },
          "metadata": {},
          "execution_count": 5
        }
      ],
      "source": [
        "w2v_small.most_similar(positive=['nurse', 'he'],\n",
        "                       negative=['she'])"
      ]
    },
    {
      "cell_type": "markdown",
      "source": [
        "## Exercise 1.0: Can you find other gender stereotypes? "
      ],
      "metadata": {
        "id": "Zp2mR0chhSbF"
      }
    },
    {
      "cell_type": "code",
      "source": [
        "w2v_small.most_similar(positive=['volleyball', 'he'],\n",
        "                       negative=['she'])"
      ],
      "metadata": {
        "colab": {
          "base_uri": "https://localhost:8080/"
        },
        "id": "9Py5siXrhjqF",
        "outputId": "939515eb-6fb1-41e1-b48a-19702e04558b"
      },
      "execution_count": null,
      "outputs": [
        {
          "output_type": "execute_result",
          "data": {
            "text/plain": [
              "[('football', 0.590070366859436),\n",
              " ('basketball', 0.5792854428291321),\n",
              " ('soccer', 0.5567079186439514),\n",
              " ('coach', 0.5181860327720642),\n",
              " ('water_polo', 0.5118085741996765),\n",
              " ('baseball', 0.5028316974639893),\n",
              " ('softball', 0.5013593435287476),\n",
              " ('tennis', 0.48615390062332153),\n",
              " ('varsity', 0.48416242003440857),\n",
              " ('junior_varsity', 0.4785900115966797)]"
            ]
          },
          "metadata": {},
          "execution_count": 6
        }
      ]
    },
    {
      "cell_type": "markdown",
      "metadata": {
        "id": "KVDAu5JbC3vB"
      },
      "source": [
        "```\n",
        "sewing-carpentry\n",
        "nurse-doctor\n",
        "blond-burly\n",
        "giggle-chuckle\n",
        "sassy-snappy\n",
        "volleyball-football\n",
        "register_nurse-physician\n",
        "interior_designer-architect\n",
        "feminism-conservatism\n",
        "vocalist-guitarist\n",
        "diva-superstar\n",
        "cupcakes-pizzas\n",
        "housewife-shopkeeper\n",
        "softball-baseball\n",
        "cosmetics-pharmaceuticals\n",
        "petite-lanky\n",
        "charming-affable\n",
        "hairdresser-barber\n",
        "```"
      ]
    },
    {
      "cell_type": "markdown",
      "metadata": {
        "id": "-p30UdbhC3vB"
      },
      "source": [
        "### Methodological Issue: The unrestricted version of analogy generation"
      ]
    },
    {
      "cell_type": "code",
      "execution_count": null,
      "metadata": {
        "id": "jr2eqeFJC3vC"
      },
      "outputs": [],
      "source": [
        "from responsibly.we import most_similar"
      ]
    },
    {
      "cell_type": "code",
      "execution_count": null,
      "metadata": {
        "id": "iq1gAfdhC3vC",
        "colab": {
          "base_uri": "https://localhost:8080/"
        },
        "outputId": "d9fa0a6a-659a-4f44-be12-48efffc64a46"
      },
      "outputs": [
        {
          "output_type": "execute_result",
          "data": {
            "text/plain": [
              "[('nurse', 0.6655273495904702),\n",
              " ('doctor', 0.5559606137533434),\n",
              " ('medic', 0.5425378462972461),\n",
              " ('physician', 0.539427232345591),\n",
              " ('surgeon', 0.516014718645784),\n",
              " ('nurses', 0.49741458813916767),\n",
              " ('paramedic', 0.4924111160675495),\n",
              " ('patient', 0.46544163768108626),\n",
              " ('doctors', 0.46398611187975947),\n",
              " ('nursing', 0.4637176082334782)]"
            ]
          },
          "metadata": {},
          "execution_count": 8
        }
      ],
      "source": [
        "most_similar(w2v_small,\n",
        "             positive=['nurse', 'he'],\n",
        "             negative=['she'])"
      ]
    },
    {
      "cell_type": "markdown",
      "metadata": {
        "id": "KDLn6n64C3vC"
      },
      "source": [
        "## 3.3 - What can we take from analogies? Gender Direction!\n",
        "\n",
        "### $\\overrightarrow{she} - \\overrightarrow{he}$"
      ]
    },
    {
      "cell_type": "markdown",
      "metadata": {
        "id": "j6_SqDfEC3vD"
      },
      "source": [
        "In practice, we calculate the gender direction using multiple definitional pair of words for better estimation (words may have more than one meaning):\n",
        "\n",
        "- woman - man\n",
        "- girl - boy\n",
        "- she - he\n",
        "- mother - father\n",
        "- daughter - son\n",
        "- gal - guy\n",
        "- female - male\n",
        "- her - his\n",
        "- herself - himself\n",
        "- Mary - John"
      ]
    },
    {
      "cell_type": "code",
      "execution_count": null,
      "metadata": {
        "id": "6Fl65I1vC3vC"
      },
      "outputs": [],
      "source": [
        "from numpy.linalg import norm\n",
        "\n",
        "gender_direction = w2v_small['she'] - w2v_small['he']\n",
        "\n",
        "gender_direction /= norm(gender_direction)"
      ]
    },
    {
      "cell_type": "code",
      "source": [
        "gender_direction @ w2v_small['herself']"
      ],
      "metadata": {
        "colab": {
          "base_uri": "https://localhost:8080/"
        },
        "id": "UomAF_bHiGOi",
        "outputId": "8bd4f45d-0071-4ff8-9134-6ce009285ff4"
      },
      "execution_count": null,
      "outputs": [
        {
          "output_type": "execute_result",
          "data": {
            "text/plain": [
              "0.3708599"
            ]
          },
          "metadata": {},
          "execution_count": 10
        }
      ]
    },
    {
      "cell_type": "code",
      "source": [
        "gender_direction @ w2v_small['himself']"
      ],
      "metadata": {
        "colab": {
          "base_uri": "https://localhost:8080/"
        },
        "id": "vL3-9J1TiSfb",
        "outputId": "7e6340ef-93b1-4016-91bd-30508b0342d9"
      },
      "execution_count": null,
      "outputs": [
        {
          "output_type": "execute_result",
          "data": {
            "text/plain": [
              "-0.36822695"
            ]
          },
          "metadata": {},
          "execution_count": 11
        }
      ]
    },
    {
      "cell_type": "markdown",
      "source": [
        "## Exercise 2.0: Calculate gender_direction (she - he) with respect to \"architect\" and \"interior_designer\". Are they positive or negative? Why?"
      ],
      "metadata": {
        "id": "ME9Y3XPjiY4e"
      }
    },
    {
      "cell_type": "code",
      "execution_count": null,
      "metadata": {
        "id": "-6uAKJvTC3vC",
        "colab": {
          "base_uri": "https://localhost:8080/"
        },
        "outputId": "4a897f51-a7ab-4ca8-aa87-c9f330e696de"
      },
      "outputs": [
        {
          "output_type": "execute_result",
          "data": {
            "text/plain": [
              "-0.16785555"
            ]
          },
          "metadata": {},
          "execution_count": 12
        }
      ],
      "source": [
        "gender_direction @ w2v_small['architect']"
      ]
    },
    {
      "cell_type": "code",
      "execution_count": null,
      "metadata": {
        "id": "55MCmDhWC3vC",
        "colab": {
          "base_uri": "https://localhost:8080/"
        },
        "outputId": "6ceb340f-d74a-4aee-ca68-bd4b2b135575"
      },
      "outputs": [
        {
          "output_type": "execute_result",
          "data": {
            "text/plain": [
              "0.19714224"
            ]
          },
          "metadata": {},
          "execution_count": 13
        }
      ],
      "source": [
        "gender_direction @ w2v_small['interior_designer']"
      ]
    },
    {
      "cell_type": "markdown",
      "metadata": {
        "id": "KXoDjjFSC3vD"
      },
      "source": [
        "**⚡Interprete carefully: The word *architect* appears in more contexts with *he* than with *she*, and vice versa for *interior designer*.**"
      ]
    },
    {
      "cell_type": "markdown",
      "metadata": {
        "id": "9DuWu9yVC3vE"
      },
      "source": [
        "## 3.7 - Projections"
      ]
    },
    {
      "cell_type": "code",
      "execution_count": null,
      "metadata": {
        "id": "ucDbQ13uC3vE"
      },
      "outputs": [],
      "source": [
        "from responsibly.we import GenderBiasWE\n",
        "\n",
        "w2v_small_gender_bias = GenderBiasWE(w2v_small, only_lower=True)"
      ]
    },
    {
      "cell_type": "code",
      "execution_count": null,
      "metadata": {
        "id": "wOy5EDmRC3vE",
        "colab": {
          "base_uri": "https://localhost:8080/"
        },
        "outputId": "041ff021-a61a-4ba7-a7c7-a6d5d3792352"
      },
      "outputs": [
        {
          "output_type": "execute_result",
          "data": {
            "text/plain": [
              "('she', 'he')"
            ]
          },
          "metadata": {},
          "execution_count": 15
        }
      ],
      "source": [
        "w2v_small_gender_bias.positive_end, w2v_small_gender_bias.negative_end"
      ]
    },
    {
      "cell_type": "code",
      "execution_count": null,
      "metadata": {
        "id": "NzlmJWFdC3vE",
        "colab": {
          "base_uri": "https://localhost:8080/"
        },
        "outputId": "c8e82b64-56de-46d1-a50a-e2fa125d0d14"
      },
      "outputs": [
        {
          "output_type": "execute_result",
          "data": {
            "text/plain": [
              "array([-0.10056252, -0.09987912, -0.05384335,  0.00480521,  0.01521063,\n",
              "       -0.01666582,  0.00932552, -0.00625998, -0.11320096,  0.03992424])"
            ]
          },
          "metadata": {},
          "execution_count": 16
        }
      ],
      "source": [
        "# gender direction\n",
        "w2v_small_gender_bias.direction[:10]"
      ]
    },
    {
      "cell_type": "code",
      "execution_count": null,
      "metadata": {
        "id": "KI8U2QhCC3vE"
      },
      "outputs": [],
      "source": [
        "from responsibly.we.data import BOLUKBASI_DATA\n",
        "\n",
        "neutral_profession_names = BOLUKBASI_DATA['gender']['neutral_profession_names']"
      ]
    },
    {
      "cell_type": "code",
      "execution_count": null,
      "metadata": {
        "id": "tAHD1RdXC3vF",
        "colab": {
          "base_uri": "https://localhost:8080/"
        },
        "outputId": "392bb647-2220-454b-961e-0786e459986e"
      },
      "outputs": [
        {
          "output_type": "execute_result",
          "data": {
            "text/plain": [
              "['accountant',\n",
              " 'acquaintance',\n",
              " 'actor',\n",
              " 'adjunct_professor',\n",
              " 'administrator',\n",
              " 'adventurer',\n",
              " 'advocate',\n",
              " 'aide']"
            ]
          },
          "metadata": {},
          "execution_count": 18
        }
      ],
      "source": [
        "neutral_profession_names[:8]"
      ]
    },
    {
      "cell_type": "markdown",
      "metadata": {
        "id": "loqvR0qUC3vF"
      },
      "source": [
        "Note: Why `actor` is in the neutral profession names list while `actress` is not there?\n",
        "1. Due to the statistical nature of the method that is used to find the gender- specific and natural words\n",
        "2. That might be because `actor` nowadays is much more gender-neutral, compared to waiter-waitress (see [Wikipedia - The term Actress](https://en.wikipedia.org/wiki/Actor#The_term_actress))"
      ]
    },
    {
      "cell_type": "code",
      "execution_count": null,
      "metadata": {
        "id": "fLgkcOuGC3vF",
        "colab": {
          "base_uri": "https://localhost:8080/"
        },
        "outputId": "ab84467d-9764-4637-df97-9a7776316695"
      },
      "outputs": [
        {
          "output_type": "execute_result",
          "data": {
            "text/plain": [
              "303"
            ]
          },
          "metadata": {},
          "execution_count": 19
        }
      ],
      "source": [
        "len(neutral_profession_names)"
      ]
    },
    {
      "cell_type": "code",
      "execution_count": null,
      "metadata": {
        "id": "qby3XDrfC3vF",
        "colab": {
          "base_uri": "https://localhost:8080/"
        },
        "outputId": "bd7df632-3ff7-4a76-d9dc-a270172430fe"
      },
      "outputs": [
        {
          "output_type": "execute_result",
          "data": {
            "text/plain": [
              "0.008421647916552755"
            ]
          },
          "metadata": {},
          "execution_count": 20
        }
      ],
      "source": [
        "# the same of using the @ operator on the bias direction\n",
        "\n",
        "w2v_small_gender_bias.project_on_direction(neutral_profession_names[0])"
      ]
    },
    {
      "cell_type": "markdown",
      "metadata": {
        "id": "th7UryxdC3vF"
      },
      "source": [
        "**Let's visualize the projections of professions (neutral and specific by the orthography) on the gender direction**"
      ]
    },
    {
      "cell_type": "code",
      "execution_count": null,
      "metadata": {
        "id": "juiycs76C3vF",
        "colab": {
          "base_uri": "https://localhost:8080/",
          "height": 621
        },
        "outputId": "ffca0ebb-9ad9-476e-85f5-aa75dc807ef8"
      },
      "outputs": [
        {
          "output_type": "display_data",
          "data": {
            "text/plain": [
              "<Figure size 720x720 with 1 Axes>"
            ],
            "image/png": "[encoded data removed]"
          },
          "metadata": {
            "needs_background": "light"
          }
        }
      ],
      "source": [
        "import matplotlib.pylab as plt\n",
        "\n",
        "f, ax = plt.subplots(1, figsize=(10, 10))\n",
        "\n",
        "w2v_small_gender_bias.plot_projection_scores(n_extreme=20, ax=ax);"
      ]
    },
    {
      "cell_type": "markdown",
      "metadata": {
        "id": "K1MgiofyC3vF"
      },
      "source": [
        "EXTRA: Demo - Visualizing gender bias with [Word Clouds](http://wordbias.umiacs.umd.edu/)"
      ]
    },
    {
      "cell_type": "markdown",
      "metadata": {
        "id": "1IlRykZjC3vG"
      },
      "source": [
        "## 3.8 - Are the projections of occupation words on the gender direction related to the real world?\n",
        "\n",
        "Let's take the percentage of female in various occupations from the Labor Force Statistics of 2017 Population Survey.\n",
        "\n",
        "Taken from: https://arxiv.org/abs/1804.06876"
      ]
    },
    {
      "cell_type": "code",
      "execution_count": null,
      "metadata": {
        "id": "-xrMYFBXC3vG",
        "colab": {
          "base_uri": "https://localhost:8080/"
        },
        "outputId": "d4724e0a-dee1-4cb5-8a7c-a4c3b5a59acf"
      },
      "outputs": [
        {
          "output_type": "execute_result",
          "data": {
            "text/plain": [
              "[('carpenter', 2),\n",
              " ('mechanician', 4),\n",
              " ('construction_worker', 4),\n",
              " ('laborer', 4),\n",
              " ('driver', 6),\n",
              " ('sheriff', 14),\n",
              " ('mover', 18),\n",
              " ('developer', 20),\n",
              " ('farmer', 22),\n",
              " ('guard', 22),\n",
              " ('chief', 27),\n",
              " ('janitor', 34),\n",
              " ('lawyer', 35),\n",
              " ('cook', 38),\n",
              " ('physician', 38),\n",
              " ('ceo', 39),\n",
              " ('analyst', 41),\n",
              " ('manager', 43),\n",
              " ('supervisor', 44),\n",
              " ('salesperson', 48),\n",
              " ('editor', 52),\n",
              " ('designers', 54),\n",
              " ('accountant', 61),\n",
              " ('auditor', 61),\n",
              " ('writer', 63),\n",
              " ('baker', 65),\n",
              " ('clerk', 72),\n",
              " ('cashier', 73),\n",
              " ('counselors', 73),\n",
              " ('attendant', 76),\n",
              " ('teacher', 78),\n",
              " ('sewer', 80),\n",
              " ('librarian', 84),\n",
              " ('assistant', 85),\n",
              " ('cleaner', 89),\n",
              " ('housekeeper', 89),\n",
              " ('nurse', 90),\n",
              " ('receptionist', 90),\n",
              " ('hairdressers', 92),\n",
              " ('secretary', 95)]"
            ]
          },
          "metadata": {},
          "execution_count": 22
        }
      ],
      "source": [
        "from operator import itemgetter  # 🛠️ For idiomatic sorting in Python\n",
        "\n",
        "from responsibly.we.data import OCCUPATION_FEMALE_PRECENTAGE\n",
        "\n",
        "sorted(OCCUPATION_FEMALE_PRECENTAGE.items(), key=itemgetter(1))"
      ]
    },
    {
      "cell_type": "code",
      "execution_count": null,
      "metadata": {
        "id": "i2j4_uCFC3vG",
        "colab": {
          "base_uri": "https://localhost:8080/",
          "height": 513
        },
        "outputId": "f5be27a7-a19b-428f-a14d-b76ef78abc64"
      },
      "outputs": [
        {
          "output_type": "display_data",
          "data": {
            "text/plain": [
              "<Figure size 720x576 with 1 Axes>"
            ],
            "image/png": "[encoded data removed]"
          },
          "metadata": {
            "needs_background": "light"
          }
        }
      ],
      "source": [
        "f, ax = plt.subplots(1, figsize=(10, 8))\n",
        "\n",
        "w2v_small_gender_bias.plot_factual_association(ax=ax);"
      ]
    },
    {
      "cell_type": "markdown",
      "metadata": {
        "id": "KwZmL19LC3vG"
      },
      "source": [
        "## 3.9 - Direct Bias Measure\n",
        "\n",
        "1. Project each **neutral profession names** on the gender direction\n",
        "2. Calculate the absolute value of each projection\n",
        "3. Average it all"
      ]
    },
    {
      "cell_type": "code",
      "execution_count": null,
      "metadata": {
        "id": "MdXFI9EqC3vG",
        "colab": {
          "base_uri": "https://localhost:8080/"
        },
        "outputId": "38b9d8fb-33ce-42f8-9b11-500751b9ecd0"
      },
      "outputs": [
        {
          "output_type": "execute_result",
          "data": {
            "text/plain": [
              "0.07307905466893873"
            ]
          },
          "metadata": {},
          "execution_count": 24
        }
      ],
      "source": [
        "# using responsibly\n",
        "\n",
        "w2v_small_gender_bias.calc_direct_bias()"
      ]
    },
    {
      "cell_type": "markdown",
      "metadata": {
        "id": "Dv_Zav4DC3vH"
      },
      "source": [
        "## Exercise 3.0: Calculate the average of absolute score of gender neutral profession names."
      ]
    },
    {
      "cell_type": "code",
      "execution_count": null,
      "metadata": {
        "id": "MbB7U8IFC3vH",
        "colab": {
          "base_uri": "https://localhost:8080/"
        },
        "outputId": "54bb7563-b31f-43d7-b059-eec4dbc49542"
      },
      "outputs": [
        {
          "output_type": "execute_result",
          "data": {
            "text/plain": [
              "0.07307905457595647"
            ]
          },
          "metadata": {},
          "execution_count": 25
        }
      ],
      "source": [
        "# Calculating neutral projection of each name from neutral_profession_names by multiplying with gender bias direction\n",
        "neutral_profession_projections = [w2v_small[word] @ w2v_small_gender_bias.direction\n",
        "                                  for word in neutral_profession_names]\n",
        "# Calculate absolute score of each projection\n",
        "### Your code goes here\n",
        "\n",
        "abs_neutral_profession_projections = [abs(proj) for proj in neutral_profession_projections]\n",
        "\n",
        "sum(abs_neutral_profession_projections) / len(abs_neutral_profession_projections) "
      ]
    },
    {
      "cell_type": "markdown",
      "metadata": {
        "id": "x2AxxNoXC3vH"
      },
      "source": [
        "# Part Four: Mitigating Bias\n",
        "\n",
        "> We intentionally do not reference the resulting embeddings as \"debiased\" or free from all gender bias, and\n",
        "prefer the term \"mitigating bias\" rather that \"debiasing,\" to guard against the misconception that the resulting\n",
        "embeddings are entirely \"safe\" and need not be critically evaluated for bias in downstream tasks. <small>James-Sorenson, H., & Alvarez-Melis, D. (2019). [Probabilistic Bias Mitigation in Word Embeddings](https://arxiv.org/pdf/1910.14497.pdf). arXiv preprint arXiv:1910.14497.</small>"
      ]
    },
    {
      "cell_type": "markdown",
      "metadata": {
        "id": "TlW6-I0vECj5"
      },
      "source": [
        "## 4.1 - Neutralize\n",
        "\n",
        "In this case, we will remove the gender projection from all the words, except the neutral-gender ones, and then normalize.\n",
        "\n",
        "We need to \"learn\" what are the gender-specific words in the vocabulary for a seed set of gender-specific words (by semi-automatic use of [WordNet](https://en.wikipedia.org/wiki/WordNet))"
      ]
    },
    {
      "cell_type": "code",
      "execution_count": null,
      "metadata": {
        "id": "RzIzwzcXC3vH"
      },
      "outputs": [],
      "source": [
        "w2v_small_gender_debias = w2v_small_gender_bias.debias(method='neutralize', inplace=False)"
      ]
    },
    {
      "cell_type": "code",
      "execution_count": null,
      "metadata": {
        "id": "J3hgtHyxC3vH",
        "colab": {
          "base_uri": "https://localhost:8080/"
        },
        "outputId": "3599ad8a-e303-45cf-c47b-59841e1e4ace"
      },
      "outputs": [
        {
          "output_type": "stream",
          "name": "stdout",
          "text": [
            "home: before = 0.011340496779172262 after =  -1.1762454503583112e-09\n"
          ]
        }
      ],
      "source": [
        "print('home:',\n",
        "      'before =', w2v_small_gender_bias.model['home'] @ w2v_small_gender_bias.direction,\n",
        "      'after = ', w2v_small_gender_debias.model['home'] @ w2v_small_gender_debias.direction)"
      ]
    },
    {
      "cell_type": "markdown",
      "source": [
        "## Exercise 4.0: Calcualte gender direction score for word \"man\" before and after debiasing."
      ],
      "metadata": {
        "id": "3dupAfNon0ou"
      }
    },
    {
      "cell_type": "code",
      "execution_count": null,
      "metadata": {
        "id": "IZC7y2I9C3vI",
        "colab": {
          "base_uri": "https://localhost:8080/"
        },
        "outputId": "ef5bb61c-71d5-499c-9d2c-bd969b76f959"
      },
      "outputs": [
        {
          "output_type": "stream",
          "name": "stdout",
          "text": [
            "man: before = -0.22095192936041713 after =  -0.2209519293604172\n"
          ]
        }
      ],
      "source": [
        "## Your code goes here\n",
        "\n",
        "print('man:',\n",
        "      'before =', w2v_small_gender_bias.model['man'] @ w2v_small_gender_bias.direction,\n",
        "      'after = ', w2v_small_gender_debias.model['man'] @ w2v_small_gender_debias.direction)"
      ]
    },
    {
      "cell_type": "code",
      "execution_count": null,
      "metadata": {
        "id": "mPh777kyC3vI",
        "colab": {
          "base_uri": "https://localhost:8080/"
        },
        "outputId": "5d5799a2-0884-4252-ecf6-16095886e230"
      },
      "outputs": [
        {
          "output_type": "stream",
          "name": "stdout",
          "text": [
            "woman: before = 0.3403474745246814 after =  0.3403474745246813\n"
          ]
        }
      ],
      "source": [
        "print('woman:',\n",
        "      'before =', w2v_small_gender_bias.model['woman'] @ w2v_small_gender_bias.direction,\n",
        "      'after = ', w2v_small_gender_debias.model['woman'] @ w2v_small_gender_debias.direction)"
      ]
    },
    {
      "cell_type": "code",
      "execution_count": null,
      "metadata": {
        "id": "hFf08ZQmC3vI",
        "colab": {
          "base_uri": "https://localhost:8080/"
        },
        "outputId": "28e0b8ab-49fd-4b07-ade5-f7c599138583"
      },
      "outputs": [
        {
          "output_type": "execute_result",
          "data": {
            "text/plain": [
              "1.1615064677630404e-09"
            ]
          },
          "metadata": {},
          "execution_count": 30
        }
      ],
      "source": [
        "w2v_small_gender_debias.calc_direct_bias()"
      ]
    },
    {
      "cell_type": "markdown",
      "source": [
        "## Exercise 5: Similar to 3.7 and 3.8 draw direction projection vs words and factual property vs direction projection graph? Do you see any improvement?"
      ],
      "metadata": {
        "id": "blrx94sQ0LeF"
      }
    },
    {
      "cell_type": "code",
      "execution_count": null,
      "metadata": {
        "id": "G3sd0hLUC3vI",
        "colab": {
          "base_uri": "https://localhost:8080/",
          "height": 621
        },
        "outputId": "d2b34c17-3e32-4a5f-b1c6-cd613a2c2cef"
      },
      "outputs": [
        {
          "output_type": "display_data",
          "data": {
            "text/plain": [
              "<Figure size 720x720 with 1 Axes>"
            ],
            "image/png": "[encoded data removed]"
          },
          "metadata": {
            "needs_background": "light"
          }
        }
      ],
      "source": [
        "f, ax = plt.subplots(1, figsize=(10, 10))\n",
        "\n",
        "w2v_small_gender_debias.plot_projection_scores(n_extreme=20, ax=ax);"
      ]
    },
    {
      "cell_type": "code",
      "execution_count": null,
      "metadata": {
        "id": "aMChX6EtC3vI",
        "colab": {
          "base_uri": "https://localhost:8080/",
          "height": 513
        },
        "outputId": "f4a0600c-4ae8-4cc1-f70c-f044b2c9fa62"
      },
      "outputs": [
        {
          "output_type": "display_data",
          "data": {
            "text/plain": [
              "<Figure size 720x576 with 1 Axes>"
            ],
            "image/png": "[encoded data removed]"
          },
          "metadata": {
            "needs_background": "light"
          }
        }
      ],
      "source": [
        "f, ax = plt.subplots(1, figsize=(10, 8))\n",
        "\n",
        "w2v_small_gender_debias.plot_factual_association(ax=ax);"
      ]
    },
    {
      "cell_type": "code",
      "source": [],
      "metadata": {
        "id": "wsek_fM_GJgm"
      },
      "execution_count": null,
      "outputs": []
    }
  ],
  "metadata": {
    "colab": {
      "provenance": [],
      "toc_visible": true
    },
    "kernelspec": {
      "display_name": "Python 3",
      "language": "python",
      "name": "python3"
    },
    "language_info": {
      "codemirror_mode": {
        "name": "ipython",
        "version": 3
      },
      "file_extension": ".py",
      "mimetype": "text/x-python",
      "name": "python",
      "nbconvert_exporter": "python",
      "pygments_lexer": "ipython3",
      "version": "3.8.3"
    }
  },
  "nbformat": 4,
  "nbformat_minor": 0
}