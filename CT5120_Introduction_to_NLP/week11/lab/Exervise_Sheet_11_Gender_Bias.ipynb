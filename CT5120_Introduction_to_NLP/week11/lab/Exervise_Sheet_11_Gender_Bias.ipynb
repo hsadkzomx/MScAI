{
  "cells": [
    {
      "cell_type": "markdown",
      "metadata": {
        "id": "NOL9zUq9C3up"
      },
      "source": [
        "## Learning Objectives:\n",
        "\n",
        "1. Gaining an intuitive technical understanding of bias in machine learning systems.\n",
        "\n",
        "2. Exploring the interplay between data, algorithms, application, workflow, and human context when considering responsible AI."
      ]
    },
    {
      "cell_type": "markdown",
      "metadata": {
        "id": "idhysORlC3uy"
      },
      "source": [
        "# Part One: Setup"
      ]
    },
    {
      "cell_type": "markdown",
      "metadata": {
        "id": "Vn-4xIh6C3uz"
      },
      "source": [
        "## 1.1 - 🛠️ Install `responsibly`"
      ]
    },
    {
      "cell_type": "code",
      "execution_count": null,
      "metadata": {
        "id": "_nQ508U3C3uz",
        "colab": {
          "base_uri": "https://localhost:8080/"
        },
        "outputId": "334640b0-4235-45a1-f5c2-166748573df0"
      },
      "outputs": [
        {
          "output_type": "stream",
          "name": "stdout",
          "text": [
            "Looking in indexes: https://pypi.org/simple, https://us-python.pkg.dev/colab-wheels/public/simple/\n",
            "Requirement already satisfied: responsibly in /root/.local/lib/python3.7/site-packages (0.1.3)\n",
            "Requirement already satisfied: scipy>=1.1 in /usr/local/lib/python3.7/dist-packages (from responsibly) (1.7.3)\n",
            "Requirement already satisfied: pandas>=0.23 in /usr/local/lib/python3.7/dist-packages (from responsibly) (1.3.5)\n",
            "Requirement already satisfied: tabulate>=0.8 in /usr/local/lib/python3.7/dist-packages (from responsibly) (0.8.10)\n",
            "Requirement already satisfied: numpy>=1.15 in /usr/local/lib/python3.7/dist-packages (from responsibly) (1.21.6)\n",
            "Requirement already satisfied: matplotlib<3,>=2.2 in /root/.local/lib/python3.7/site-packages (from responsibly) (2.2.5)\n",
            "Requirement already satisfied: mlxtend<0.17,>=0.13 in /usr/local/lib/python3.7/dist-packages (from responsibly) (0.14.0)\n",
            "Requirement already satisfied: six>=1.10 in /usr/local/lib/python3.7/dist-packages (from responsibly) (1.15.0)\n",
            "Requirement already satisfied: seaborn>=0.9 in /usr/local/lib/python3.7/dist-packages (from responsibly) (0.11.2)\n",
            "Requirement already satisfied: scikit-learn>=0.19 in /usr/local/lib/python3.7/dist-packages (from responsibly) (1.0.2)\n",
            "Requirement already satisfied: click>=6.0 in /usr/local/lib/python3.7/dist-packages (from responsibly) (7.1.2)\n",
            "Requirement already satisfied: tqdm>=4.24 in /usr/local/lib/python3.7/dist-packages (from responsibly) (4.64.1)\n",
            "Requirement already satisfied: gensim<3.8,>=3.7 in /root/.local/lib/python3.7/site-packages (from responsibly) (3.7.3)\n",
            "Requirement already satisfied: smart-open>=1.7.0 in /usr/local/lib/python3.7/dist-packages (from gensim<3.8,>=3.7->responsibly) (5.2.1)\n",
            "Requirement already satisfied: pyparsing!=2.0.4,!=2.1.2,!=2.1.6,>=2.0.1 in /usr/local/lib/python3.7/dist-packages (from matplotlib<3,>=2.2->responsibly) (3.0.9)\n",
            "Requirement already satisfied: python-dateutil>=2.1 in /usr/local/lib/python3.7/dist-packages (from matplotlib<3,>=2.2->responsibly) (2.8.2)\n",
            "Requirement already satisfied: pytz in /usr/local/lib/python3.7/dist-packages (from matplotlib<3,>=2.2->responsibly) (2022.6)\n",
            "Requirement already satisfied: cycler>=0.10 in /usr/local/lib/python3.7/dist-packages (from matplotlib<3,>=2.2->responsibly) (0.11.0)\n",
            "Requirement already satisfied: kiwisolver>=1.0.1 in /usr/local/lib/python3.7/dist-packages (from matplotlib<3,>=2.2->responsibly) (1.4.4)\n",
            "Requirement already satisfied: typing-extensions in /usr/local/lib/python3.7/dist-packages (from kiwisolver>=1.0.1->matplotlib<3,>=2.2->responsibly) (4.1.1)\n",
            "Requirement already satisfied: setuptools in /usr/local/lib/python3.7/dist-packages (from mlxtend<0.17,>=0.13->responsibly) (57.4.0)\n",
            "Requirement already satisfied: joblib>=0.11 in /usr/local/lib/python3.7/dist-packages (from scikit-learn>=0.19->responsibly) (1.2.0)\n",
            "Requirement already satisfied: threadpoolctl>=2.0.0 in /usr/local/lib/python3.7/dist-packages (from scikit-learn>=0.19->responsibly) (3.1.0)\n"
          ]
        }
      ],
      "source": [
        "%pip install --user responsibly"
      ]
    },
    {
      "cell_type": "markdown",
      "metadata": {
        "id": "7KVoylBYC3u0"
      },
      "source": [
        "---\n",
        "\n",
        "### You might need to restart youe notebook\n",
        "If you get an error of **`ModuleNotFoundError: No module named 'responsibly'`** after the `import responsibly` in the next cell, and you work on either **Colab** or **Binder** - this is **normal**.\n",
        "<br/> <br/>\n",
        "**Restart** the Kernel/Runtime (use the menu on top or the botton in the notebook), **skip** the installation cell (`!pip install --user responsibly`) and **run** the previous cell again (`import responsibly`).\n",
        "\n",
        "Now it should all work fine!\n",
        "\n",
        "---"
      ]
    },
    {
      "cell_type": "markdown",
      "metadata": {
        "id": "rU1uolhsC3u0"
      },
      "source": [
        "## 1.2 - Validate Installation of `responsibly`"
      ]
    },
    {
      "cell_type": "code",
      "execution_count": null,
      "metadata": {
        "id": "E63RXd26C3u0",
        "colab": {
          "base_uri": "https://localhost:8080/",
          "height": 35
        },
        "outputId": "3f21a1ca-e659-4dec-a337-235c9577e014"
      },
      "outputs": [
        {
          "output_type": "execute_result",
          "data": {
            "text/plain": [
              "'0.1.3'"
            ],
            "application/vnd.google.colaboratory.intrinsic+json": {
              "type": "string"
            }
          },
          "metadata": {},
          "execution_count": 2
        }
      ],
      "source": [
        "import responsibly\n",
        "\n",
        "# You should get '0.1.3'\n",
        "responsibly.__version__"
      ]
    },
    {
      "cell_type": "markdown",
      "metadata": {
        "id": "ND0y48N0C3u1"
      },
      "source": [
        "# Part Two: Examples of Bias in Language Technology"
      ]
    },
    {
      "cell_type": "markdown",
      "metadata": {
        "id": "7bC6uNO_DRAm"
      },
      "source": [
        "## 2.1 - Translation\n",
        "\n",
        "<img src=\"https://github.com/ResponsiblyAI/word-embedding/blob/main/images/example-translate.jpg?raw=1\"/>\n",
        "\n",
        "Source: [Google Blog](https://www.blog.google/products/translate/reducing-gender-bias-google-translate/), [Google AI Blog](https://ai.googleblog.com/2018/12/providing-gender-specific-translations.html)"
      ]
    },
    {
      "cell_type": "markdown",
      "metadata": {
        "id": "87IEqEWwDRK3"
      },
      "source": [
        "## 2.2 - Automated Speech Recognition (ASR) \n",
        "\n",
        "<img src=\"https://github.com/ResponsiblyAI/word-embedding/blob/main/images/asr-wer.jpg?raw=1\" />\n",
        "\n",
        "WER = Average Word Error Rate\n",
        "\n",
        "`(substitutions + deletions + insertions) / total number of words`\n",
        "\n",
        "Koenecke, Allison, Andrew Nam, Emily Lake, Joe Nudell, Minnie Quartey, Zion Mengesha, Connor Toups, John R. Rickford, Dan Jurafsky, and Sharad Goel. \"[Racial disparities in automated speech recognition](https://www.pnas.org/content/117/14/7684).\" Proceedings of the National Academy of Sciences 117, no. 14 (2020): 7684-7689.\n",
        "\n",
        "[Stanford News](https://news.stanford.edu/2020/03/23/automated-speech-recognition-less-accurate-blacks/)"
      ]
    },
    {
      "cell_type": "markdown",
      "metadata": {
        "id": "zkXSkI3SC3u1"
      },
      "source": [
        "## 2.3 - Recruiting tool\n",
        "\n",
        "\"Amazon scraps secret AI recruiting tool that showed bias against women\" ([Reuters](https://www.reuters.com/article/us-amazon-com-jobs-automation-insight/amazon-scraps-secret-ai-recruiting-tool-that-showed-bias-against-women-idUSKCN1MK08G))\n",
        "\n",
        "\"But by 2015, the company realized its new system was not rating candidates for software developer jobs and other technical posts in a gender-neutral way.\""
      ]
    },
    {
      "cell_type": "markdown",
      "metadata": {
        "id": "6112Hp2dDaYG"
      },
      "source": [
        "\n",
        "## 2.4 - Natural Language Generation  (based on language models)\n",
        "\n",
        "\n",
        "### WARNING: The following demonstration contains examples which are offensive in nature.\n",
        "\n",
        "\n",
        "[Write With Transformer](https://transformer.huggingface.co/doc/gpt2-large) (OpenAI GPT-2)\n",
        "\n",
        "<img src=\"https://github.com/ResponsiblyAI/word-embedding/blob/main/images/nlg-prompt.png?raw=1\" width=\"400\"/>\n",
        "\n",
        "1. Sheng, E., Chang, K. W., Natarajan, P., & Peng, N. (2019). [The woman worked as a babysitter: On biases in language generation](https://arxiv.org/pdf/1909.01326.pdf). arXiv preprint arXiv:1909.01326.\n",
        "2. [StereoSet](https://stereoset.mit.edu/)\n",
        "Nadeem, M., Bethke, A., & Reddy, S. (2020). [StereoSet: Measuring stereotypical bias in pretrained language models](https://arxiv.org/pdf/2004.09456.pdf). arXiv preprint arXiv:2004.09456."
      ]
    },
    {
      "cell_type": "markdown",
      "metadata": {
        "id": "OP-aP2sZEu6o"
      },
      "source": [
        "<img src=\"https://github.com/ResponsiblyAI/word-embedding/blob/main/images/banner.png?raw=1\" />"
      ]
    },
    {
      "cell_type": "markdown",
      "metadata": {
        "id": "uJx1tKxrC3vA"
      },
      "source": [
        "# Part Three: Gender Bias\n",
        "\n",
        "**⚡ We use the word *bias* merely as a technical term, without jugement of \"good\" or \"bad\". Later on we will put the bias into *human contextes* to evaluate it.**\n",
        "\n",
        "Keep in mind, the data is from Google News, the writers are professional journalists.\n",
        "\n",
        "Bolukbasi Tolga, Kai-Wei Chang, James Y. Zou, Venkatesh Saligrama, and Adam T. Kalai. [Man is to computer programmer as woman is to homemaker? debiasing word embeddings](https://arxiv.org/abs/1607.06520). NIPS 2016."
      ]
    },
    {
      "cell_type": "code",
      "execution_count": null,
      "metadata": {
        "id": "P8T1Vu6mC3vA"
      },
      "outputs": [],
      "source": [
        "from responsibly.we import load_w2v_small\n",
        "\n",
        "w2v_small = load_w2v_small()"
      ]
    },
    {
      "cell_type": "markdown",
      "metadata": {
        "id": "VFoKGcr2C3vA"
      },
      "source": [
        "## 3.1 - Gender appropriate he-she analogies"
      ]
    },
    {
      "cell_type": "code",
      "execution_count": null,
      "metadata": {
        "id": "mzHt7krQC3vB",
        "colab": {
          "base_uri": "https://localhost:8080/"
        },
        "outputId": "3aeca690-6d73-4d97-9f20-e26f48726fcf"
      },
      "outputs": [
        {
          "output_type": "execute_result",
          "data": {
            "text/plain": [
              "[('brother', 0.7627110481262207),\n",
              " ('younger_brother', 0.6856132745742798),\n",
              " ('cousin', 0.6685015559196472),\n",
              " ('uncle', 0.6580697894096375),\n",
              " ('nephew', 0.65260249376297),\n",
              " ('father', 0.6411106586456299),\n",
              " ('son', 0.630827009677887),\n",
              " ('elder_brother', 0.585418701171875),\n",
              " ('brothers', 0.5706700086593628),\n",
              " ('twin_brother', 0.5622221231460571)]"
            ]
          },
          "metadata": {},
          "execution_count": 4
        }
      ],
      "source": [
        "# she:sister :: he:?\n",
        "# sister - she + he = ?\n",
        "\n",
        "w2v_small.most_similar(positive=['sister', 'he'],\n",
        "                       negative=['she'])"
      ]
    },
    {
      "cell_type": "markdown",
      "metadata": {
        "id": "HctdMqv8C3vB"
      },
      "source": [
        "```\n",
        "queen-king\n",
        "waitress-waiter\n",
        "sister-brother\n",
        "mother-father\n",
        "ovarian_cancer-prostate_cancer\n",
        "convent-monastery\n",
        "```"
      ]
    },
    {
      "cell_type": "markdown",
      "metadata": {
        "id": "JmdyMQbBC3vB"
      },
      "source": [
        "## 3.2 - Gender stereotype he-she analogies"
      ]
    },
    {
      "cell_type": "code",
      "execution_count": 4,
      "metadata": {
        "id": "jr2eqeFJC3vC"
      },
      "outputs": [],
      "source": [
        "from responsibly.we import most_similar"
      ]
    },
    {
      "cell_type": "code",
      "execution_count": null,
      "metadata": {
        "id": "1Lq26hcCC3vB",
        "colab": {
          "base_uri": "https://localhost:8080/"
        },
        "outputId": "38e632ce-990a-4b8e-c99d-bf22963190f7"
      },
      "outputs": [
        {
          "output_type": "execute_result",
          "data": {
            "text/plain": [
              "[('doctor', 0.5559606552124023),\n",
              " ('medic', 0.5425378680229187),\n",
              " ('physician', 0.5394272208213806),\n",
              " ('surgeon', 0.5160146951675415),\n",
              " ('nurses', 0.49741458892822266),\n",
              " ('paramedic', 0.4924110770225525),\n",
              " ('patient', 0.46544164419174194),\n",
              " ('doctors', 0.4639861285686493),\n",
              " ('nursing', 0.46371760964393616),\n",
              " ('registered_nurse', 0.46238088607788086)]"
            ]
          },
          "metadata": {},
          "execution_count": 5
        }
      ],
      "source": [
        "w2v_small.most_similar(positive=['nurse', 'he'],\n",
        "                       negative=['she'])"
      ]
    },
    {
      "cell_type": "markdown",
      "source": [
        "## Exercise 1.0: Can you find other gender stereotypes? "
      ],
      "metadata": {
        "id": "Zp2mR0chhSbF"
      }
    },
    {
      "cell_type": "code",
      "source": [
        "## Your code goes here"
      ],
      "metadata": {
        "id": "9Py5siXrhjqF"
      },
      "execution_count": 1,
      "outputs": []
    },
    {
      "cell_type": "markdown",
      "metadata": {
        "id": "KDLn6n64C3vC"
      },
      "source": [
        "## 3.3 - What can we take from analogies? Gender Direction!\n",
        "\n",
        "### $\\overrightarrow{she} - \\overrightarrow{he}$"
      ]
    },
    {
      "cell_type": "markdown",
      "metadata": {
        "id": "j6_SqDfEC3vD"
      },
      "source": [
        "In practice, we calculate the gender direction using multiple definitional pair of words for better estimation (words may have more than one meaning):\n",
        "\n",
        "- woman - man\n",
        "- girl - boy\n",
        "- she - he\n",
        "- mother - father\n",
        "- daughter - son\n",
        "- gal - guy\n",
        "- female - male\n",
        "- her - his\n",
        "- herself - himself\n",
        "- Mary - John"
      ]
    },
    {
      "cell_type": "code",
      "execution_count": null,
      "metadata": {
        "id": "6Fl65I1vC3vC"
      },
      "outputs": [],
      "source": [
        "from numpy.linalg import norm\n",
        "\n",
        "gender_direction = w2v_small['she'] - w2v_small['he']\n",
        "\n",
        "gender_direction /= norm(gender_direction)"
      ]
    },
    {
      "cell_type": "code",
      "source": [
        "gender_direction @ w2v_small['herself']"
      ],
      "metadata": {
        "colab": {
          "base_uri": "https://localhost:8080/"
        },
        "id": "UomAF_bHiGOi",
        "outputId": "aaafc072-a5ca-4cee-c0e3-38822c7fa1d0"
      },
      "execution_count": null,
      "outputs": [
        {
          "output_type": "execute_result",
          "data": {
            "text/plain": [
              "0.3708599"
            ]
          },
          "metadata": {},
          "execution_count": 18
        }
      ]
    },
    {
      "cell_type": "code",
      "source": [
        "gender_direction @ w2v_small['himself']"
      ],
      "metadata": {
        "colab": {
          "base_uri": "https://localhost:8080/"
        },
        "id": "vL3-9J1TiSfb",
        "outputId": "2f89140f-35e6-4015-a4e1-5a27da50731d"
      },
      "execution_count": null,
      "outputs": [
        {
          "output_type": "execute_result",
          "data": {
            "text/plain": [
              "-0.36822695"
            ]
          },
          "metadata": {},
          "execution_count": 19
        }
      ]
    },
    {
      "cell_type": "markdown",
      "source": [
        "## Exercise 2.0: Calculate gender_direction (she - he) with respect to \"architect\" and \"interior_designer\". Are they positive or negative? Why?"
      ],
      "metadata": {
        "id": "ME9Y3XPjiY4e"
      }
    },
    {
      "cell_type": "code",
      "execution_count": 2,
      "metadata": {
        "id": "55MCmDhWC3vC"
      },
      "outputs": [],
      "source": [
        "### Your code goes here"
      ]
    },
    {
      "cell_type": "markdown",
      "metadata": {
        "id": "KXoDjjFSC3vD"
      },
      "source": [
        "**⚡Interprete carefully: The word *architect* appears in more contexts with *he* than with *she*, and vice versa for *interior designer*.**"
      ]
    },
    {
      "cell_type": "markdown",
      "metadata": {
        "id": "9DuWu9yVC3vE"
      },
      "source": [
        "## 3.7 - Projections"
      ]
    },
    {
      "cell_type": "code",
      "execution_count": null,
      "metadata": {
        "id": "ucDbQ13uC3vE"
      },
      "outputs": [],
      "source": [
        "from responsibly.we import GenderBiasWE\n",
        "\n",
        "w2v_small_gender_bias = GenderBiasWE(w2v_small, only_lower=True)"
      ]
    },
    {
      "cell_type": "code",
      "execution_count": null,
      "metadata": {
        "id": "wOy5EDmRC3vE",
        "colab": {
          "base_uri": "https://localhost:8080/"
        },
        "outputId": "7698e1ff-3d89-497f-8bd4-9bf28ef140a0"
      },
      "outputs": [
        {
          "output_type": "execute_result",
          "data": {
            "text/plain": [
              "('she', 'he')"
            ]
          },
          "metadata": {},
          "execution_count": 21
        }
      ],
      "source": [
        "w2v_small_gender_bias.positive_end, w2v_small_gender_bias.negative_end"
      ]
    },
    {
      "cell_type": "code",
      "execution_count": null,
      "metadata": {
        "id": "NzlmJWFdC3vE",
        "colab": {
          "base_uri": "https://localhost:8080/"
        },
        "outputId": "0939c59e-e6a1-46f7-fd10-6b07fa85f8cc"
      },
      "outputs": [
        {
          "output_type": "execute_result",
          "data": {
            "text/plain": [
              "array([-0.10056252, -0.09987912, -0.05384335,  0.00480521,  0.01521063,\n",
              "       -0.01666582,  0.00932552, -0.00625998, -0.11320096,  0.03992424])"
            ]
          },
          "metadata": {},
          "execution_count": 22
        }
      ],
      "source": [
        "# gender direction\n",
        "w2v_small_gender_bias.direction[:10]"
      ]
    },
    {
      "cell_type": "code",
      "execution_count": null,
      "metadata": {
        "id": "KI8U2QhCC3vE"
      },
      "outputs": [],
      "source": [
        "from responsibly.we.data import BOLUKBASI_DATA\n",
        "\n",
        "neutral_profession_names = BOLUKBASI_DATA['gender']['neutral_profession_names']"
      ]
    },
    {
      "cell_type": "code",
      "execution_count": null,
      "metadata": {
        "id": "tAHD1RdXC3vF",
        "colab": {
          "base_uri": "https://localhost:8080/"
        },
        "outputId": "4355bc85-2a06-4be9-8c95-02ca03984865"
      },
      "outputs": [
        {
          "output_type": "execute_result",
          "data": {
            "text/plain": [
              "['accountant',\n",
              " 'acquaintance',\n",
              " 'actor',\n",
              " 'adjunct_professor',\n",
              " 'administrator',\n",
              " 'adventurer',\n",
              " 'advocate',\n",
              " 'aide']"
            ]
          },
          "metadata": {},
          "execution_count": 24
        }
      ],
      "source": [
        "neutral_profession_names[:8]"
      ]
    },
    {
      "cell_type": "markdown",
      "metadata": {
        "id": "loqvR0qUC3vF"
      },
      "source": [
        "Note: Why `actor` is in the neutral profession names list while `actress` is not there?\n",
        "1. Due to the statistical nature of the method that is used to find the gender- specific and natural words\n",
        "2. That might be because `actor` nowadays is much more gender-neutral, compared to waiter-waitress (see [Wikipedia - The term Actress](https://en.wikipedia.org/wiki/Actor#The_term_actress))"
      ]
    },
    {
      "cell_type": "code",
      "execution_count": null,
      "metadata": {
        "id": "fLgkcOuGC3vF",
        "colab": {
          "base_uri": "https://localhost:8080/"
        },
        "outputId": "e3f1333e-b917-4da1-cbee-9db0bba9e23b"
      },
      "outputs": [
        {
          "output_type": "execute_result",
          "data": {
            "text/plain": [
              "303"
            ]
          },
          "metadata": {},
          "execution_count": 25
        }
      ],
      "source": [
        "len(neutral_profession_names)"
      ]
    },
    {
      "cell_type": "code",
      "execution_count": null,
      "metadata": {
        "id": "qby3XDrfC3vF",
        "colab": {
          "base_uri": "https://localhost:8080/"
        },
        "outputId": "c31b52f1-3fdc-47af-8272-6f3de9bff10f"
      },
      "outputs": [
        {
          "output_type": "execute_result",
          "data": {
            "text/plain": [
              "0.008421647916552755"
            ]
          },
          "metadata": {},
          "execution_count": 26
        }
      ],
      "source": [
        "# the same of using the @ operator on the bias direction\n",
        "\n",
        "w2v_small_gender_bias.project_on_direction(neutral_profession_names[0])"
      ]
    },
    {
      "cell_type": "markdown",
      "metadata": {
        "id": "th7UryxdC3vF"
      },
      "source": [
        "**Let's visualize the projections of professions (neutral and specific by the orthography) on the gender direction**"
      ]
    },
    {
      "cell_type": "code",
      "execution_count": null,
      "metadata": {
        "id": "juiycs76C3vF",
        "colab": {
          "base_uri": "https://localhost:8080/",
          "height": 621
        },
        "outputId": "46914fcd-f164-4d92-93c1-693d8c4ae031"
      },
      "outputs": [
        {
          "output_type": "display_data",
          "data": {
            "text/plain": [
              "<Figure size 720x720 with 1 Axes>"
            ],
            "image/png": "[encoded data removed]"
          },
          "metadata": {
            "needs_background": "light"
          }
        }
      ],
      "source": [
        "import matplotlib.pylab as plt\n",
        "\n",
        "f, ax = plt.subplots(1, figsize=(10, 10))\n",
        "\n",
        "w2v_small_gender_bias.plot_projection_scores(n_extreme=20, ax=ax);"
      ]
    },
    {
      "cell_type": "markdown",
      "metadata": {
        "id": "K1MgiofyC3vF"
      },
      "source": [
        "EXTRA: Demo - Visualizing gender bias with [Word Clouds](http://wordbias.umiacs.umd.edu/)"
      ]
    },
    {
      "cell_type": "markdown",
      "metadata": {
        "id": "1IlRykZjC3vG"
      },
      "source": [
        "## 3.8 - Are the projections of occupation words on the gender direction related to the real world?\n",
        "\n",
        "Let's take the percentage of female in various occupations from the Labor Force Statistics of 2017 Population Survey.\n",
        "\n",
        "Taken from: https://arxiv.org/abs/1804.06876"
      ]
    },
    {
      "cell_type": "code",
      "execution_count": null,
      "metadata": {
        "id": "-xrMYFBXC3vG",
        "colab": {
          "base_uri": "https://localhost:8080/"
        },
        "outputId": "4fbf5af0-14d4-4ea3-b4ba-102bc5d2027d"
      },
      "outputs": [
        {
          "output_type": "execute_result",
          "data": {
            "text/plain": [
              "[('carpenter', 2),\n",
              " ('mechanician', 4),\n",
              " ('construction_worker', 4),\n",
              " ('laborer', 4),\n",
              " ('driver', 6),\n",
              " ('sheriff', 14),\n",
              " ('mover', 18),\n",
              " ('developer', 20),\n",
              " ('farmer', 22),\n",
              " ('guard', 22),\n",
              " ('chief', 27),\n",
              " ('janitor', 34),\n",
              " ('lawyer', 35),\n",
              " ('cook', 38),\n",
              " ('physician', 38),\n",
              " ('ceo', 39),\n",
              " ('analyst', 41),\n",
              " ('manager', 43),\n",
              " ('supervisor', 44),\n",
              " ('salesperson', 48),\n",
              " ('editor', 52),\n",
              " ('designers', 54),\n",
              " ('accountant', 61),\n",
              " ('auditor', 61),\n",
              " ('writer', 63),\n",
              " ('baker', 65),\n",
              " ('clerk', 72),\n",
              " ('cashier', 73),\n",
              " ('counselors', 73),\n",
              " ('attendant', 76),\n",
              " ('teacher', 78),\n",
              " ('sewer', 80),\n",
              " ('librarian', 84),\n",
              " ('assistant', 85),\n",
              " ('cleaner', 89),\n",
              " ('housekeeper', 89),\n",
              " ('nurse', 90),\n",
              " ('receptionist', 90),\n",
              " ('hairdressers', 92),\n",
              " ('secretary', 95)]"
            ]
          },
          "metadata": {},
          "execution_count": 28
        }
      ],
      "source": [
        "from operator import itemgetter  # 🛠️ For idiomatic sorting in Python\n",
        "\n",
        "from responsibly.we.data import OCCUPATION_FEMALE_PRECENTAGE\n",
        "\n",
        "sorted(OCCUPATION_FEMALE_PRECENTAGE.items(), key=itemgetter(1))"
      ]
    },
    {
      "cell_type": "code",
      "execution_count": null,
      "metadata": {
        "id": "i2j4_uCFC3vG",
        "colab": {
          "base_uri": "https://localhost:8080/",
          "height": 513
        },
        "outputId": "117e8515-92a4-4138-d85f-7b66fe1519a7"
      },
      "outputs": [
        {
          "output_type": "display_data",
          "data": {
            "text/plain": [
              "<Figure size 720x576 with 1 Axes>"
            ],
            "image/png": "[encoded data removed]"
          },
          "metadata": {
            "needs_background": "light"
          }
        }
      ],
      "source": [
        "f, ax = plt.subplots(1, figsize=(10, 8))\n",
        "\n",
        "w2v_small_gender_bias.plot_factual_association(ax=ax);"
      ]
    },
    {
      "cell_type": "markdown",
      "metadata": {
        "id": "KwZmL19LC3vG"
      },
      "source": [
        "## 3.9 - Direct Bias Measure\n",
        "\n",
        "1. Project each **neutral profession names** on the gender direction\n",
        "2. Calculate the absolute value of each projection\n",
        "3. Average it all"
      ]
    },
    {
      "cell_type": "code",
      "execution_count": null,
      "metadata": {
        "id": "MdXFI9EqC3vG",
        "colab": {
          "base_uri": "https://localhost:8080/"
        },
        "outputId": "4467f994-6256-4876-aaa8-74540bbc3384"
      },
      "outputs": [
        {
          "output_type": "execute_result",
          "data": {
            "text/plain": [
              "0.07307905466893873"
            ]
          },
          "metadata": {},
          "execution_count": 31
        }
      ],
      "source": [
        "# using responsibly\n",
        "\n",
        "w2v_small_gender_bias.calc_direct_bias()"
      ]
    },
    {
      "cell_type": "markdown",
      "metadata": {
        "id": "Dv_Zav4DC3vH"
      },
      "source": [
        "## Exercise 3.0: Calculate the average of absolute score of gender neutral profession names."
      ]
    },
    {
      "cell_type": "code",
      "execution_count": null,
      "metadata": {
        "id": "MbB7U8IFC3vH"
      },
      "outputs": [],
      "source": [
        "# Calculating neutral projection of each name from neutral_profession_names by multiplying with gender bias direction\n",
        "neutral_profession_projections = [w2v_small[word] @ w2v_small_gender_bias.direction\n",
        "                                  for word in neutral_profession_names]\n",
        "# Calculate absolute score of each projection\n",
        "\n",
        "\n",
        "abs_neutral_profession_projections = ### Your code goes here\n",
        "\n",
        "sum(abs_neutral_profession_projections) / len(abs_neutral_profession_projections) "
      ]
    },
    {
      "cell_type": "markdown",
      "metadata": {
        "id": "x2AxxNoXC3vH"
      },
      "source": [
        "# Part Four: Mitigating Bias\n",
        "\n",
        "> We intentionally do not reference the resulting embeddings as \"debiased\" or free from all gender bias, and\n",
        "prefer the term \"mitigating bias\" rather that \"debiasing,\" to guard against the misconception that the resulting\n",
        "embeddings are entirely \"safe\" and need not be critically evaluated for bias in downstream tasks. <small>James-Sorenson, H., & Alvarez-Melis, D. (2019). [Probabilistic Bias Mitigation in Word Embeddings](https://arxiv.org/pdf/1910.14497.pdf). arXiv preprint arXiv:1910.14497.</small>"
      ]
    },
    {
      "cell_type": "markdown",
      "metadata": {
        "id": "TlW6-I0vECj5"
      },
      "source": [
        "## 4.1 - Neutralize\n",
        "\n",
        "In this case, we will remove the gender projection from all the words, except the neutral-gender ones, and then normalize.\n",
        "\n",
        "We need to \"learn\" what are the gender-specific words in the vocabulary for a seed set of gender-specific words (by semi-automatic use of [WordNet](https://en.wikipedia.org/wiki/WordNet))"
      ]
    },
    {
      "cell_type": "code",
      "execution_count": null,
      "metadata": {
        "id": "RzIzwzcXC3vH"
      },
      "outputs": [],
      "source": [
        "w2v_small_gender_debias = w2v_small_gender_bias.debias(method='neutralize', inplace=False)"
      ]
    },
    {
      "cell_type": "code",
      "execution_count": null,
      "metadata": {
        "id": "J3hgtHyxC3vH",
        "colab": {
          "base_uri": "https://localhost:8080/"
        },
        "outputId": "d2bfb858-854c-40a0-ce43-109d37268e2e"
      },
      "outputs": [
        {
          "output_type": "stream",
          "name": "stdout",
          "text": [
            "home: before = 0.011340496779172262 after =  -1.1762454503583112e-09\n"
          ]
        }
      ],
      "source": [
        "print('home:',\n",
        "      'before =', w2v_small_gender_bias.model['home'] @ w2v_small_gender_bias.direction,\n",
        "      'after = ', w2v_small_gender_debias.model['home'] @ w2v_small_gender_debias.direction)"
      ]
    },
    {
      "cell_type": "markdown",
      "source": [
        "## Exercise 4.0: Calcualte gender direction score for word \"man\" before and after debiasing."
      ],
      "metadata": {
        "id": "3dupAfNon0ou"
      }
    },
    {
      "cell_type": "code",
      "execution_count": null,
      "metadata": {
        "id": "IZC7y2I9C3vI"
      },
      "outputs": [],
      "source": [
        "## Your code goes here"
      ]
    },
    {
      "cell_type": "markdown",
      "source": [
        "## Exercise 5: Similar to 3.7 and 3.8 draw direction projection vs words and factual property vs direction projection graph? Do you see any improvement?"
      ],
      "metadata": {
        "id": "blrx94sQ0LeF"
      }
    },
    {
      "cell_type": "code",
      "source": [
        "## Your code goes here"
      ],
      "metadata": {
        "id": "Apq99R0rEsAw"
      },
      "execution_count": null,
      "outputs": []
    }
  ],
  "metadata": {
    "colab": {
      "provenance": [],
      "toc_visible": true
    },
    "kernelspec": {
      "display_name": "Python 3",
      "language": "python",
      "name": "python3"
    },
    "language_info": {
      "codemirror_mode": {
        "name": "ipython",
        "version": 3
      },
      "file_extension": ".py",
      "mimetype": "text/x-python",
      "name": "python",
      "nbconvert_exporter": "python",
      "pygments_lexer": "ipython3",
      "version": "3.8.3"
    }
  },
  "nbformat": 4,
  "nbformat_minor": 0
}