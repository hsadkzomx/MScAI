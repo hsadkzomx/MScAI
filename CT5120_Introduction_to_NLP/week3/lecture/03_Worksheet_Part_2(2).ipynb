{
  "nbformat": 4,
  "nbformat_minor": 0,
  "metadata": {
    "colab": {
      "provenance": []
    },
    "kernelspec": {
      "name": "python3",
      "display_name": "Python 3"
    },
    "language_info": {
      "name": "python"
    }
  },
  "cells": [
    {
      "cell_type": "markdown",
      "metadata": {
        "id": "oXHs47kWKoJw"
      },
      "source": [
        "# Text Classification (part 2)\n",
        "\n",
        "For this section we are going to look at text classification into two genres, 'news' and 'fiction', based on the Brown corpus.\n",
        "\n",
        "First we will download the Brown corpus"
      ]
    },
    {
      "cell_type": "code",
      "metadata": {
        "colab": {
          "base_uri": "https://localhost:8080/"
        },
        "id": "V8wbirJNKqXA",
        "outputId": "6ee22677-2fe5-4740-8884-0c3f20b870a3"
      },
      "source": [
        "import nltk\n",
        "nltk.download(\"brown\")\n",
        "from nltk.corpus import brown\n",
        "from math import log\n"
      ],
      "execution_count": null,
      "outputs": [
        {
          "output_type": "stream",
          "name": "stdout",
          "text": [
            "[nltk_data] Downloading package brown to /root/nltk_data...\n",
            "[nltk_data]   Unzipping corpora/brown.zip.\n"
          ]
        }
      ]
    },
    {
      "cell_type": "markdown",
      "metadata": {
        "id": "VbqdfOhhRaqB"
      },
      "source": [
        "We will now divide our corpus into train and test. Use 500 random documents from each category for test and the remaining documents as training"
      ]
    },
    {
      "cell_type": "code",
      "metadata": {
        "id": "V0UN2y1-ReMe"
      },
      "source": [
        "from random import shuffle\n",
        "\n",
        "news = list(brown.sents(categories=\"news\"))\n",
        "fiction = list(brown.sents(categories=\"fiction\"))\n",
        "\n",
        "train_news = []\n",
        "train_fiction = []\n",
        "test_sents = []\n"
      ],
      "execution_count": null,
      "outputs": []
    },
    {
      "cell_type": "markdown",
      "metadata": {
        "id": "qJIIQBkVOj1K"
      },
      "source": [
        "Next we will count the corpus and choose as features the words that have are between the 50th most frequent and the 2000th most frequent"
      ]
    },
    {
      "cell_type": "code",
      "metadata": {
        "id": "upzyHfZVMK5-"
      },
      "source": [
        "from nltk import FreqDist\n",
        "\n",
        "words = FreqDist(w.lower() for w in brown.words())\n",
        "\n",
        "feat_words = set()\n",
        "\n",
        "fd_news = FreqDist()\n",
        "fd_fiction = FreqDist()"
      ],
      "execution_count": null,
      "outputs": []
    },
    {
      "cell_type": "markdown",
      "metadata": {
        "id": "pBGly6aTO1mS"
      },
      "source": [
        "We will now apply Naïve Bayes to make our classifier. First calculate the base probability as $\\log(P(news)) - \\log(P(fiction))$.\n",
        "\n",
        "Then classify using the Naïve Bayes formula\n",
        "\n",
        "$\\log(P(news)) + \\sum_i \\log P(w_i | news) > \\log(P(fiction)) + \\sum_i \\log P(w_i | fiction)$\n",
        "\n",
        "Use a small value `1e-6` as the frequency for words not in one corpus.\n"
      ]
    },
    {
      "cell_type": "code",
      "metadata": {
        "id": "1AoKmg3ZMcPb"
      },
      "source": [
        "base_prob = 0.0\n",
        "\n",
        "def classify(text, base_prob):\n",
        "  total = base_prob\n",
        "  if total > 0:\n",
        "    return \"news\"\n",
        "  else:\n",
        "    return \"fiction\"\n"
      ],
      "execution_count": null,
      "outputs": []
    },
    {
      "cell_type": "markdown",
      "metadata": {
        "id": "pXM8mQX4O4US"
      },
      "source": [
        "We will now calculate the effectiveness of our classifier using precision, recall and F-Measure"
      ]
    },
    {
      "cell_type": "code",
      "metadata": {
        "colab": {
          "base_uri": "https://localhost:8080/"
        },
        "id": "KPgzbevDOD2A",
        "outputId": "cafa7028-a756-4b97-e40c-cebcbaa1ed0b"
      },
      "source": [
        "def evaluate(base_prob):\n",
        "  tp = 0\n",
        "  fp = 0\n",
        "  fn = 0\n",
        "  tn = 0\n",
        "  return (0.0, 0.0, 0.0)\n",
        "\n",
        "precision, recall, fm = evaluate(base_prob)\n",
        "\n",
        "print(\"Precision\",precision)\n",
        "print(\"Recall\",recall)\n",
        "print(\"F-Measure\",fm)"
      ],
      "execution_count": null,
      "outputs": [
        {
          "output_type": "stream",
          "name": "stdout",
          "text": [
            "Precision 0.0\n",
            "Recall 0.0\n",
            "F-Measure 0.0\n"
          ]
        }
      ]
    },
    {
      "cell_type": "markdown",
      "metadata": {
        "id": "UanCdNxlUelF"
      },
      "source": [
        "What can we change in order to increase the recall (at the cost of precision) or precision (at the cost of recall)?\n",
        "\n",
        "Plot the change in precision and recall according to this parameter by varying this parameter over the range `arange(-5,5,0.5)`"
      ]
    },
    {
      "cell_type": "code",
      "metadata": {
        "id": "H3UyxuN0TBxG"
      },
      "source": [
        "%matplotlib inline\n",
        "import matplotlib.pyplot as plt\n",
        "from numpy import arange"
      ],
      "execution_count": null,
      "outputs": []
    },
    {
      "cell_type": "code",
      "metadata": {
        "colab": {
          "base_uri": "https://localhost:8080/",
          "height": 282
        },
        "id": "rRNiz0GRTD1u",
        "outputId": "7bb84c64-7f04-4936-db3f-09cae1c58d21"
      },
      "source": [
        "parameter = arange(-5,5,0.5)\n",
        "\n",
        "precision = []\n",
        "recall = []\n",
        "\n",
        "plt.plot(precision, recall)"
      ],
      "execution_count": null,
      "outputs": [
        {
          "output_type": "execute_result",
          "data": {
            "text/plain": [
              "[<matplotlib.lines.Line2D at 0x7fc6f552cc10>]"
            ]
          },
          "metadata": {},
          "execution_count": 10
        },
        {
          "output_type": "display_data",
          "data": {
            "image/png": "[encoded data removed]",
            "text/plain": [
              "<Figure size 432x288 with 1 Axes>"
            ]
          },
          "metadata": {
            "needs_background": "light"
          }
        }
      ]
    }
  ]
}