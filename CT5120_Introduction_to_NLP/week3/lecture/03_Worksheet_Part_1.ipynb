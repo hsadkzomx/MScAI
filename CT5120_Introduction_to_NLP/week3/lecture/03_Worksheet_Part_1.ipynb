{
  "nbformat": 4,
  "nbformat_minor": 0,
  "metadata": {
    "colab": {
      "provenance": []
    },
    "kernelspec": {
      "name": "python3",
      "display_name": "Python 3"
    },
    "language_info": {
      "name": "python"
    }
  },
  "cells": [
    {
      "cell_type": "markdown",
      "metadata": {
        "id": "NuK072uU3cd0"
      },
      "source": [
        "# Text Classification\n",
        "\n",
        "In this lecture we are looking at text classification using Naïve Bayes. We will look at the authors of inaugural addresses by US presidents"
      ]
    },
    {
      "cell_type": "code",
      "metadata": {
        "colab": {
          "base_uri": "https://localhost:8080/"
        },
        "id": "dpqq5U8d3pew",
        "outputId": "f416bb48-9537-4993-f8d8-5c0d3c01e30e"
      },
      "source": [
        "import nltk\n",
        "nltk.download(\"inaugural\")\n",
        "from nltk.corpus import inaugural\n",
        "print(inaugural.fileids())"
      ],
      "execution_count": 1,
      "outputs": [
        {
          "output_type": "stream",
          "name": "stdout",
          "text": [
            "['1789-Washington.txt', '1793-Washington.txt', '1797-Adams.txt', '1801-Jefferson.txt', '1805-Jefferson.txt', '1809-Madison.txt', '1813-Madison.txt', '1817-Monroe.txt', '1821-Monroe.txt', '1825-Adams.txt', '1829-Jackson.txt', '1833-Jackson.txt', '1837-VanBuren.txt', '1841-Harrison.txt', '1845-Polk.txt', '1849-Taylor.txt', '1853-Pierce.txt', '1857-Buchanan.txt', '1861-Lincoln.txt', '1865-Lincoln.txt', '1869-Grant.txt', '1873-Grant.txt', '1877-Hayes.txt', '1881-Garfield.txt', '1885-Cleveland.txt', '1889-Harrison.txt', '1893-Cleveland.txt', '1897-McKinley.txt', '1901-McKinley.txt', '1905-Roosevelt.txt', '1909-Taft.txt', '1913-Wilson.txt', '1917-Wilson.txt', '1921-Harding.txt', '1925-Coolidge.txt', '1929-Hoover.txt', '1933-Roosevelt.txt', '1937-Roosevelt.txt', '1941-Roosevelt.txt', '1945-Roosevelt.txt', '1949-Truman.txt', '1953-Eisenhower.txt', '1957-Eisenhower.txt', '1961-Kennedy.txt', '1965-Johnson.txt', '1969-Nixon.txt', '1973-Nixon.txt', '1977-Carter.txt', '1981-Reagan.txt', '1985-Reagan.txt', '1989-Bush.txt', '1993-Clinton.txt', '1997-Clinton.txt', '2001-Bush.txt', '2005-Bush.txt', '2009-Obama.txt', '2013-Obama.txt', '2017-Trump.txt', '2021-Biden.txt']\n"
          ]
        },
        {
          "output_type": "stream",
          "name": "stderr",
          "text": [
            "[nltk_data] Downloading package inaugural to /root/nltk_data...\n",
            "[nltk_data]   Unzipping corpora/inaugural.zip.\n"
          ]
        }
      ]
    },
    {
      "cell_type": "markdown",
      "metadata": {
        "id": "sazUGA7tAutJ"
      },
      "source": [
        "Divide this into a training set consisting of every president's first address and a test set consisting of every (two-term!) president's second address"
      ]
    },
    {
      "cell_type": "code",
      "metadata": {
        "colab": {
          "base_uri": "https://localhost:8080/"
        },
        "id": "RhvPPqHg4B3A",
        "outputId": "40821bba-8599-444e-b06f-de56088b4307"
      },
      "source": [
        "def fileid_to_author(fileid):\n",
        "  return fileid[5:-4]\n",
        "\n",
        "# Your code here\n",
        "\n",
        "print(\"train=\", train)\n",
        "print(\"test=\", test)"
      ],
      "execution_count": null,
      "outputs": [
        {
          "output_type": "stream",
          "name": "stdout",
          "text": [
            "train= ['1793-Washington.txt', '1797-Adams.txt', '1805-Jefferson.txt', '1813-Madison.txt', '1821-Monroe.txt', '1825-Adams.txt', '1833-Jackson.txt', '1837-VanBuren.txt', '1841-Harrison.txt', '1845-Polk.txt', '1849-Taylor.txt', '1853-Pierce.txt', '1857-Buchanan.txt', '1865-Lincoln.txt', '1873-Grant.txt', '1877-Hayes.txt', '1881-Garfield.txt', '1885-Cleveland.txt', '1889-Harrison.txt', '1893-Cleveland.txt', '1901-McKinley.txt', '1905-Roosevelt.txt', '1909-Taft.txt', '1917-Wilson.txt', '1921-Harding.txt', '1925-Coolidge.txt', '1929-Hoover.txt', '1945-Roosevelt.txt', '1949-Truman.txt', '1957-Eisenhower.txt', '1961-Kennedy.txt', '1965-Johnson.txt', '1973-Nixon.txt', '1977-Carter.txt', '1985-Reagan.txt', '1989-Bush.txt', '1997-Clinton.txt', '2005-Bush.txt', '2013-Obama.txt']\n",
            "test= ['1789-Washington.txt', '1801-Jefferson.txt', '1809-Madison.txt', '1817-Monroe.txt', '1829-Jackson.txt', '1861-Lincoln.txt', '1869-Grant.txt', '1897-McKinley.txt', '1913-Wilson.txt', '1933-Roosevelt.txt', '1937-Roosevelt.txt', '1941-Roosevelt.txt', '1953-Eisenhower.txt', '1969-Nixon.txt', '1981-Reagan.txt', '1993-Clinton.txt', '2001-Bush.txt', '2009-Obama.txt']\n"
          ]
        }
      ]
    },
    {
      "cell_type": "markdown",
      "metadata": {
        "id": "-Sz6pLzgA__G"
      },
      "source": [
        "Calculate the size of the overlap of each document"
      ]
    },
    {
      "cell_type": "code",
      "metadata": {
        "id": "lzfEJwLxA7Tz"
      },
      "source": [
        "def overlap(id1, id2):\n",
        "  return 0\n",
        "\n",
        "assert overlap(\"1793-Washington.txt\",\"1789-Washington.txt\")==61"
      ],
      "execution_count": null,
      "outputs": []
    },
    {
      "cell_type": "markdown",
      "metadata": {
        "id": "bV_xIz-jBXUp"
      },
      "source": [
        "Classify each of the test documents by the size of the overlap"
      ]
    },
    {
      "cell_type": "code",
      "metadata": {
        "id": "8Bhgde5CBbkM"
      },
      "source": [],
      "execution_count": null,
      "outputs": []
    },
    {
      "cell_type": "markdown",
      "metadata": {
        "id": "F3YOwiplCSfw"
      },
      "source": [
        "Why does this happen? What change would you suggest to improve the results?"
      ]
    },
    {
      "cell_type": "code",
      "metadata": {
        "id": "F0BWWKbPC_qh"
      },
      "source": [
        "from nltk.probability import FreqDist\n",
        "from math import log\n",
        "\n"
      ],
      "execution_count": null,
      "outputs": []
    },
    {
      "cell_type": "code",
      "metadata": {
        "id": "gCSicA4CE9UH"
      },
      "source": [],
      "execution_count": null,
      "outputs": []
    }
  ]
}