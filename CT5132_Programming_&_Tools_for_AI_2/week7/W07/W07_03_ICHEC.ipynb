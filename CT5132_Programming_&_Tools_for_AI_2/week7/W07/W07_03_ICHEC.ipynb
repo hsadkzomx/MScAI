{
 "cells": [
  {
   "cell_type": "markdown",
   "metadata": {
    "slideshow": {
     "slide_type": "slide"
    }
   },
   "source": [
    "<center><img src=img/MScAI_brand.png width=70%></center>\n",
    "\n",
    "# ICHEC"
   ]
  },
  {
   "cell_type": "markdown",
   "metadata": {
    "slideshow": {
     "slide_type": "subslide"
    }
   },
   "source": [
    "<center><img src=https://www.ichec.ie/sites/default/files/logo.png style=\"background-color:green;\" width=50%></center>\n",
    "\n",
    "ICHEC is the Irish Centre for High-End Computing, a department of the University of Galway hosted in the IT Building. The server farm is in Waterford and some staff are in Dublin."
   ]
  },
  {
   "cell_type": "markdown",
   "metadata": {
    "slideshow": {
     "slide_type": "subslide"
    }
   },
   "source": [
    "### The **Kay** supercomputer\n",
    "* 336 nodes each of 2x 20-core 2.4GHz and 192 GiB of RAM\n",
    "* 16 GPU nodes, as above plus 2x NVIDIA Tesla V100\n",
    "* Some more nodes with bigger processors/more memory\n",
    "* Login nodes and other service nodes.\n",
    "\n",
    "* https://www.ichec.ie/about/infrastructure/kay\n",
    "* https://www.ichec.ie/academic/national-hpc/documentation"
   ]
  },
  {
   "cell_type": "markdown",
   "metadata": {
    "slideshow": {
     "slide_type": "slide"
    }
   },
   "source": [
    "## Access\n",
    "\n",
    "To get access, please follow the instructions as posted in Bb. "
   ]
  },
  {
   "cell_type": "markdown",
   "metadata": {
    "slideshow": {
     "slide_type": "slide"
    }
   },
   "source": [
    "## Access\n",
    "\n",
    "I use `ssh`:\n",
    "\n",
    "`$ ssh my_username@kay.ichec.ie`\n",
    "\n",
    "You could use `PuTTY` or `MobaXTerm` if you prefer."
   ]
  },
  {
   "cell_type": "markdown",
   "metadata": {
    "slideshow": {
     "slide_type": "slide"
    }
   },
   "source": [
    "### Python on ICHEC\n",
    "\n",
    "\n",
    "Lots of people are using Python for jobs on ICHEC.\n",
    "\n",
    "https://www.ichec.ie/academic/national-hpc-service/software/python-conda"
   ]
  },
  {
   "cell_type": "markdown",
   "metadata": {
    "slideshow": {
     "slide_type": "subslide"
    }
   },
   "source": [
    "### Virtual environments\n",
    "\n",
    "It's recommend to use a **virtual environment** to manage your Python/Anaconda installation. A `venv` is just a collection of software installed with Anaconda."
   ]
  },
  {
   "cell_type": "markdown",
   "metadata": {
    "slideshow": {
     "slide_type": "subslide"
    }
   },
   "source": [
    "You can create multiple virtual environments and activate the one you want. One advantage is you might have one project that uses Tensorflow 1 and another that uses Tensorflow 2, and you want to be able to run both projects at different times. You can create a `venv` for each project with the right packages installed and just switch between them.\n",
    "\n",
    "See `ichec.pdf` to see how to set up a virtual environment with the Python software you need."
   ]
  },
  {
   "cell_type": "markdown",
   "metadata": {
    "slideshow": {
     "slide_type": "subslide"
    }
   },
   "source": [
    "A `venv` is just a collection of software installed with Anaconda. It doesn't include the contents of your home directory. So, the next step is to make and/or copy your work directories to `kay`, e.g. on a login node:\n",
    "\n",
    "```bash\n",
    "mkdir work\n",
    "```"
   ]
  },
  {
   "cell_type": "markdown",
   "metadata": {
    "slideshow": {
     "slide_type": "subslide"
    }
   },
   "source": [
    "You'll need to be able to navigate a Unix filesystem, e.g.:\n",
    "\n",
    "* `mkdir # make directory`\n",
    "* `mv    # move/rename`\n",
    "* `cp    # copy`\n",
    "* `cd    # change directory`\n",
    "* `ls    # list directory`"
   ]
  },
  {
   "cell_type": "markdown",
   "metadata": {
    "slideshow": {
     "slide_type": "subslide"
    }
   },
   "source": [
    "### `scp`\n",
    "\n",
    "`scp` is a command for copying files to a remote computer. When you have an ICHEC account, you can run this on your laptop (notice `-r` is for \"recursive copy\"):\n",
    "\n",
    "```bash\n",
    "$ scp -r my_project_directory my_username@kay.ichec.ie:/ichec/home/users/my_username/work/\n",
    "```\n",
    "\n",
    "### MobaXTerm\n",
    "\n",
    "If you are not an accomplished command-line user, consider `MobaXTerm` as it allows you to login to a remote node and drag-and-drop files."
   ]
  },
  {
   "cell_type": "markdown",
   "metadata": {
    "slideshow": {
     "slide_type": "subslide"
    }
   },
   "source": [
    "### NFS\n",
    "\n",
    "The contents of your home directory on the login node (which we started to create above) are synced back and forth to any compute node on `kay` your jobs might run on via `NFS`, the network filesystem."
   ]
  },
  {
   "cell_type": "markdown",
   "metadata": {
    "slideshow": {
     "slide_type": "slide"
    }
   },
   "source": [
    "### Interactive testing with `srun`\n",
    "\n",
    "Then you can request a node for eg 30m interactive testing. This is just for testing/prototyping, not for large runs. See `ichec.pdf` for details."
   ]
  },
  {
   "cell_type": "markdown",
   "metadata": {
    "slideshow": {
     "slide_type": "subslide"
    }
   },
   "source": [
    "After whatever length of time you requested (e.g. 30m above), your session will expire and you'll be logged out from that node."
   ]
  },
  {
   "cell_type": "markdown",
   "metadata": {
    "slideshow": {
     "slide_type": "subslide"
    }
   },
   "source": [
    "### Batch mode\n",
    "\n",
    "Above, we used `kay` interactively (typing commands at the shell), but **batch mode** is the common way to run large jobs. \"Batch mode\" is the opposite of \"interactive mode\". "
   ]
  },
  {
   "cell_type": "markdown",
   "metadata": {
    "slideshow": {
     "slide_type": "subslide"
    }
   },
   "source": [
    "That sounds like a downgrade! But HPC systems provide batch mode because:\n",
    "\n",
    "* jobs are long-running (hours or days), so no benefit to being interactive;\n",
    "* the system can balance resource allocation for fairness and throughput."
   ]
  },
  {
   "cell_type": "markdown",
   "metadata": {
    "slideshow": {
     "slide_type": "subslide"
    }
   },
   "source": [
    "### SLURM\n",
    "\n",
    "SLURM is a workload manager. It is the mechanism we use to submit batch jobs for execution on `kay`."
   ]
  },
  {
   "cell_type": "markdown",
   "metadata": {},
   "source": [
    "\n",
    "<center><img src=img/SLURM.png width=55%></center>"
   ]
  },
  {
   "cell_type": "markdown",
   "metadata": {
    "slideshow": {
     "slide_type": "subslide"
    }
   },
   "source": [
    "### Queues\n",
    "When you submit a job for batch execution, you submit it to a **queue**. ICHEC has several distinct queues with different types of nodes, including:\n",
    "\n",
    "Name | Node type | Max nodes | Max walltime | Purpose\n",
    "-----|-----------|-----------|--------------|--------\n",
    "DevQ | Cluster   | \t4        | \t1 hour      | Prototyping\n",
    "ProdQ| Cluster   | \t40       | \t72 hours    | Large jobs\n",
    "GpuQ | GPU       |  4        |  48 hours    | GPU jobs"
   ]
  },
  {
   "cell_type": "markdown",
   "metadata": {
    "slideshow": {
     "slide_type": "slide"
    }
   },
   "source": [
    "### Submitting jobs with `sbatch`\n",
    "\n",
    "To specify a job, we first create a special shell script with the `.sh` suffix. See `ichec.pdf` and `/ichec_example/taskfarms.sh`."
   ]
  },
  {
   "cell_type": "markdown",
   "metadata": {
    "slideshow": {
     "slide_type": "slide"
    }
   },
   "source": [
    "### Taskfarming\n",
    "\n",
    "The above procedure only makes sense if `my_prog.py` is a very large job that requires a whole node to itself!\n"
   ]
  },
  {
   "cell_type": "markdown",
   "metadata": {
    "slideshow": {
     "slide_type": "subslide"
    }
   },
   "source": [
    "An easier way to use supercomputer facilities is to run many runs in parallel, one per core. Suppose our program `my_prog.py` has a hyperparameter `n` which takes on values 0-9, and for each we want to run 100 repetitions with 100 random seeds. We write our program to accept arguments `my_prog.py <n> <seed>`. "
   ]
  },
  {
   "cell_type": "markdown",
   "metadata": {
    "slideshow": {
     "slide_type": "subslide"
    }
   },
   "source": [
    "Then we can just put these commands into a file named e.g. `tasks.sh`:"
   ]
  },
  {
   "cell_type": "markdown",
   "metadata": {},
   "source": [
    "```bash\n",
    "python my_prog.py 0 0\n",
    "python my_prog.py 0 1\n",
    "python my_prog.py 0 2\n",
    "...\n",
    "python my_prog.py 9 99\n",
    "```"
   ]
  },
  {
   "cell_type": "markdown",
   "metadata": {
    "slideshow": {
     "slide_type": "subslide"
    }
   },
   "source": [
    "Then, instead of `python my_prog.py` at the bottom of `my_batch_job.sh`, we'll put a `taskfarm` command:\n",
    "\n",
    "```bash\n",
    "taskfarm tasks.sh\n",
    "```\n",
    "It will take each line of `tasks.sh` as a task. Don't include comments, loops, or anything like that, just one command per line. It will start tasks, usually one per core, and when they finish it will start new ones, until the whole file is finished.\n",
    "\n",
    "See `ichec_example/taskfarm.sh` for an example."
   ]
  },
  {
   "cell_type": "markdown",
   "metadata": {
    "slideshow": {
     "slide_type": "slide"
    }
   },
   "source": [
    "### After submitting\n",
    "\n",
    "* You can check on your queued jobs: `squeue -u my_username`\n",
    "* You should receive an email when the job **starts**. \n",
    "  * It might contain error messages. To debug, check your account name and check that your tasks run ok interactively.\n",
    "* When your job finishes, you should receive another email."
   ]
  },
  {
   "cell_type": "markdown",
   "metadata": {
    "slideshow": {
     "slide_type": "slide"
    }
   },
   "source": [
    "### GPU on `kay`\n",
    "\n",
    "We can use the GPUs available on Kay nodes in the `GpuQ`. See `ichec.pdf` for details."
   ]
  },
  {
   "cell_type": "markdown",
   "metadata": {
    "slideshow": {
     "slide_type": "subslide"
    }
   },
   "source": [
    "In the **Deep Learning** module (in Semester 2 for full-time students, in Year 2 Semester 2 for part-time), you'll have opportunities to use deep neural network libraries such as Tensorflow or PyTorch on GPU."
   ]
  }
 ],
 "metadata": {
  "celltoolbar": "Slideshow",
  "kernelspec": {
   "display_name": "Python 3 (ipykernel)",
   "language": "python",
   "name": "python3"
  },
  "language_info": {
   "codemirror_mode": {
    "name": "ipython",
    "version": 3
   },
   "file_extension": ".py",
   "mimetype": "text/x-python",
   "name": "python",
   "nbconvert_exporter": "python",
   "pygments_lexer": "ipython3",
   "version": "3.7.3"
  }
 },
 "nbformat": 4,
 "nbformat_minor": 2
}
