{
 "cells": [
  {
   "cell_type": "markdown",
   "metadata": {
    "slideshow": {
     "slide_type": "slide"
    }
   },
   "source": [
    "<center><img src=img/MScAI_brand.png width=70%></center>\n",
    "\n",
    "# Topological Sort"
   ]
  },
  {
   "cell_type": "markdown",
   "metadata": {
    "slideshow": {
     "slide_type": "slide"
    }
   },
   "source": [
    "A **directed graph** is a graph where edges have a direction. E.g. on Twitter, \"I follow you\" is not the same as \"you follow me\". So, the edge `(me, you)` is not the same as the edge `(you, me)`.\n",
    "\n",
    "A **topological sort** is an ordering of the nodes of a directed graph which respects all edge directions."
   ]
  },
  {
   "cell_type": "markdown",
   "metadata": {
    "slideshow": {
     "slide_type": "subslide"
    }
   },
   "source": [
    "Applications of topological sort:\n",
    "* Project planning\n",
    "* Data-flow graphs\n",
    "* Build systems\n",
    "* Software installation"
   ]
  },
  {
   "cell_type": "markdown",
   "metadata": {
    "slideshow": {
     "slide_type": "subslide"
    }
   },
   "source": [
    "### Project planning\n",
    "\n",
    "In project management, we often decompose a project into a large list of tasks to be accomplished by many different people using various resources. Some of these tasks have *dependencies*: task $j$ cannot be started until we have the output of task $i$. This induces a directed graph. "
   ]
  },
  {
   "cell_type": "markdown",
   "metadata": {
    "slideshow": {
     "slide_type": "fragment"
    }
   },
   "source": [
    "Assuming no cycles, we can perform a topological sort. It gives us an ordering of the tasks so that for any dependency $(i, j)$, task $j$ is sorted *after* task $i$. Creating this ordering allows us to create a timeline and identify tasks which can be done in parallel."
   ]
  },
  {
   "cell_type": "markdown",
   "metadata": {
    "slideshow": {
     "slide_type": "subslide"
    }
   },
   "source": [
    "1. Fetch tealeaves\n",
    "2. Put tealeaves in teapot\n",
    "3. Fetch teapot\n",
    "4. Boil water\n",
    "5. Put water in teapot\n",
    "\n",
    "We have several dependencies, including:\n",
    "\n",
    "* (1, 2) - we cannot put tealeaves in teapot before we fetch tealeaves\n",
    "* (4, 5) - we cannot put water in teapot before we boil water"
   ]
  },
  {
   "cell_type": "markdown",
   "metadata": {
    "slideshow": {
     "slide_type": "subslide"
    }
   },
   "source": [
    "![](img/topo_sort.png)"
   ]
  },
  {
   "cell_type": "markdown",
   "metadata": {
    "slideshow": {
     "slide_type": "subslide"
    }
   },
   "source": [
    "One valid topological sort is the following:\n",
    "\n",
    "* 4. Boil water\n",
    "* 1. Fetch tealeaves\n",
    "* 3. Fetch teapot\n",
    "* 2. Put tealeaves in teapot\n",
    "* 5. Put water in teapot\n"
   ]
  },
  {
   "cell_type": "markdown",
   "metadata": {
    "slideshow": {
     "slide_type": "fragment"
    }
   },
   "source": [
    "Other valid orderings also exist.\n"
   ]
  },
  {
   "cell_type": "markdown",
   "metadata": {
    "slideshow": {
     "slide_type": "subslide"
    }
   },
   "source": [
    "![](img/topo_sort.png)\n",
    "\n",
    "The graph shows we can boil water **in parallel with** fetching the teapot. If we had data on task times we could try to find an optimal ordering, using parallel processing. That's out of scope for this module."
   ]
  },
  {
   "cell_type": "markdown",
   "metadata": {
    "slideshow": {
     "slide_type": "subslide"
    }
   },
   "source": [
    "### Data-flow graphs\n",
    "\n",
    "Nodes are computations, and edges represent the *outputs* being used as *inputs* in other computations. E.g., in Excel:\n",
    "\n",
    "* Cell `X10` has formula `=SUM(X1:X9)`\n",
    "* Cell `Z10` has formula `=X10 + Y10`\n",
    "* Cell `Y10` has formula `=SIN(Y3)`\n",
    "* Cell range `X1:X9` contains numbers\n",
    "* Cell `Y3` contains a number\n",
    "\n",
    "If the user makes a change to a value somewhere, what *order* can we carry out the updates?\n"
   ]
  },
  {
   "cell_type": "markdown",
   "metadata": {
    "slideshow": {
     "slide_type": "subslide"
    }
   },
   "source": [
    "### Software installation\n",
    "\n",
    "A related example is the dependency graph of software libraries. As we know:\n",
    "* Seaborn can only work if Matplotlib is installed; \n",
    "* Scipy requires Numpy;\n",
    "* Pandas requires Numpy;\n",
    "* and so on.\n",
    "\n",
    "A classic problem in software management: recursively finding all the necessary dependencies for a library."
   ]
  },
  {
   "cell_type": "markdown",
   "metadata": {
    "slideshow": {
     "slide_type": "notes"
    }
   },
   "source": [
    "Next time you install a new library using Anaconda, take a look at all the other libraries that it depends on."
   ]
  },
  {
   "cell_type": "markdown",
   "metadata": {
    "slideshow": {
     "slide_type": "subslide"
    }
   },
   "source": [
    "### Build systems\n",
    "\n",
    "You might know `make` or `ant` or another build system. Their job is to build software, taking account of interdependencies. For example:\n",
    "\n",
    "* `lib.o` depends on `lib.c` and `header.h`\n",
    "* `prog.o` depends on `prog.c` and `header.h`\n",
    "* `prog.exe` depends on `lib.o` and `prog.o`\n",
    "\n",
    "If `lib.c` changes, and we want to build `prog.exe`, what steps do we need to run?"
   ]
  },
  {
   "cell_type": "markdown",
   "metadata": {
    "slideshow": {
     "slide_type": "subslide"
    }
   },
   "source": [
    "\n",
    "Each \"depends on\" line gives a directed edge, so we have a *directed acyclic graph*."
   ]
  },
  {
   "cell_type": "markdown",
   "metadata": {
    "slideshow": {
     "slide_type": "slide"
    }
   },
   "source": [
    "### Implementing topological sort\n",
    "\n",
    "$D$ is a directed graph\n",
    "    \n",
    "1. Create output as empty list.\n",
    "2. Find any node $n$ of in-degree 0. If none exist, we fail.\n",
    "3. Append $n$ to output, remove it from graph, and remove all its edges.\n",
    "4. Repeat from 2 until graph is empty."
   ]
  },
  {
   "cell_type": "code",
   "execution_count": 1,
   "metadata": {
    "slideshow": {
     "slide_type": "subslide"
    }
   },
   "outputs": [],
   "source": [
    "def topological_sort(D):\n",
    "    output = [] # step 1\n",
    "    D = D.copy() # avoid changing input itself\n",
    "    while D.order(): # step 4: while nodes remain, repeat\n",
    "        remove_node = None \n",
    "        for n in D: # n is a node\n",
    "            if D.in_degree(n) == 0: # step 2\n",
    "                # can't remove n from D *while iterating over D*, \n",
    "                # so remember which node to remove...\n",
    "                remove_node = n\n",
    "                break # ... and exit loop\n",
    "        if remove_node is not None: \n",
    "            # step 3\n",
    "            output.append(remove_node) \n",
    "            D.remove_node(remove_node) # nx will remove edges\n",
    "        else:\n",
    "            # if there's no node with in-degree 0\n",
    "            raise ValueError(\"A cycle is present!\")\n",
    "    return output"
   ]
  },
  {
   "cell_type": "code",
   "execution_count": 2,
   "metadata": {
    "slideshow": {
     "slide_type": "subslide"
    }
   },
   "outputs": [
    {
     "data": {
      "image/png": "[encoded data removed]",
      "text/plain": [
       "<Figure size 432x288 with 1 Axes>"
      ]
     },
     "metadata": {},
     "output_type": "display_data"
    }
   ],
   "source": [
    "# let's make a simple graph with no cycle\n",
    "import networkx as nx\n",
    "D = nx.DiGraph()\n",
    "D.add_edge(1, 2)\n",
    "D.add_edge(1, 4)\n",
    "D.add_edge(2, 4)\n",
    "D.add_edge(3, 1)\n",
    "nx.draw_networkx(D)"
   ]
  },
  {
   "cell_type": "code",
   "execution_count": 3,
   "metadata": {},
   "outputs": [
    {
     "data": {
      "text/plain": [
       "[3, 1, 2, 4]"
      ]
     },
     "execution_count": 3,
     "metadata": {},
     "output_type": "execute_result"
    }
   ],
   "source": [
    "topological_sort(D)"
   ]
  },
  {
   "cell_type": "code",
   "execution_count": 4,
   "metadata": {
    "slideshow": {
     "slide_type": "subslide"
    }
   },
   "outputs": [
    {
     "data": {
      "image/png": "[encoded data removed]",
      "text/plain": [
       "<Figure size 432x288 with 1 Axes>"
      ]
     },
     "metadata": {},
     "output_type": "display_data"
    }
   ],
   "source": [
    "# let's make a simple graph, WITH a cycle\n",
    "D = nx.DiGraph()\n",
    "D.add_edge(1, 2)\n",
    "D.add_edge(4, 1)\n",
    "D.add_edge(2, 4)\n",
    "D.add_edge(3, 1)\n",
    "\n",
    "nx.draw_networkx(D)"
   ]
  },
  {
   "cell_type": "code",
   "execution_count": 5,
   "metadata": {
    "slideshow": {
     "slide_type": "subslide"
    }
   },
   "outputs": [
    {
     "ename": "ValueError",
     "evalue": "A cycle is present!",
     "output_type": "error",
     "traceback": [
      "\u001b[0;31m---------------------------------------------------------------------------\u001b[0m",
      "\u001b[0;31mValueError\u001b[0m                                Traceback (most recent call last)",
      "\u001b[0;32m<ipython-input-5-e136a100d39e>\u001b[0m in \u001b[0;36m<module>\u001b[0;34m\u001b[0m\n\u001b[0;32m----> 1\u001b[0;31m \u001b[0mtopological_sort\u001b[0m\u001b[0;34m(\u001b[0m\u001b[0mD\u001b[0m\u001b[0;34m)\u001b[0m \u001b[0;31m# we expect the ValueError\u001b[0m\u001b[0;34m\u001b[0m\u001b[0;34m\u001b[0m\u001b[0m\n\u001b[0m",
      "\u001b[0;32m<ipython-input-1-33d9f38a9fac>\u001b[0m in \u001b[0;36mtopological_sort\u001b[0;34m(D)\u001b[0m\n\u001b[1;32m     16\u001b[0m         \u001b[0;32melse\u001b[0m\u001b[0;34m:\u001b[0m\u001b[0;34m\u001b[0m\u001b[0;34m\u001b[0m\u001b[0m\n\u001b[1;32m     17\u001b[0m             \u001b[0;31m# if there's no node with in-degree 0\u001b[0m\u001b[0;34m\u001b[0m\u001b[0;34m\u001b[0m\u001b[0;34m\u001b[0m\u001b[0m\n\u001b[0;32m---> 18\u001b[0;31m             \u001b[0;32mraise\u001b[0m \u001b[0mValueError\u001b[0m\u001b[0;34m(\u001b[0m\u001b[0;34m\"A cycle is present!\"\u001b[0m\u001b[0;34m)\u001b[0m\u001b[0;34m\u001b[0m\u001b[0;34m\u001b[0m\u001b[0m\n\u001b[0m\u001b[1;32m     19\u001b[0m     \u001b[0;32mreturn\u001b[0m \u001b[0moutput\u001b[0m\u001b[0;34m\u001b[0m\u001b[0;34m\u001b[0m\u001b[0m\n",
      "\u001b[0;31mValueError\u001b[0m: A cycle is present!"
     ]
    }
   ],
   "source": [
    "topological_sort(D) # we expect the ValueError"
   ]
  }
 ],
 "metadata": {
  "celltoolbar": "Slideshow",
  "kernelspec": {
   "display_name": "Python 3",
   "language": "python",
   "name": "python3"
  },
  "language_info": {
   "codemirror_mode": {
    "name": "ipython",
    "version": 3
   },
   "file_extension": ".py",
   "mimetype": "text/x-python",
   "name": "python",
   "nbconvert_exporter": "python",
   "pygments_lexer": "ipython3",
   "version": "3.8.5"
  }
 },
 "nbformat": 4,
 "nbformat_minor": 2
}
