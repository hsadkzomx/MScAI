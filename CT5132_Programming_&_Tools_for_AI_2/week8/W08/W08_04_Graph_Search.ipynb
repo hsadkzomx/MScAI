{
 "cells": [
  {
   "cell_type": "markdown",
   "metadata": {
    "slideshow": {
     "slide_type": "slide"
    }
   },
   "source": [
    "<center><img src=img/MScAI_brand.png width=70%></center>\n",
    "\n",
    "# Graph Search"
   ]
  },
  {
   "cell_type": "markdown",
   "metadata": {
    "slideshow": {
     "slide_type": "slide"
    }
   },
   "source": [
    "### Depth-first traversal\n",
    "\n",
    "As we probably know, **depth-first traversal** means starting at some node, and traversing outward recursively until we can't go any further, and then backtracking."
   ]
  },
  {
   "cell_type": "code",
   "execution_count": 1,
   "metadata": {
    "slideshow": {
     "slide_type": "subslide"
    }
   },
   "outputs": [],
   "source": [
    "import networkx as nx\n",
    "G = nx.DiGraph()\n",
    "# eg \"ab\" means edge (a, b)\n",
    "G.add_edges_from([\"ab\", \"ac\", \"bd\", \"be\"])  "
   ]
  },
  {
   "cell_type": "markdown",
   "metadata": {
    "slideshow": {
     "slide_type": "-"
    }
   },
   "source": [
    "<img src=\"img/tree.png\" width=20%>"
   ]
  },
  {
   "cell_type": "markdown",
   "metadata": {
    "slideshow": {
     "slide_type": "fragment"
    }
   },
   "source": [
    "There are two variants, depth-first *preorder* and depth-first *postorder*."
   ]
  },
  {
   "cell_type": "markdown",
   "metadata": {
    "slideshow": {
     "slide_type": "subslide"
    }
   },
   "source": [
    "<img src=\"img/tree.png\" width=20%>"
   ]
  },
  {
   "cell_type": "code",
   "execution_count": 2,
   "metadata": {
    "slideshow": {
     "slide_type": "-"
    }
   },
   "outputs": [
    {
     "data": {
      "text/plain": [
       "['a', 'b', 'd', 'e', 'c']"
      ]
     },
     "execution_count": 2,
     "metadata": {},
     "output_type": "execute_result"
    }
   ],
   "source": [
    "def depth_first_preorder(G, n): # start at node n in graph G\n",
    "    yield n # this is a generator\n",
    "    for m in G[n]:\n",
    "        # generator recursion!\n",
    "        yield from depth_first_preorder(G, m) \n",
    "list(depth_first_preorder(G, \"a\"))"
   ]
  },
  {
   "cell_type": "markdown",
   "metadata": {
    "slideshow": {
     "slide_type": "subslide"
    }
   },
   "source": [
    "<img src=\"img/tree.png\" width=20%>"
   ]
  },
  {
   "cell_type": "code",
   "execution_count": 3,
   "metadata": {
    "slideshow": {
     "slide_type": "-"
    }
   },
   "outputs": [
    {
     "data": {
      "text/plain": [
       "['d', 'e', 'b', 'c', 'a']"
      ]
     },
     "execution_count": 3,
     "metadata": {},
     "output_type": "execute_result"
    }
   ],
   "source": [
    "def depth_first_postorder(G, n):\n",
    "    for m in G[n]:\n",
    "        yield from depth_first_postorder(G, m)\n",
    "    yield n\n",
    "list(depth_first_postorder(G, \"a\"))"
   ]
  },
  {
   "cell_type": "markdown",
   "metadata": {
    "slideshow": {
     "slide_type": "subslide"
    }
   },
   "source": [
    "The above is just traversal. If we want to actually search, the user can do it:"
   ]
  },
  {
   "cell_type": "code",
   "execution_count": 4,
   "metadata": {},
   "outputs": [
    {
     "name": "stdout",
     "output_type": "stream",
     "text": [
      "I found it!\n"
     ]
    }
   ],
   "source": [
    "for n in depth_first_postorder(G, \"a\"):\n",
    "    if n == \"d\":\n",
    "        print(\"I found it!\")"
   ]
  },
  {
   "cell_type": "markdown",
   "metadata": {
    "slideshow": {
     "slide_type": "slide"
    }
   },
   "source": [
    "### Trees versus Graphs\n",
    "\n",
    "Recall that a tree is a graph without cycles. Our depth-first examples above used trees, but they're defined for graphs in general. (Same for breadth-first, below.)\n",
    "\n",
    "However, in the case of a graph we have to be careful not to revisit a node. Below is one way to do this for the case of *depth-first preorder* traversal."
   ]
  },
  {
   "cell_type": "code",
   "execution_count": 5,
   "metadata": {
    "scrolled": true,
    "slideshow": {
     "slide_type": "subslide"
    }
   },
   "outputs": [
    {
     "data": {
      "image/png": "[encoded data removed]",
      "text/plain": [
       "<Figure size 432x288 with 1 Axes>"
      ]
     },
     "metadata": {},
     "output_type": "display_data"
    }
   ],
   "source": [
    "G = nx.DiGraph()\n",
    "G.add_edges_from([\"ab\", \"ac\", \"bd\", \"be\", \"ea\"])\n",
    "nx.draw_networkx(G)"
   ]
  },
  {
   "cell_type": "code",
   "execution_count": 6,
   "metadata": {
    "slideshow": {
     "slide_type": "subslide"
    }
   },
   "outputs": [
    {
     "data": {
      "text/plain": [
       "['a', 'b', 'd', 'e', 'c']"
      ]
     },
     "execution_count": 6,
     "metadata": {},
     "output_type": "execute_result"
    }
   ],
   "source": [
    "def depth_first_preorder_graph(G, n):\n",
    "    visited = set() \n",
    "    # make a *closure*, a fn which has access to `visited`\n",
    "    def _helper(G, n):\n",
    "        if n in visited: return # don't re-visit!\n",
    "        yield n\n",
    "        visited.add(n)\n",
    "        for m in G[n]:\n",
    "            yield from _helper(G, m)\n",
    "    yield from _helper(G, n) # use our closure\n",
    "    \n",
    "list(depth_first_preorder_graph(G, \"a\"))    "
   ]
  },
  {
   "cell_type": "markdown",
   "metadata": {
    "slideshow": {
     "slide_type": "slide"
    }
   },
   "source": [
    "### Breadth-first search\n",
    "\n",
    "As we probably know, **breadth-first traversal** means starting at some node, and traversing outward one \"level\" at a time.\n",
    "\n",
    "**Breadth-first search** means searching for a particular node (or a node with some particular property), using breadth-first traversal."
   ]
  },
  {
   "cell_type": "markdown",
   "metadata": {
    "slideshow": {
     "slide_type": "subslide"
    }
   },
   "source": [
    "<img src=\"img/tree.png\" width=20%>"
   ]
  },
  {
   "cell_type": "markdown",
   "metadata": {
    "slideshow": {
     "slide_type": "fragment"
    }
   },
   "source": [
    "The best way to implement breadth-first search is using a queue."
   ]
  },
  {
   "cell_type": "code",
   "execution_count": 7,
   "metadata": {
    "slideshow": {
     "slide_type": "fragment"
    }
   },
   "outputs": [],
   "source": [
    "from collections import deque # double-ended queue"
   ]
  },
  {
   "cell_type": "code",
   "execution_count": 8,
   "metadata": {},
   "outputs": [],
   "source": [
    "G = nx.DiGraph()\n",
    "# let's make G a tree again, ie no cycles\n",
    "G.add_edges_from([\"ab\", \"ac\", \"bd\", \"be\"])  "
   ]
  },
  {
   "cell_type": "code",
   "execution_count": 9,
   "metadata": {
    "slideshow": {
     "slide_type": "subslide"
    }
   },
   "outputs": [
    {
     "data": {
      "text/plain": [
       "['a', 'b', 'c', 'd', 'e']"
      ]
     },
     "execution_count": 9,
     "metadata": {},
     "output_type": "execute_result"
    }
   ],
   "source": [
    "def breadth_first(G, n):\n",
    "    queue = deque([n])\n",
    "    while len(queue):\n",
    "        n = queue.popleft()\n",
    "        yield n\n",
    "        queue.extend(G[n]) # ie all nodes reachable from n\n",
    "list(breadth_first(G, \"a\"))"
   ]
  },
  {
   "cell_type": "markdown",
   "metadata": {
    "slideshow": {
     "slide_type": "subslide"
    }
   },
   "source": [
    "### Flexibility\n",
    "\n",
    "We wrote our depth-first and breadth-first algorithms as generators, because they `yield`ed each node as they visited it. This is a nice flexible way to work, because it allows the user to call a function for each node. But depending on the application, we might need to write them differently.\n",
    "\n",
    "Also, we assumed that the graph was a NetworkX graph, but in some applications we might use a different graph format, and then we would change the code to access the successors as appropriate."
   ]
  },
  {
   "cell_type": "markdown",
   "metadata": {
    "slideshow": {
     "slide_type": "slide"
    }
   },
   "source": [
    "### Shortest-path problem and Dijkstra's algorithm\n",
    "\n",
    "<center><img src=img/tigh_neachtain_map.png width=40%></center>\n",
    "\n",
    "A practical problem: what is the shortest path from one location to another, via a network of roads?"
   ]
  },
  {
   "cell_type": "markdown",
   "metadata": {
    "slideshow": {
     "slide_type": "subslide"
    }
   },
   "source": [
    "Our graph is a set of streets, where each street links two junctions; and each street has a **weight** telling us how long it would take to travel along that street.\n",
    "\n",
    "This is a **shortest-path problem**. It is a **generalisation** of the simple breadth-first search setting, where every edge effectively has a weight of 1. We add an entire \"level\" all at once because all nodes in that level can be visited in 1 more time-step."
   ]
  },
  {
   "cell_type": "markdown",
   "metadata": {
    "slideshow": {
     "slide_type": "subslide"
    }
   },
   "source": [
    "**Dijkstra's shortest-path algorithm** which solves this problem is like a generalisation of breadth-first search.\n",
    "\n",
    "We maintain a list of visited nodes including the length of time required to reach each node (starting from the start). At each step, we find the unvisited node which can be reached most quickly, and add that. \n",
    "\n",
    "Implementation is a bit more tricky as it requires a priority queue."
   ]
  },
  {
   "cell_type": "markdown",
   "metadata": {
    "slideshow": {
     "slide_type": "subslide"
    }
   },
   "source": [
    "A few lines from our data file:\n",
    "\n",
    "```\n",
    "#i,j,d\n",
    "A,B,10\n",
    "A,C,15\n",
    "A,D,25\n",
    "```"
   ]
  },
  {
   "cell_type": "code",
   "execution_count": 10,
   "metadata": {
    "slideshow": {
     "slide_type": "subslide"
    }
   },
   "outputs": [],
   "source": [
    "import pandas as pd\n",
    "df = pd.read_csv(\"data/cities.csv\", skiprows=1, \n",
    "                 names=[\"i\", \"j\", \"d\"])"
   ]
  },
  {
   "cell_type": "code",
   "execution_count": 11,
   "metadata": {
    "slideshow": {
     "slide_type": "fragment"
    }
   },
   "outputs": [
    {
     "data": {
      "text/html": [
       "<div>\n",
       "<style scoped>\n",
       "    .dataframe tbody tr th:only-of-type {\n",
       "        vertical-align: middle;\n",
       "    }\n",
       "\n",
       "    .dataframe tbody tr th {\n",
       "        vertical-align: top;\n",
       "    }\n",
       "\n",
       "    .dataframe thead th {\n",
       "        text-align: right;\n",
       "    }\n",
       "</style>\n",
       "<table border=\"1\" class=\"dataframe\">\n",
       "  <thead>\n",
       "    <tr style=\"text-align: right;\">\n",
       "      <th></th>\n",
       "      <th>i</th>\n",
       "      <th>j</th>\n",
       "      <th>d</th>\n",
       "    </tr>\n",
       "  </thead>\n",
       "  <tbody>\n",
       "    <tr>\n",
       "      <th>0</th>\n",
       "      <td>A</td>\n",
       "      <td>B</td>\n",
       "      <td>10</td>\n",
       "    </tr>\n",
       "    <tr>\n",
       "      <th>1</th>\n",
       "      <td>A</td>\n",
       "      <td>C</td>\n",
       "      <td>15</td>\n",
       "    </tr>\n",
       "    <tr>\n",
       "      <th>2</th>\n",
       "      <td>A</td>\n",
       "      <td>D</td>\n",
       "      <td>25</td>\n",
       "    </tr>\n",
       "    <tr>\n",
       "      <th>3</th>\n",
       "      <td>B</td>\n",
       "      <td>C</td>\n",
       "      <td>10</td>\n",
       "    </tr>\n",
       "    <tr>\n",
       "      <th>4</th>\n",
       "      <td>C</td>\n",
       "      <td>D</td>\n",
       "      <td>17</td>\n",
       "    </tr>\n",
       "  </tbody>\n",
       "</table>\n",
       "</div>"
      ],
      "text/plain": [
       "   i  j   d\n",
       "0  A  B  10\n",
       "1  A  C  15\n",
       "2  A  D  25\n",
       "3  B  C  10\n",
       "4  C  D  17"
      ]
     },
     "execution_count": 11,
     "metadata": {},
     "output_type": "execute_result"
    }
   ],
   "source": [
    "df.head()"
   ]
  },
  {
   "cell_type": "code",
   "execution_count": 12,
   "metadata": {
    "slideshow": {
     "slide_type": "subslide"
    }
   },
   "outputs": [],
   "source": [
    "G = nx.Graph()\n",
    "for idx, row in df.iterrows():\n",
    "    i, j, d = row\n",
    "    G.add_edge(i, j, weight=d)"
   ]
  },
  {
   "cell_type": "markdown",
   "metadata": {
    "slideshow": {
     "slide_type": "subslide"
    }
   },
   "source": [
    "NetworkX has some *layout* algorithms built-in. Let's try one to make a picture of this imaginary country."
   ]
  },
  {
   "cell_type": "code",
   "execution_count": 13,
   "metadata": {
    "slideshow": {
     "slide_type": "fragment"
    }
   },
   "outputs": [],
   "source": [
    "pos = nx.kamada_kawai_layout(G)"
   ]
  },
  {
   "cell_type": "code",
   "execution_count": 14,
   "metadata": {
    "slideshow": {
     "slide_type": "fragment"
    }
   },
   "outputs": [
    {
     "data": {
      "image/png": "[encoded data removed]",
      "text/plain": [
       "<Figure size 432x288 with 1 Axes>"
      ]
     },
     "metadata": {},
     "output_type": "display_data"
    }
   ],
   "source": [
    "nx.draw_networkx(G, pos=pos)"
   ]
  },
  {
   "cell_type": "markdown",
   "metadata": {
    "slideshow": {
     "slide_type": "subslide"
    }
   },
   "source": [
    "Now we're ready to run Dijkstra's algorithm. "
   ]
  },
  {
   "cell_type": "code",
   "execution_count": 15,
   "metadata": {
    "slideshow": {
     "slide_type": "fragment"
    }
   },
   "outputs": [
    {
     "data": {
      "text/plain": [
       "['A', 'D', 'E', 'F', 'H']"
      ]
     },
     "execution_count": 15,
     "metadata": {},
     "output_type": "execute_result"
    }
   ],
   "source": [
    "nx.dijkstra_path(G, \"A\", \"H\")"
   ]
  },
  {
   "cell_type": "code",
   "execution_count": 16,
   "metadata": {
    "slideshow": {
     "slide_type": "fragment"
    }
   },
   "outputs": [
    {
     "data": {
      "text/plain": [
       "100"
      ]
     },
     "execution_count": 16,
     "metadata": {},
     "output_type": "execute_result"
    }
   ],
   "source": [
    "nx.dijkstra_path_length(G, \"A\", \"H\")"
   ]
  },
  {
   "cell_type": "markdown",
   "metadata": {
    "slideshow": {
     "slide_type": "subslide"
    }
   },
   "source": [
    "### Searching an infinite graph\n",
    "\n",
    "\"A calculator has only 3 buttons. The first multiplies the current value by 3, the second adds 2 and the third subtracts 2. Starting with 0 what is the least number of presses you need to reach 100?\"\n",
    "\n",
    "-- https://puzzling.stackexchange.com/questions/91090/three-button-calculator"
   ]
  },
  {
   "cell_type": "markdown",
   "metadata": {
    "slideshow": {
     "slide_type": "fragment"
    }
   },
   "source": [
    "This is a *shortest-path* problem in a graph. Every integer is a node, and e.g. there is an edge from 0 $\\rightarrow$ 2 because we can press the `+2` button. However, the graph is infinite, so we can't just create it and then use a shortest-path algorithm. A solution is to use breadth-first search, creating the graph as we go using a custom `moves` function."
   ]
  },
  {
   "cell_type": "code",
   "execution_count": 17,
   "metadata": {
    "slideshow": {
     "slide_type": "subslide"
    }
   },
   "outputs": [],
   "source": [
    "def bfs_generative(start, target, moves):\n",
    "    \"\"\"If the graph is infinite, we can still use BFS!\n",
    "    `start` is a node, `target` is a node, and now\n",
    "    `moves(n)` gives the possible moves from a node `n`.\n",
    "    \"\"\"\n",
    "    if start == target: return [start] # special case\n",
    "    back_pointers = {} # \"how did we get here?\"\n",
    "    queue = deque([start])\n",
    "    while len(queue):\n",
    "        n = queue.popleft()\n",
    "        for m in moves(n):\n",
    "            if m in back_pointers: continue # avoid re-visit\n",
    "            queue.append(m)\n",
    "            back_pointers[m] = n # store the edge\n",
    "            if m == target:\n",
    "                return reconstruct(back_pointers, start, target)"
   ]
  },
  {
   "cell_type": "code",
   "execution_count": 18,
   "metadata": {
    "slideshow": {
     "slide_type": "subslide"
    }
   },
   "outputs": [],
   "source": [
    "def reconstruct(back_pointers, start, target):\n",
    "    \"\"\"A helper function to create the path from start to \n",
    "    target. We use the backward pointers and create the \n",
    "    backward path, then reverse.\"\"\"\n",
    "    result = [target]\n",
    "    while target != start:\n",
    "        target = back_pointers[target] # iterate back\n",
    "        result.append(target) # store each node\n",
    "    result.reverse()\n",
    "    return result"
   ]
  },
  {
   "cell_type": "code",
   "execution_count": 19,
   "metadata": {
    "slideshow": {
     "slide_type": "subslide"
    }
   },
   "outputs": [
    {
     "data": {
      "text/plain": [
       "[0, 2, 4, 12, 36, 34, 102, 100]"
      ]
     },
     "execution_count": 19,
     "metadata": {},
     "output_type": "execute_result"
    }
   ],
   "source": [
    "# now solve the three-button calculator problem\n",
    "start = 0\n",
    "target = 100\n",
    "moves = lambda x: (x*3, x+2, x-2)\n",
    "bfs_generative(start, target, moves)"
   ]
  },
  {
   "cell_type": "markdown",
   "metadata": {
    "slideshow": {
     "slide_type": "notes"
    }
   },
   "source": [
    "We can use the same code for many other problems, such as the famous *farmer, wolf, goat and cabbage* problem.\n",
    "\n",
    "\"A farmer went to a market and purchased a wolf, a goat, and a cabbage. On his way home, the farmer came to the bank of a river and rented a boat. But crossing the river by boat, the farmer could carry only himself and a single one of his purchases: the wolf, the goat, or the cabbage.\n",
    "\n",
    "If left unattended together, the wolf would eat the goat, or the goat would eat the cabbage.\n",
    "\n",
    "The farmer's challenge was to carry himself and his purchases to the far bank of the river, leaving each purchase intact.\"\n",
    "\n",
    "This is really a (small) finite graph, but if we have to create the whole graph by hand we'll have solved the problem already, so it would be nicer to solve it using our generative BFS.\n",
    "\n",
    "We can encode a state as `(L, R)` where `L` is the `set` of items on the left bank and `R` the `set` of items on the right bank. The challenge is to write the `moves` function."
   ]
  }
 ],
 "metadata": {
  "celltoolbar": "Slideshow",
  "kernelspec": {
   "display_name": "Python 3",
   "language": "python",
   "name": "python3"
  },
  "language_info": {
   "codemirror_mode": {
    "name": "ipython",
    "version": 3
   },
   "file_extension": ".py",
   "mimetype": "text/x-python",
   "name": "python",
   "nbconvert_exporter": "python",
   "pygments_lexer": "ipython3",
   "version": "3.8.5"
  }
 },
 "nbformat": 4,
 "nbformat_minor": 2
}
