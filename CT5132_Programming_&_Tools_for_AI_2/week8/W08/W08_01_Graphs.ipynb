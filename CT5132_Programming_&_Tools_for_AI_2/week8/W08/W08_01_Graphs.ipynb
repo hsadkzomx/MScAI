{
 "cells": [
  {
   "cell_type": "markdown",
   "metadata": {
    "slideshow": {
     "slide_type": "slide"
    }
   },
   "source": [
    "<center><img src=img/MScAI_brand.png width=70%></center>\n",
    "\n",
    "# Graphs"
   ]
  },
  {
   "cell_type": "markdown",
   "metadata": {
    "slideshow": {
     "slide_type": "slide"
    }
   },
   "source": [
    "As we know, a *graph* is the word often used in maths and computer science for a *network* -- a collection of objects with connections among them. \n",
    "\n",
    "Graph theory is a beautiful and fascinating branch of mathematics with many applications in computer science and artificial intelligence."
   ]
  },
  {
   "cell_type": "markdown",
   "metadata": {
    "slideshow": {
     "slide_type": "fragment"
    }
   },
   "source": [
    "Don't confuse a graph (network) with a graph (plot)."
   ]
  },
  {
   "cell_type": "markdown",
   "metadata": {
    "slideshow": {
     "slide_type": "subslide"
    }
   },
   "source": [
    "Some of the disparate terminology we use:\n",
    "\n",
    "object | connection\n",
    "-------|-----------\n",
    "node   | edge\n",
    "vertex | arc\n",
    "point  | line"
   ]
  },
  {
   "cell_type": "markdown",
   "metadata": {
    "slideshow": {
     "slide_type": "subslide"
    }
   },
   "source": [
    "<center><img src=img/Konigsberg_bridges.png width=40%></center>\n",
    "<font size=1><a href=\"https://en.wikipedia.org/wiki/Seven_Bridges_of_K%C3%B6nigsberg\">Wiki</a></font>\n",
    "\n",
    "The *founding problem of graph theory*: is it possible to traverse all the bridges of Konigsberg and end back at the starting-point without re-crossing any? Here the *nodes* are pieces of land and *edges* are bridges."
   ]
  },
  {
   "cell_type": "markdown",
   "metadata": {
    "slideshow": {
     "slide_type": "subslide"
    }
   },
   "source": [
    "<center><img src=img/tigh_neachtain_map.png width=50%></center>\n",
    "\n",
    "A practical problem: what is the shortest path from one location to another, via a network of roads?"
   ]
  },
  {
   "cell_type": "markdown",
   "metadata": {
    "slideshow": {
     "slide_type": "subslide"
    }
   },
   "source": [
    "<center><img src=\"img/social_network.jpg\" width=50%><center>\n",
    "\n",
    "<font size=1>Credit: http://bitcoinwiki.co/wp-content/uploads/censorship-free-social-network-akasha-aims-to-tackle-internet-censorship-with-blockchain-technology.jpg </font>\n",
    "\n",
    "A classic social networks problem: who are the most influential people? How many steps  or \"degrees of separation\" from one to the next?"
   ]
  },
  {
   "cell_type": "markdown",
   "metadata": {
    "slideshow": {
     "slide_type": "subslide"
    }
   },
   "source": [
    "<center><img src=img/pacman_ghost_fsm.svg width=40%></center><font size=1>Inspired by Yannakakis and Togelius, <em>Artificial Intelligence and Games</em></font>\n",
    "\n",
    "A finite state machine is a graph, where states are nodes, state transitions are *directed edges* and input symbols are edge labels."
   ]
  },
  {
   "cell_type": "markdown",
   "metadata": {
    "slideshow": {
     "slide_type": "subslide"
    }
   },
   "source": [
    "### The web\n",
    "\n",
    "* Web pages (URLs) are nodes; hyperlinks are directed edges."
   ]
  },
  {
   "cell_type": "markdown",
   "metadata": {
    "slideshow": {
     "slide_type": "subslide"
    }
   },
   "source": [
    "<center><img src=img/PageRank-hi-res.png width=45%></center>\n",
    "<font size=1><a href=https://en.wikipedia.org/wiki/PageRank>Wiki</a></font>"
   ]
  },
  {
   "cell_type": "markdown",
   "metadata": {
    "slideshow": {
     "slide_type": "fragment"
    }
   },
   "source": [
    "The *PageRank* problem: which pages are the most trusted? A page is trusted if other highly trusted pages link to it. (But isn't this circular?)"
   ]
  },
  {
   "cell_type": "markdown",
   "metadata": {
    "slideshow": {
     "slide_type": "subslide"
    }
   },
   "source": [
    "### Edge properties\n",
    "\n",
    "In all the examples we've seen, nodes have unique names or just integer labels.\n",
    "\n",
    "Usually edges are just plain connections with no properties, names or labels (sometimes direction). Sometimes edges do have properties such as a numerical *weight* per edge. "
   ]
  },
  {
   "cell_type": "markdown",
   "metadata": {
    "slideshow": {
     "slide_type": "fragment"
    }
   },
   "source": [
    "E.g. in a **water grid**, each edge might represent a pipe, and each pipe might have a different capacity represented as a number in litres per second."
   ]
  },
  {
   "cell_type": "markdown",
   "metadata": {
    "slideshow": {
     "slide_type": "subslide"
    }
   },
   "source": [
    "###  Collaboration graphs\n",
    "\n",
    "E.g. in scientific research: authors are nodes; there is an edge where two authors have co-authored a paper.\n",
    "\n",
    "Here edges are *undirected* because saying \"$a$ co-authored with $b$\" is the same as saying \"$b$ co-authored with $a$\".\n",
    "\n",
    "A classic problem of social networks: can we automatically detect communities in the co-authorship graph?"
   ]
  },
  {
   "cell_type": "markdown",
   "metadata": {
    "slideshow": {
     "slide_type": "subslide"
    }
   },
   "source": [
    "### Electrical grids\n",
    "\n",
    "* The electricity network: power stations, transformers, and consumers are nodes; electricity wires are edges."
   ]
  },
  {
   "cell_type": "markdown",
   "metadata": {
    "slideshow": {
     "slide_type": "subslide"
    }
   },
   "source": [
    "<center><img src=img/power_plant.svg width=50%></center>"
   ]
  },
  {
   "cell_type": "markdown",
   "metadata": {
    "slideshow": {
     "slide_type": "-"
    }
   },
   "source": [
    "A classic logistics problem: on a small island, we have a power station and a set of consumers. Every meter of electricity wires costs money. What wires should we build to save money but ensure everyone is connected?"
   ]
  },
  {
   "cell_type": "markdown",
   "metadata": {
    "slideshow": {
     "slide_type": "subslide"
    }
   },
   "source": [
    "### Family trees\n",
    "\n",
    "A *tree* is a graph with no cycles. Your family tree is a directed tree *rooted* at you, with an edge from each person to each of their parents.\n",
    "\n",
    "<center><img src=img/jon-snow-family-tree.jpg width=50%></center>\n",
    "<font size=1><a href=\"https://time.com/5560753/game-of-thrones-family-tree/\">Time.com</a></font>"
   ]
  },
  {
   "cell_type": "markdown",
   "metadata": {
    "slideshow": {
     "slide_type": "notes"
    }
   },
   "source": [
    "By the way, it's not *really* a tree, if we go back far enough."
   ]
  },
  {
   "cell_type": "markdown",
   "metadata": {
    "slideshow": {
     "slide_type": "slide"
    }
   },
   "source": [
    "### Abstract syntax tree\n",
    "\n",
    "An AST is an internal representation for computer code. The Python interpreter, the C++ compiler, and all other interpreters and compilers translate our source code into an AST before executing it."
   ]
  },
  {
   "cell_type": "markdown",
   "metadata": {
    "slideshow": {
     "slide_type": "subslide"
    }
   },
   "source": [
    "```python\n",
    "def fib(n):\n",
    "    if n < 2:\n",
    "        return n\n",
    "    else:\n",
    "        return fib(n-1) + fib(n-2)\n",
    "```"
   ]
  },
  {
   "cell_type": "markdown",
   "metadata": {
    "slideshow": {
     "slide_type": "subslide"
    }
   },
   "source": [
    "<center><img src=img/ast.svg width=40%><center>"
   ]
  },
  {
   "cell_type": "markdown",
   "metadata": {
    "slideshow": {
     "slide_type": "subslide"
    }
   },
   "source": [
    "Tangent: Python has some nice built-in tools for *introspection* including looking at the AST of a piece of Python code. It's not quite as clean as the example above because it includes extra technical details.\n",
    "\n",
    "```python\n",
    "import ast\n",
    "s = open(\"code/fib2.py\").read()\n",
    "n = ast.parse(s)\n",
    "print(ast.dump(n))\n",
    "```"
   ]
  },
  {
   "cell_type": "markdown",
   "metadata": {
    "slideshow": {
     "slide_type": "subslide"
    }
   },
   "source": [
    "```python\n",
    "\"Module(body=[FunctionDef(name='fib', args=arguments(args=[arg(arg='n', annotation=None)], vararg=None, kwonlyargs=[], kw_defaults=[], kwarg=None, defaults=[]), body=[If(test=Compare(left=Name(id='n', ctx=Load()), ops=[Lt()], comparators=[Num(n=2)]), body=[Return(value=Name(id='n', ctx=Load()))], orelse=[Return(value=BinOp(left=Call(func=Name(id='fib', ctx=Load()), args=[BinOp(left=Name(id='n', ctx=Load()), op=Sub(), right=Num(n=1))], keywords=[]), op=Add(), right=Call(func=Name(id='fib', ctx=Load()), args=[BinOp(left=Name(id='n', ctx=Load()), op=Sub(), right=Num(n=2))], keywords=[])))])], decorator_list=[], returns=None)])\"\n",
    "```\n",
    "\n",
    "(The details of this are not examinable.)"
   ]
  },
  {
   "cell_type": "markdown",
   "metadata": {
    "slideshow": {
     "slide_type": "slide"
    }
   },
   "source": [
    "### Node and graph terminology and properties\n",
    "\n",
    "* Order: the number of nodes in the graph\n",
    "* Size: the number of edges in the graph."
   ]
  },
  {
   "cell_type": "markdown",
   "metadata": {
    "slideshow": {
     "slide_type": "subslide"
    }
   },
   "source": [
    "### Cycles\n",
    "\n",
    "* Cycle: a sequence of 2+ nodes with edges allowing travel from start, along sequence, leading back to start\n",
    "* Directed cycle: in a directed graph, a cycle exists only if this travel is consistent with edge direction\n",
    "* A graph with no cycles is called *acyclic*.\n"
   ]
  },
  {
   "cell_type": "markdown",
   "metadata": {
    "slideshow": {
     "slide_type": "subslide"
    }
   },
   "source": [
    "* The *degree* of node *n* is the number of neighbours\n",
    "* In a *directed graph*, each node has an *out-degree* and *in-degree*\n",
    "* In a graph with *weighted edges*, the degree is the sum of relevant edge weights."
   ]
  },
  {
   "cell_type": "markdown",
   "metadata": {
    "slideshow": {
     "slide_type": "slide"
    }
   },
   "source": [
    "### Graph representations\n",
    "\n",
    "There are several possible representations for a graph:\n",
    "\n",
    "* Adjacency matrix\n",
    "* List of edges\n",
    "* Adjacency lists\n",
    "* dict-of-dicts-of-dicts, as used by NetworkX, is a variant of adjacency-list.\n"
   ]
  },
  {
   "cell_type": "markdown",
   "metadata": {
    "slideshow": {
     "slide_type": "subslide"
    }
   },
   "source": [
    "### Adjacency matrix\n",
    "\n",
    "In an adjacency matrix, we represent a graph of $n$ nodes as an $n\\times n$ matrix. In a binary adjacency matrix, a 0 in location $(i, j)$ indicates no edge present between nodes $i$ and $j$; a 1 indicates the edge is present. "
   ]
  },
  {
   "cell_type": "markdown",
   "metadata": {
    "slideshow": {
     "slide_type": "fragment"
    }
   },
   "source": [
    "If our edges have weights, we just put those instead of the \"1\"s."
   ]
  },
  {
   "cell_type": "markdown",
   "metadata": {
    "slideshow": {
     "slide_type": "subslide"
    }
   },
   "source": [
    "### Adjacency lists\n",
    "\n",
    "The adjacency lists representation is really more like a dictionary, where every node maps to a list of its neighbours, i.e. the nodes which are *adjacent* to it. Here is a graph in adjacency-lists format: \n",
    "```python\n",
    "G = {\n",
    "    0: [1, 2, 3], \n",
    "    1: [0, 3], \n",
    "    2: [0], \n",
    "    3: [0, 1], \n",
    "    4: []}\n",
    "```\n"
   ]
  },
  {
   "cell_type": "markdown",
   "metadata": {
    "slideshow": {
     "slide_type": "subslide"
    }
   },
   "source": [
    "### List of edges\n",
    "\n",
    "We could also represent a graph as a list of edges, where each edge is a 2-tuple. "
   ]
  },
  {
   "cell_type": "markdown",
   "metadata": {
    "slideshow": {
     "slide_type": "slide"
    }
   },
   "source": [
    "### Conclusion\n",
    "\n",
    "Graph theory is the study of things that can be represented as graphs. And a *lot* of things can be represented as graphs.\n",
    "\n",
    "Classroom MScAI students can study more in the module Web and Network Science, CT5113, Dr Conor Hayes, Semester 2."
   ]
  },
  {
   "cell_type": "markdown",
   "metadata": {
    "slideshow": {
     "slide_type": "slide"
    }
   },
   "source": [
    "### Exercises\n",
    "\n",
    "* Recall this graph in adjacency-lists format: \n",
    "```python\n",
    "G = {\n",
    "    0: [1, 2, 3], \n",
    "    1: [0, 3], \n",
    "    2: [0], \n",
    "    3: [0, 1], \n",
    "    4: []}\n",
    "```\n",
    "\n",
    "Draw this on paper. Write down its adjacency matrix on paper. Write it down in a list of edges format."
   ]
  },
  {
   "cell_type": "markdown",
   "metadata": {
    "slideshow": {
     "slide_type": "subslide"
    }
   },
   "source": [
    "* Calculate the sum of row 0 in the adjacency matrix. What does it mean?\n",
    "* What do you observe about the diagonal, and about symmetry?\n",
    "* Suppose you saw a 1 on the diagonal. How could this be represented on paper? Think of a real-world situation where this would be useful."
   ]
  },
  {
   "cell_type": "markdown",
   "metadata": {
    "slideshow": {
     "slide_type": "subslide"
    }
   },
   "source": [
    "\n",
    "Consider again the list of edges format, where each edge is a 2-tuple. What would be the advantages of this, for a very large graph? Are there any disadvantages? (Hint: consider the same graph as before.)"
   ]
  },
  {
   "cell_type": "markdown",
   "metadata": {
    "slideshow": {
     "slide_type": "subslide"
    }
   },
   "source": [
    "### Solutions\n",
    "\n",
    "Adjacency matrix\n",
    "```\n",
    "0 1 1 1 0\n",
    "1 0 0 1 0\n",
    "1 0 0 0 0\n",
    "1 1 0 0 0\n",
    "0 0 0 0 0\n",
    "```"
   ]
  },
  {
   "cell_type": "markdown",
   "metadata": {
    "slideshow": {
     "slide_type": "subslide"
    }
   },
   "source": [
    "<center><img src=img/exercise_graph.svg width=40%></center>"
   ]
  },
  {
   "cell_type": "markdown",
   "metadata": {
    "slideshow": {
     "slide_type": "subslide"
    }
   },
   "source": [
    "* The row-sum of a node (e.g. row 0 for node 0) is its degree -- the number of edges from it.\n",
    "* The diagonal is always 0 and the matrix is symmetric.\n",
    "* If there was a 1 on the diagonal, it would indicate an edge from node $i$ to itself -- a *self-loop*. Usually these are disallowed. But e.g. if a web page linked to itself, we could represent that as a self-loop."
   ]
  },
  {
   "cell_type": "markdown",
   "metadata": {
    "slideshow": {
     "slide_type": "subslide"
    }
   },
   "source": [
    "* In an undirected graph, the adjacency matrix is symmetric. In a directed graph, it may not be."
   ]
  },
  {
   "cell_type": "markdown",
   "metadata": {
    "slideshow": {
     "slide_type": "subslide"
    }
   },
   "source": [
    "* The advantage of the list-of-edges representation is that in a *sparse graph* (few edges, relative to the number there *could be*) it saves a lot of space compared to an explicit adjacency matrix which has to store all those zeros. The possible disadvantage is that there could be isolated nodes (nodes with no neighbours, i.e. degree 0), which would be omitted entirely if we only list the edges. So we might have to maintain both a list of edges and a list of nodes."
   ]
  }
 ],
 "metadata": {
  "celltoolbar": "Slideshow",
  "kernelspec": {
   "display_name": "Python 3",
   "language": "python",
   "name": "python3"
  },
  "language_info": {
   "codemirror_mode": {
    "name": "ipython",
    "version": 3
   },
   "file_extension": ".py",
   "mimetype": "text/x-python",
   "name": "python",
   "nbconvert_exporter": "python",
   "pygments_lexer": "ipython3",
   "version": "3.8.5"
  }
 },
 "nbformat": 4,
 "nbformat_minor": 2
}
