{
 "cells": [
  {
   "cell_type": "markdown",
   "metadata": {
    "slideshow": {
     "slide_type": "slide"
    }
   },
   "source": [
    "<center><img src=img/MScAI_brand.png width=70%></center>\n",
    "\n",
    "# Pandas"
   ]
  },
  {
   "cell_type": "markdown",
   "metadata": {
    "slideshow": {
     "slide_type": "notes"
    }
   },
   "source": [
    "\n",
    "* Reading and writing data with Pandas\n",
    "\n",
    "* Manipulating data with Pandas\n",
    "\n",
    "* Prerequisites: Numpy"
   ]
  },
  {
   "cell_type": "markdown",
   "metadata": {
    "slideshow": {
     "slide_type": "notes"
    }
   },
   "source": [
    "Pandas is a library for data manipulation in Python. "
   ]
  },
  {
   "cell_type": "code",
   "execution_count": 1,
   "metadata": {
    "slideshow": {
     "slide_type": "slide"
    }
   },
   "outputs": [],
   "source": [
    "import pandas as pd"
   ]
  },
  {
   "cell_type": "markdown",
   "metadata": {
    "slideshow": {
     "slide_type": "fragment"
    }
   },
   "source": [
    "The central object is the Pandas `DataFrame`, but it is built on top of the Pandas `Series` so we'll look at that first. \n",
    "\n",
    "A `Series` is like a 1D Numpy `array`:"
   ]
  },
  {
   "cell_type": "code",
   "execution_count": 2,
   "metadata": {
    "slideshow": {
     "slide_type": "subslide"
    }
   },
   "outputs": [
    {
     "data": {
      "text/plain": [
       "0    0.25\n",
       "1    0.50\n",
       "2    0.75\n",
       "3    1.00\n",
       "dtype: float64"
      ]
     },
     "execution_count": 2,
     "metadata": {},
     "output_type": "execute_result"
    }
   ],
   "source": [
    "data = pd.Series([0.25, 0.5, 0.75, 1.0])\n",
    "data"
   ]
  },
  {
   "cell_type": "markdown",
   "metadata": {
    "slideshow": {
     "slide_type": "subslide"
    }
   },
   "source": [
    "Also, the values can be any type (but usually homogeneous):"
   ]
  },
  {
   "cell_type": "code",
   "execution_count": 3,
   "metadata": {},
   "outputs": [
    {
     "data": {
      "text/plain": [
       "0    a\n",
       "1    b\n",
       "2    c\n",
       "3    d\n",
       "dtype: object"
      ]
     },
     "execution_count": 3,
     "metadata": {},
     "output_type": "execute_result"
    }
   ],
   "source": [
    "data = pd.Series([\"a\", \"b\", \"c\", \"d\"])\n",
    "data"
   ]
  },
  {
   "cell_type": "markdown",
   "metadata": {
    "slideshow": {
     "slide_type": "subslide"
    }
   },
   "source": [
    "The indices can also be anything -- in contrast to a Numpy array -- not just contiguous integers starting from 0."
   ]
  },
  {
   "cell_type": "code",
   "execution_count": 4,
   "metadata": {
    "slideshow": {
     "slide_type": "fragment"
    }
   },
   "outputs": [],
   "source": [
    "data = pd.Series([0.25, 0.5, 0.75, 1.0], \n",
    "                 index=[4, 2, 4/3, 1])"
   ]
  },
  {
   "cell_type": "code",
   "execution_count": 5,
   "metadata": {
    "slideshow": {
     "slide_type": "fragment"
    }
   },
   "outputs": [
    {
     "data": {
      "text/plain": [
       "4.000000    0.25\n",
       "2.000000    0.50\n",
       "1.333333    0.75\n",
       "1.000000    1.00\n",
       "dtype: float64"
      ]
     },
     "execution_count": 5,
     "metadata": {},
     "output_type": "execute_result"
    }
   ],
   "source": [
    "data"
   ]
  },
  {
   "cell_type": "markdown",
   "metadata": {
    "slideshow": {
     "slide_type": "subslide"
    }
   },
   "source": [
    "The indices don't have to be unique because location is maintained:"
   ]
  },
  {
   "cell_type": "code",
   "execution_count": 6,
   "metadata": {},
   "outputs": [
    {
     "data": {
      "text/plain": [
       "4    0.25\n",
       "2    0.50\n",
       "2    0.75\n",
       "1    1.00\n",
       "dtype: float64"
      ]
     },
     "execution_count": 6,
     "metadata": {},
     "output_type": "execute_result"
    }
   ],
   "source": [
    "data = pd.Series([0.25, 0.5, 0.75, 1.0], \n",
    "                 index=[4, 2, 2, 1])\n",
    "data"
   ]
  },
  {
   "cell_type": "markdown",
   "metadata": {
    "slideshow": {
     "slide_type": "fragment"
    }
   },
   "source": [
    "The indices will usually be of homogeneous types but it's not strictly required."
   ]
  },
  {
   "cell_type": "markdown",
   "metadata": {
    "slideshow": {
     "slide_type": "subslide"
    }
   },
   "source": [
    "### DataFrames\n",
    "\n",
    "A good way to think of a DataFrame is: it's like a `dict` where the keys are strings (column headers) and the values are Series with a common index."
   ]
  },
  {
   "cell_type": "code",
   "execution_count": 7,
   "metadata": {
    "slideshow": {
     "slide_type": "fragment"
    }
   },
   "outputs": [
    {
     "data": {
      "text/html": [
       "<div>\n",
       "<style scoped>\n",
       "    .dataframe tbody tr th:only-of-type {\n",
       "        vertical-align: middle;\n",
       "    }\n",
       "\n",
       "    .dataframe tbody tr th {\n",
       "        vertical-align: top;\n",
       "    }\n",
       "\n",
       "    .dataframe thead th {\n",
       "        text-align: right;\n",
       "    }\n",
       "</style>\n",
       "<table border=\"1\" class=\"dataframe\">\n",
       "  <thead>\n",
       "    <tr style=\"text-align: right;\">\n",
       "      <th></th>\n",
       "      <th>a</th>\n",
       "      <th>b</th>\n",
       "    </tr>\n",
       "  </thead>\n",
       "  <tbody>\n",
       "    <tr>\n",
       "      <th>10</th>\n",
       "      <td>4</td>\n",
       "      <td>0.4</td>\n",
       "    </tr>\n",
       "    <tr>\n",
       "      <th>11</th>\n",
       "      <td>5</td>\n",
       "      <td>0.5</td>\n",
       "    </tr>\n",
       "    <tr>\n",
       "      <th>12</th>\n",
       "      <td>6</td>\n",
       "      <td>0.6</td>\n",
       "    </tr>\n",
       "    <tr>\n",
       "      <th>13</th>\n",
       "      <td>7</td>\n",
       "      <td>0.7</td>\n",
       "    </tr>\n",
       "  </tbody>\n",
       "</table>\n",
       "</div>"
      ],
      "text/plain": [
       "    a    b\n",
       "10  4  0.4\n",
       "11  5  0.5\n",
       "12  6  0.6\n",
       "13  7  0.7"
      ]
     },
     "execution_count": 7,
     "metadata": {},
     "output_type": "execute_result"
    }
   ],
   "source": [
    "df = pd.DataFrame({\"a\": [4, 5, 6, 7], \n",
    "                   \"b\": [0.4, 0.5, 0.6, 0.7]}, \n",
    "                  index=[10, 11, 12, 13])\n",
    "df"
   ]
  },
  {
   "cell_type": "code",
   "execution_count": 8,
   "metadata": {
    "slideshow": {
     "slide_type": "subslide"
    }
   },
   "outputs": [
    {
     "data": {
      "text/plain": [
       "pandas.core.series.Series"
      ]
     },
     "execution_count": 8,
     "metadata": {},
     "output_type": "execute_result"
    }
   ],
   "source": [
    "type(df[\"a\"])"
   ]
  },
  {
   "cell_type": "code",
   "execution_count": 9,
   "metadata": {
    "slideshow": {
     "slide_type": "fragment"
    }
   },
   "outputs": [
    {
     "data": {
      "text/plain": [
       "Int64Index([10, 11, 12, 13], dtype='int64')"
      ]
     },
     "execution_count": 9,
     "metadata": {},
     "output_type": "execute_result"
    }
   ],
   "source": [
    "df[\"a\"].index"
   ]
  },
  {
   "cell_type": "markdown",
   "metadata": {
    "slideshow": {
     "slide_type": "subslide"
    }
   },
   "source": [
    "The `id()` function gets the location of an object in memory. So this proves that the entire DataFrame shares a single `index`:"
   ]
  },
  {
   "cell_type": "code",
   "execution_count": 10,
   "metadata": {
    "slideshow": {
     "slide_type": "-"
    }
   },
   "outputs": [
    {
     "data": {
      "text/plain": [
       "True"
      ]
     },
     "execution_count": 10,
     "metadata": {},
     "output_type": "execute_result"
    }
   ],
   "source": [
    "id(df[\"a\"].index) == id(df[\"b\"].index)"
   ]
  },
  {
   "cell_type": "markdown",
   "metadata": {
    "slideshow": {
     "slide_type": "notes"
    }
   },
   "source": [
    "\"NumPy arrays have one dtype for the entire array, while pandas DataFrames have one dtype per column\" (from https://pandas.pydata.org/pandas-docs/stable/getting_started/10min.html). So, DataFrames are suitable for \"rectangular\", spreadsheet-like data with potentially a different data type in each column. So, we'll now see how to create a DataFrame by reading a file in a spreadsheet-like format."
   ]
  },
  {
   "cell_type": "markdown",
   "metadata": {
    "slideshow": {
     "slide_type": "slide"
    }
   },
   "source": [
    "### Reading data with Pandas\n"
   ]
  },
  {
   "cell_type": "markdown",
   "metadata": {
    "slideshow": {
     "slide_type": "notes"
    }
   },
   "source": [
    "The file we're going to use as an example is `data/irish_cities.txt`, available in Blackboard. The columns are separated by tab characters. Also, the file has a *header* which is not part of the data proper. "
   ]
  },
  {
   "cell_type": "code",
   "execution_count": 11,
   "metadata": {
    "slideshow": {
     "slide_type": "subslide"
    }
   },
   "outputs": [
    {
     "name": "stdout",
     "output_type": "stream",
     "text": [
      "# Copied from http://www.tageo.com/index-e-ei-cities-IE.htm -- James McDermott\n",
      "#Rank\tCity\tPopulation (2000)\tLatitude (DD)\tLongitude (DD)\n",
      "1\tDublin\t1027900\t53.330\t-6.250\n",
      "2\tCork\t195400\t51.900\t-8.470\n",
      "3\tLimerick\t85700\t52.670\t-8.630\n",
      "4\tGalway\t68600\t53.280\t-9.060\n",
      "5\tWaterford\t48300\t52.260\t-7.130\n",
      "6\tDundalk\t34400\t54.020\t-6.420\n",
      "7\tBray\t32300\t53.210\t-6.110\n",
      "8\tDrogheda\t28800\t53.720\t-6.360\n"
     ]
    }
   ],
   "source": [
    "# ! introduces a shell command - if it doesn't work on your system\n",
    "# just open the txt file in a text editor\n",
    "!head data/irish_cities.txt "
   ]
  },
  {
   "cell_type": "markdown",
   "metadata": {
    "slideshow": {
     "slide_type": "notes"
    }
   },
   "source": [
    "Pandas `read_csv` makes it easy to deal with all this. We use `sep=\"\\t\"` to say the file is *tab*-separated. And we tell it to skip the first row, which is just a comment. It then correctly uses the second row to guess the names for the columns."
   ]
  },
  {
   "cell_type": "code",
   "execution_count": 12,
   "metadata": {
    "slideshow": {
     "slide_type": "subslide"
    }
   },
   "outputs": [],
   "source": [
    "# \"\\t\" -> tab-separated\n",
    "df = pd.read_csv(\"data/irish_cities.txt\", \n",
    "                 sep=\"\\t\", \n",
    "                 skiprows=1) "
   ]
  },
  {
   "cell_type": "code",
   "execution_count": 13,
   "metadata": {
    "slideshow": {
     "slide_type": "slide"
    }
   },
   "outputs": [
    {
     "data": {
      "text/html": [
       "<div>\n",
       "<style scoped>\n",
       "    .dataframe tbody tr th:only-of-type {\n",
       "        vertical-align: middle;\n",
       "    }\n",
       "\n",
       "    .dataframe tbody tr th {\n",
       "        vertical-align: top;\n",
       "    }\n",
       "\n",
       "    .dataframe thead th {\n",
       "        text-align: right;\n",
       "    }\n",
       "</style>\n",
       "<table border=\"1\" class=\"dataframe\">\n",
       "  <thead>\n",
       "    <tr style=\"text-align: right;\">\n",
       "      <th></th>\n",
       "      <th>#Rank</th>\n",
       "      <th>City</th>\n",
       "      <th>Population (2000)</th>\n",
       "      <th>Latitude (DD)</th>\n",
       "      <th>Longitude (DD)</th>\n",
       "    </tr>\n",
       "  </thead>\n",
       "  <tbody>\n",
       "    <tr>\n",
       "      <th>0</th>\n",
       "      <td>1</td>\n",
       "      <td>Dublin</td>\n",
       "      <td>1027900</td>\n",
       "      <td>53.33</td>\n",
       "      <td>-6.25</td>\n",
       "    </tr>\n",
       "    <tr>\n",
       "      <th>1</th>\n",
       "      <td>2</td>\n",
       "      <td>Cork</td>\n",
       "      <td>195400</td>\n",
       "      <td>51.90</td>\n",
       "      <td>-8.47</td>\n",
       "    </tr>\n",
       "    <tr>\n",
       "      <th>2</th>\n",
       "      <td>3</td>\n",
       "      <td>Limerick</td>\n",
       "      <td>85700</td>\n",
       "      <td>52.67</td>\n",
       "      <td>-8.63</td>\n",
       "    </tr>\n",
       "    <tr>\n",
       "      <th>3</th>\n",
       "      <td>4</td>\n",
       "      <td>Galway</td>\n",
       "      <td>68600</td>\n",
       "      <td>53.28</td>\n",
       "      <td>-9.06</td>\n",
       "    </tr>\n",
       "    <tr>\n",
       "      <th>4</th>\n",
       "      <td>5</td>\n",
       "      <td>Waterford</td>\n",
       "      <td>48300</td>\n",
       "      <td>52.26</td>\n",
       "      <td>-7.13</td>\n",
       "    </tr>\n",
       "  </tbody>\n",
       "</table>\n",
       "</div>"
      ],
      "text/plain": [
       "   #Rank       City  Population (2000)  Latitude (DD)  Longitude (DD)\n",
       "0      1     Dublin            1027900          53.33           -6.25\n",
       "1      2       Cork             195400          51.90           -8.47\n",
       "2      3   Limerick              85700          52.67           -8.63\n",
       "3      4     Galway              68600          53.28           -9.06\n",
       "4      5  Waterford              48300          52.26           -7.13"
      ]
     },
     "execution_count": 13,
     "metadata": {},
     "output_type": "execute_result"
    }
   ],
   "source": [
    "df.head() # handy for a quick look, nice formatting in Notebook"
   ]
  },
  {
   "cell_type": "markdown",
   "metadata": {
    "slideshow": {
     "slide_type": "slide"
    }
   },
   "source": [
    "Useful arguments for `read_csv`:\n",
    "\n",
    "* The filename can be a file on disk or a URL.\n",
    "* `sep=\"\\t\"`, `sep=\" \"`, and `sep=\",\"` tell Pandas what character is used to separate the columns.\n",
    "* `skiprows=3` means to ignore the first rows entirely.\n",
    "* `names=[\"a\", \"b\", \"c\"]` tells Pandas the names of the columns.\n",
    "* But if the names of the columns are written at the top of the file, Pandas can figure them out."
   ]
  },
  {
   "cell_type": "markdown",
   "metadata": {
    "slideshow": {
     "slide_type": "slide"
    }
   },
   "source": [
    "Recall that a DataFrame is a bit like a dictionary mapping column headers to columns. We can *alter* the values in the way that you might expect, for example if we want our data to be in millions:"
   ]
  },
  {
   "cell_type": "code",
   "execution_count": 14,
   "metadata": {},
   "outputs": [],
   "source": [
    "df[\"Population (2000)\"] /= 1000000.0"
   ]
  },
  {
   "cell_type": "markdown",
   "metadata": {
    "slideshow": {
     "slide_type": "notes"
    }
   },
   "source": [
    "Then we should rename the column to reflect that change, and while we're at it we'll rename a few others."
   ]
  },
  {
   "cell_type": "code",
   "execution_count": 15,
   "metadata": {
    "slideshow": {
     "slide_type": "subslide"
    }
   },
   "outputs": [
    {
     "data": {
      "text/html": [
       "<div>\n",
       "<style scoped>\n",
       "    .dataframe tbody tr th:only-of-type {\n",
       "        vertical-align: middle;\n",
       "    }\n",
       "\n",
       "    .dataframe tbody tr th {\n",
       "        vertical-align: top;\n",
       "    }\n",
       "\n",
       "    .dataframe thead th {\n",
       "        text-align: right;\n",
       "    }\n",
       "</style>\n",
       "<table border=\"1\" class=\"dataframe\">\n",
       "  <thead>\n",
       "    <tr style=\"text-align: right;\">\n",
       "      <th></th>\n",
       "      <th>Rank</th>\n",
       "      <th>City</th>\n",
       "      <th>Population (M)</th>\n",
       "      <th>Latitude</th>\n",
       "      <th>Longitude</th>\n",
       "    </tr>\n",
       "  </thead>\n",
       "  <tbody>\n",
       "    <tr>\n",
       "      <th>0</th>\n",
       "      <td>1</td>\n",
       "      <td>Dublin</td>\n",
       "      <td>1.0279</td>\n",
       "      <td>53.33</td>\n",
       "      <td>-6.25</td>\n",
       "    </tr>\n",
       "    <tr>\n",
       "      <th>1</th>\n",
       "      <td>2</td>\n",
       "      <td>Cork</td>\n",
       "      <td>0.1954</td>\n",
       "      <td>51.90</td>\n",
       "      <td>-8.47</td>\n",
       "    </tr>\n",
       "    <tr>\n",
       "      <th>2</th>\n",
       "      <td>3</td>\n",
       "      <td>Limerick</td>\n",
       "      <td>0.0857</td>\n",
       "      <td>52.67</td>\n",
       "      <td>-8.63</td>\n",
       "    </tr>\n",
       "    <tr>\n",
       "      <th>3</th>\n",
       "      <td>4</td>\n",
       "      <td>Galway</td>\n",
       "      <td>0.0686</td>\n",
       "      <td>53.28</td>\n",
       "      <td>-9.06</td>\n",
       "    </tr>\n",
       "    <tr>\n",
       "      <th>4</th>\n",
       "      <td>5</td>\n",
       "      <td>Waterford</td>\n",
       "      <td>0.0483</td>\n",
       "      <td>52.26</td>\n",
       "      <td>-7.13</td>\n",
       "    </tr>\n",
       "  </tbody>\n",
       "</table>\n",
       "</div>"
      ],
      "text/plain": [
       "   Rank       City  Population (M)  Latitude  Longitude\n",
       "0     1     Dublin          1.0279     53.33      -6.25\n",
       "1     2       Cork          0.1954     51.90      -8.47\n",
       "2     3   Limerick          0.0857     52.67      -8.63\n",
       "3     4     Galway          0.0686     53.28      -9.06\n",
       "4     5  Waterford          0.0483     52.26      -7.13"
      ]
     },
     "execution_count": 15,
     "metadata": {},
     "output_type": "execute_result"
    }
   ],
   "source": [
    "df = df.rename(columns={\"#Rank\": \"Rank\", \n",
    "                        \"Population (2000)\": \"Population (M)\", \n",
    "                        \"Latitude (DD)\": \"Latitude\", \n",
    "                        \"Longitude (DD)\": \"Longitude\"})\n",
    "df.head()"
   ]
  },
  {
   "cell_type": "markdown",
   "metadata": {
    "slideshow": {
     "slide_type": "notes"
    }
   },
   "source": [
    "Now, we can access the columns and treat them like Numpy arrays."
   ]
  },
  {
   "cell_type": "code",
   "execution_count": 16,
   "metadata": {
    "slideshow": {
     "slide_type": "subslide"
    }
   },
   "outputs": [
    {
     "data": {
      "text/plain": [
       "2.0366000000000004"
      ]
     },
     "execution_count": 16,
     "metadata": {},
     "output_type": "execute_result"
    }
   ],
   "source": [
    "df[\"Population (M)\"].sum()"
   ]
  },
  {
   "cell_type": "markdown",
   "metadata": {
    "slideshow": {
     "slide_type": "subslide"
    }
   },
   "source": [
    "Aggregation functions like `mean()` on the whole DataFrame work across all numerical arguments -- which might not be meaningful, for all data:"
   ]
  },
  {
   "cell_type": "code",
   "execution_count": 17,
   "metadata": {
    "slideshow": {
     "slide_type": "fragment"
    }
   },
   "outputs": [
    {
     "name": "stderr",
     "output_type": "stream",
     "text": [
      "/var/folders/s6/1kk5sb5x7cd30zc7m6y3nzg40000gn/T/ipykernel_865/3698961737.py:1: FutureWarning: Dropping of nuisance columns in DataFrame reductions (with 'numeric_only=None') is deprecated; in a future version this will raise TypeError.  Select only valid columns before calling the reduction.\n",
      "  df.mean()\n"
     ]
    },
    {
     "data": {
      "text/plain": [
       "Rank              25.000000\n",
       "Population (M)     0.041563\n",
       "Latitude          53.042449\n",
       "Longitude         -7.391224\n",
       "dtype: float64"
      ]
     },
     "execution_count": 17,
     "metadata": {},
     "output_type": "execute_result"
    }
   ],
   "source": [
    "df.mean()"
   ]
  },
  {
   "cell_type": "code",
   "execution_count": 18,
   "metadata": {
    "slideshow": {
     "slide_type": "subslide"
    }
   },
   "outputs": [
    {
     "data": {
      "text/html": [
       "<div>\n",
       "<style scoped>\n",
       "    .dataframe tbody tr th:only-of-type {\n",
       "        vertical-align: middle;\n",
       "    }\n",
       "\n",
       "    .dataframe tbody tr th {\n",
       "        vertical-align: top;\n",
       "    }\n",
       "\n",
       "    .dataframe thead th {\n",
       "        text-align: right;\n",
       "    }\n",
       "</style>\n",
       "<table border=\"1\" class=\"dataframe\">\n",
       "  <thead>\n",
       "    <tr style=\"text-align: right;\">\n",
       "      <th></th>\n",
       "      <th>Rank</th>\n",
       "      <th>Population (M)</th>\n",
       "      <th>Latitude</th>\n",
       "      <th>Longitude</th>\n",
       "    </tr>\n",
       "  </thead>\n",
       "  <tbody>\n",
       "    <tr>\n",
       "      <th>count</th>\n",
       "      <td>49.00000</td>\n",
       "      <td>49.000000</td>\n",
       "      <td>49.000000</td>\n",
       "      <td>49.000000</td>\n",
       "    </tr>\n",
       "    <tr>\n",
       "      <th>mean</th>\n",
       "      <td>25.00000</td>\n",
       "      <td>0.041563</td>\n",
       "      <td>53.042449</td>\n",
       "      <td>-7.391224</td>\n",
       "    </tr>\n",
       "    <tr>\n",
       "      <th>std</th>\n",
       "      <td>14.28869</td>\n",
       "      <td>0.146841</td>\n",
       "      <td>0.692864</td>\n",
       "      <td>1.083562</td>\n",
       "    </tr>\n",
       "    <tr>\n",
       "      <th>min</th>\n",
       "      <td>1.00000</td>\n",
       "      <td>0.006700</td>\n",
       "      <td>51.810000</td>\n",
       "      <td>-9.720000</td>\n",
       "    </tr>\n",
       "    <tr>\n",
       "      <th>25%</th>\n",
       "      <td>13.00000</td>\n",
       "      <td>0.008800</td>\n",
       "      <td>52.500000</td>\n",
       "      <td>-8.300000</td>\n",
       "    </tr>\n",
       "    <tr>\n",
       "      <th>50%</th>\n",
       "      <td>25.00000</td>\n",
       "      <td>0.013100</td>\n",
       "      <td>53.140000</td>\n",
       "      <td>-7.160000</td>\n",
       "    </tr>\n",
       "    <tr>\n",
       "      <th>75%</th>\n",
       "      <td>37.00000</td>\n",
       "      <td>0.019500</td>\n",
       "      <td>53.450000</td>\n",
       "      <td>-6.480000</td>\n",
       "    </tr>\n",
       "    <tr>\n",
       "      <th>max</th>\n",
       "      <td>49.00000</td>\n",
       "      <td>1.027900</td>\n",
       "      <td>54.940000</td>\n",
       "      <td>-6.050000</td>\n",
       "    </tr>\n",
       "  </tbody>\n",
       "</table>\n",
       "</div>"
      ],
      "text/plain": [
       "           Rank  Population (M)   Latitude  Longitude\n",
       "count  49.00000       49.000000  49.000000  49.000000\n",
       "mean   25.00000        0.041563  53.042449  -7.391224\n",
       "std    14.28869        0.146841   0.692864   1.083562\n",
       "min     1.00000        0.006700  51.810000  -9.720000\n",
       "25%    13.00000        0.008800  52.500000  -8.300000\n",
       "50%    25.00000        0.013100  53.140000  -7.160000\n",
       "75%    37.00000        0.019500  53.450000  -6.480000\n",
       "max    49.00000        1.027900  54.940000  -6.050000"
      ]
     },
     "execution_count": 18,
     "metadata": {},
     "output_type": "execute_result"
    }
   ],
   "source": [
    "df.describe() # handy, general description"
   ]
  },
  {
   "cell_type": "markdown",
   "metadata": {
    "slideshow": {
     "slide_type": "subslide"
    }
   },
   "source": [
    "We can take subsets of the data, e.g.:"
   ]
  },
  {
   "cell_type": "code",
   "execution_count": 19,
   "metadata": {},
   "outputs": [
    {
     "data": {
      "text/html": [
       "<div>\n",
       "<style scoped>\n",
       "    .dataframe tbody tr th:only-of-type {\n",
       "        vertical-align: middle;\n",
       "    }\n",
       "\n",
       "    .dataframe tbody tr th {\n",
       "        vertical-align: top;\n",
       "    }\n",
       "\n",
       "    .dataframe thead th {\n",
       "        text-align: right;\n",
       "    }\n",
       "</style>\n",
       "<table border=\"1\" class=\"dataframe\">\n",
       "  <thead>\n",
       "    <tr style=\"text-align: right;\">\n",
       "      <th></th>\n",
       "      <th>Rank</th>\n",
       "      <th>City</th>\n",
       "      <th>Population (M)</th>\n",
       "      <th>Latitude</th>\n",
       "      <th>Longitude</th>\n",
       "    </tr>\n",
       "  </thead>\n",
       "  <tbody>\n",
       "    <tr>\n",
       "      <th>0</th>\n",
       "      <td>1</td>\n",
       "      <td>Dublin</td>\n",
       "      <td>1.0279</td>\n",
       "      <td>53.33</td>\n",
       "      <td>-6.25</td>\n",
       "    </tr>\n",
       "    <tr>\n",
       "      <th>1</th>\n",
       "      <td>2</td>\n",
       "      <td>Cork</td>\n",
       "      <td>0.1954</td>\n",
       "      <td>51.90</td>\n",
       "      <td>-8.47</td>\n",
       "    </tr>\n",
       "    <tr>\n",
       "      <th>2</th>\n",
       "      <td>3</td>\n",
       "      <td>Limerick</td>\n",
       "      <td>0.0857</td>\n",
       "      <td>52.67</td>\n",
       "      <td>-8.63</td>\n",
       "    </tr>\n",
       "    <tr>\n",
       "      <th>3</th>\n",
       "      <td>4</td>\n",
       "      <td>Galway</td>\n",
       "      <td>0.0686</td>\n",
       "      <td>53.28</td>\n",
       "      <td>-9.06</td>\n",
       "    </tr>\n",
       "  </tbody>\n",
       "</table>\n",
       "</div>"
      ],
      "text/plain": [
       "   Rank      City  Population (M)  Latitude  Longitude\n",
       "0     1    Dublin          1.0279     53.33      -6.25\n",
       "1     2      Cork          0.1954     51.90      -8.47\n",
       "2     3  Limerick          0.0857     52.67      -8.63\n",
       "3     4    Galway          0.0686     53.28      -9.06"
      ]
     },
     "execution_count": 19,
     "metadata": {},
     "output_type": "execute_result"
    }
   ],
   "source": [
    "df[df[\"Population (M)\"] > 0.05]"
   ]
  },
  {
   "cell_type": "markdown",
   "metadata": {
    "slideshow": {
     "slide_type": "notes"
    }
   },
   "source": [
    "This works because `df[\"Population (M)\"]` returns a Boolean array, which is then used to select a subset of `df`."
   ]
  },
  {
   "cell_type": "markdown",
   "metadata": {
    "slideshow": {
     "slide_type": "subslide"
    }
   },
   "source": [
    "We can use Boolean operations for more powerful subsetting. Notice that we use a *single* `&` symbol here for `and`, and the round brackets are needed."
   ]
  },
  {
   "cell_type": "code",
   "execution_count": 20,
   "metadata": {
    "slideshow": {
     "slide_type": "-"
    }
   },
   "outputs": [
    {
     "data": {
      "text/html": [
       "<div>\n",
       "<style scoped>\n",
       "    .dataframe tbody tr th:only-of-type {\n",
       "        vertical-align: middle;\n",
       "    }\n",
       "\n",
       "    .dataframe tbody tr th {\n",
       "        vertical-align: top;\n",
       "    }\n",
       "\n",
       "    .dataframe thead th {\n",
       "        text-align: right;\n",
       "    }\n",
       "</style>\n",
       "<table border=\"1\" class=\"dataframe\">\n",
       "  <thead>\n",
       "    <tr style=\"text-align: right;\">\n",
       "      <th></th>\n",
       "      <th>Rank</th>\n",
       "      <th>City</th>\n",
       "      <th>Population (M)</th>\n",
       "      <th>Latitude</th>\n",
       "      <th>Longitude</th>\n",
       "    </tr>\n",
       "  </thead>\n",
       "  <tbody>\n",
       "    <tr>\n",
       "      <th>1</th>\n",
       "      <td>2</td>\n",
       "      <td>Cork</td>\n",
       "      <td>0.1954</td>\n",
       "      <td>51.90</td>\n",
       "      <td>-8.47</td>\n",
       "    </tr>\n",
       "    <tr>\n",
       "      <th>2</th>\n",
       "      <td>3</td>\n",
       "      <td>Limerick</td>\n",
       "      <td>0.0857</td>\n",
       "      <td>52.67</td>\n",
       "      <td>-8.63</td>\n",
       "    </tr>\n",
       "    <tr>\n",
       "      <th>3</th>\n",
       "      <td>4</td>\n",
       "      <td>Galway</td>\n",
       "      <td>0.0686</td>\n",
       "      <td>53.28</td>\n",
       "      <td>-9.06</td>\n",
       "    </tr>\n",
       "  </tbody>\n",
       "</table>\n",
       "</div>"
      ],
      "text/plain": [
       "   Rank      City  Population (M)  Latitude  Longitude\n",
       "1     2      Cork          0.1954     51.90      -8.47\n",
       "2     3  Limerick          0.0857     52.67      -8.63\n",
       "3     4    Galway          0.0686     53.28      -9.06"
      ]
     },
     "execution_count": 20,
     "metadata": {},
     "output_type": "execute_result"
    }
   ],
   "source": [
    "df[(df[\"Population (M)\"] > 0.05) & \n",
    "   (df[\"Longitude\"] < -8)]"
   ]
  },
  {
   "cell_type": "code",
   "execution_count": 21,
   "metadata": {},
   "outputs": [
    {
     "data": {
      "text/html": [
       "<div>\n",
       "<style scoped>\n",
       "    .dataframe tbody tr th:only-of-type {\n",
       "        vertical-align: middle;\n",
       "    }\n",
       "\n",
       "    .dataframe tbody tr th {\n",
       "        vertical-align: top;\n",
       "    }\n",
       "\n",
       "    .dataframe thead th {\n",
       "        text-align: right;\n",
       "    }\n",
       "</style>\n",
       "<table border=\"1\" class=\"dataframe\">\n",
       "  <thead>\n",
       "    <tr style=\"text-align: right;\">\n",
       "      <th></th>\n",
       "      <th>Rank</th>\n",
       "      <th>City</th>\n",
       "      <th>Population (M)</th>\n",
       "      <th>Latitude</th>\n",
       "      <th>Longitude</th>\n",
       "    </tr>\n",
       "  </thead>\n",
       "  <tbody>\n",
       "    <tr>\n",
       "      <th>44</th>\n",
       "      <td>45</td>\n",
       "      <td>Longford</td>\n",
       "      <td>0.0073</td>\n",
       "      <td>53.73</td>\n",
       "      <td>-7.81</td>\n",
       "    </tr>\n",
       "  </tbody>\n",
       "</table>\n",
       "</div>"
      ],
      "text/plain": [
       "    Rank      City  Population (M)  Latitude  Longitude\n",
       "44    45  Longford          0.0073     53.73      -7.81"
      ]
     },
     "execution_count": 21,
     "metadata": {},
     "output_type": "execute_result"
    }
   ],
   "source": [
    "# what town is less than 7500 people but north of 53 degrees?\n",
    "df[(df[\"Population (M)\"] < 0.0075) & \n",
    "   (df[\"Latitude\"] > 53)]"
   ]
  },
  {
   "cell_type": "code",
   "execution_count": 22,
   "metadata": {},
   "outputs": [
    {
     "data": {
      "text/html": [
       "<div>\n",
       "<style scoped>\n",
       "    .dataframe tbody tr th:only-of-type {\n",
       "        vertical-align: middle;\n",
       "    }\n",
       "\n",
       "    .dataframe tbody tr th {\n",
       "        vertical-align: top;\n",
       "    }\n",
       "\n",
       "    .dataframe thead th {\n",
       "        text-align: right;\n",
       "    }\n",
       "</style>\n",
       "<table border=\"1\" class=\"dataframe\">\n",
       "  <thead>\n",
       "    <tr style=\"text-align: right;\">\n",
       "      <th></th>\n",
       "      <th>Rank</th>\n",
       "      <th>City</th>\n",
       "      <th>Population (M)</th>\n",
       "      <th>Latitude</th>\n",
       "      <th>Longitude</th>\n",
       "    </tr>\n",
       "  </thead>\n",
       "  <tbody>\n",
       "    <tr>\n",
       "      <th>0</th>\n",
       "      <td>1</td>\n",
       "      <td>Dublin</td>\n",
       "      <td>1.0279</td>\n",
       "      <td>53.33</td>\n",
       "      <td>-6.25</td>\n",
       "    </tr>\n",
       "    <tr>\n",
       "      <th>3</th>\n",
       "      <td>4</td>\n",
       "      <td>Galway</td>\n",
       "      <td>0.0686</td>\n",
       "      <td>53.28</td>\n",
       "      <td>-9.06</td>\n",
       "    </tr>\n",
       "    <tr>\n",
       "      <th>5</th>\n",
       "      <td>6</td>\n",
       "      <td>Dundalk</td>\n",
       "      <td>0.0344</td>\n",
       "      <td>54.02</td>\n",
       "      <td>-6.42</td>\n",
       "    </tr>\n",
       "    <tr>\n",
       "      <th>6</th>\n",
       "      <td>7</td>\n",
       "      <td>Bray</td>\n",
       "      <td>0.0323</td>\n",
       "      <td>53.21</td>\n",
       "      <td>-6.11</td>\n",
       "    </tr>\n",
       "    <tr>\n",
       "      <th>7</th>\n",
       "      <td>8</td>\n",
       "      <td>Drogheda</td>\n",
       "      <td>0.0288</td>\n",
       "      <td>53.72</td>\n",
       "      <td>-6.36</td>\n",
       "    </tr>\n",
       "    <tr>\n",
       "      <th>8</th>\n",
       "      <td>9</td>\n",
       "      <td>Swords</td>\n",
       "      <td>0.0241</td>\n",
       "      <td>53.45</td>\n",
       "      <td>-6.22</td>\n",
       "    </tr>\n",
       "    <tr>\n",
       "      <th>12</th>\n",
       "      <td>13</td>\n",
       "      <td>Sligo</td>\n",
       "      <td>0.0195</td>\n",
       "      <td>54.28</td>\n",
       "      <td>-8.48</td>\n",
       "    </tr>\n",
       "    <tr>\n",
       "      <th>13</th>\n",
       "      <td>14</td>\n",
       "      <td>Athlone</td>\n",
       "      <td>0.0184</td>\n",
       "      <td>53.42</td>\n",
       "      <td>-7.95</td>\n",
       "    </tr>\n",
       "    <tr>\n",
       "      <th>15</th>\n",
       "      <td>16</td>\n",
       "      <td>Naas</td>\n",
       "      <td>0.0181</td>\n",
       "      <td>53.22</td>\n",
       "      <td>-6.68</td>\n",
       "    </tr>\n",
       "    <tr>\n",
       "      <th>17</th>\n",
       "      <td>18</td>\n",
       "      <td>Newbridge</td>\n",
       "      <td>0.0172</td>\n",
       "      <td>53.18</td>\n",
       "      <td>-6.80</td>\n",
       "    </tr>\n",
       "    <tr>\n",
       "      <th>19</th>\n",
       "      <td>20</td>\n",
       "      <td>Navan</td>\n",
       "      <td>0.0166</td>\n",
       "      <td>53.66</td>\n",
       "      <td>-6.69</td>\n",
       "    </tr>\n",
       "    <tr>\n",
       "      <th>20</th>\n",
       "      <td>21</td>\n",
       "      <td>Celbridge</td>\n",
       "      <td>0.0158</td>\n",
       "      <td>53.33</td>\n",
       "      <td>-6.55</td>\n",
       "    </tr>\n",
       "    <tr>\n",
       "      <th>21</th>\n",
       "      <td>22</td>\n",
       "      <td>Mullingar</td>\n",
       "      <td>0.0148</td>\n",
       "      <td>53.53</td>\n",
       "      <td>-7.34</td>\n",
       "    </tr>\n",
       "    <tr>\n",
       "      <th>22</th>\n",
       "      <td>23</td>\n",
       "      <td>Malahide</td>\n",
       "      <td>0.0146</td>\n",
       "      <td>53.45</td>\n",
       "      <td>-6.16</td>\n",
       "    </tr>\n",
       "    <tr>\n",
       "      <th>23</th>\n",
       "      <td>24</td>\n",
       "      <td>Leixlip</td>\n",
       "      <td>0.0145</td>\n",
       "      <td>53.37</td>\n",
       "      <td>-6.49</td>\n",
       "    </tr>\n",
       "    <tr>\n",
       "      <th>24</th>\n",
       "      <td>25</td>\n",
       "      <td>Greystones</td>\n",
       "      <td>0.0131</td>\n",
       "      <td>53.14</td>\n",
       "      <td>-6.07</td>\n",
       "    </tr>\n",
       "    <tr>\n",
       "      <th>25</th>\n",
       "      <td>26</td>\n",
       "      <td>Letterkenny</td>\n",
       "      <td>0.0129</td>\n",
       "      <td>54.94</td>\n",
       "      <td>-7.74</td>\n",
       "    </tr>\n",
       "    <tr>\n",
       "      <th>26</th>\n",
       "      <td>27</td>\n",
       "      <td>Killarney</td>\n",
       "      <td>0.0128</td>\n",
       "      <td>53.06</td>\n",
       "      <td>-9.52</td>\n",
       "    </tr>\n",
       "    <tr>\n",
       "      <th>27</th>\n",
       "      <td>28</td>\n",
       "      <td>Tullamore</td>\n",
       "      <td>0.0111</td>\n",
       "      <td>53.28</td>\n",
       "      <td>-7.49</td>\n",
       "    </tr>\n",
       "    <tr>\n",
       "      <th>28</th>\n",
       "      <td>29</td>\n",
       "      <td>Maynooth</td>\n",
       "      <td>0.0110</td>\n",
       "      <td>53.38</td>\n",
       "      <td>-6.60</td>\n",
       "    </tr>\n",
       "    <tr>\n",
       "      <th>29</th>\n",
       "      <td>30</td>\n",
       "      <td>Port laoise</td>\n",
       "      <td>0.0108</td>\n",
       "      <td>53.04</td>\n",
       "      <td>-7.30</td>\n",
       "    </tr>\n",
       "    <tr>\n",
       "      <th>31</th>\n",
       "      <td>32</td>\n",
       "      <td>Ballina</td>\n",
       "      <td>0.0094</td>\n",
       "      <td>54.12</td>\n",
       "      <td>-9.16</td>\n",
       "    </tr>\n",
       "    <tr>\n",
       "      <th>33</th>\n",
       "      <td>34</td>\n",
       "      <td>Balbriggan</td>\n",
       "      <td>0.0091</td>\n",
       "      <td>53.61</td>\n",
       "      <td>-6.19</td>\n",
       "    </tr>\n",
       "    <tr>\n",
       "      <th>34</th>\n",
       "      <td>35</td>\n",
       "      <td>Castlebar</td>\n",
       "      <td>0.0091</td>\n",
       "      <td>53.86</td>\n",
       "      <td>-9.30</td>\n",
       "    </tr>\n",
       "    <tr>\n",
       "      <th>41</th>\n",
       "      <td>42</td>\n",
       "      <td>Skerries</td>\n",
       "      <td>0.0079</td>\n",
       "      <td>53.58</td>\n",
       "      <td>-6.11</td>\n",
       "    </tr>\n",
       "    <tr>\n",
       "      <th>42</th>\n",
       "      <td>43</td>\n",
       "      <td>Laytown</td>\n",
       "      <td>0.0077</td>\n",
       "      <td>53.67</td>\n",
       "      <td>-6.24</td>\n",
       "    </tr>\n",
       "    <tr>\n",
       "      <th>44</th>\n",
       "      <td>45</td>\n",
       "      <td>Longford</td>\n",
       "      <td>0.0073</td>\n",
       "      <td>53.73</td>\n",
       "      <td>-7.81</td>\n",
       "    </tr>\n",
       "  </tbody>\n",
       "</table>\n",
       "</div>"
      ],
      "text/plain": [
       "    Rank         City  Population (M)  Latitude  Longitude\n",
       "0      1       Dublin          1.0279     53.33      -6.25\n",
       "3      4       Galway          0.0686     53.28      -9.06\n",
       "5      6      Dundalk          0.0344     54.02      -6.42\n",
       "6      7         Bray          0.0323     53.21      -6.11\n",
       "7      8     Drogheda          0.0288     53.72      -6.36\n",
       "8      9       Swords          0.0241     53.45      -6.22\n",
       "12    13        Sligo          0.0195     54.28      -8.48\n",
       "13    14      Athlone          0.0184     53.42      -7.95\n",
       "15    16         Naas          0.0181     53.22      -6.68\n",
       "17    18    Newbridge          0.0172     53.18      -6.80\n",
       "19    20        Navan          0.0166     53.66      -6.69\n",
       "20    21    Celbridge          0.0158     53.33      -6.55\n",
       "21    22    Mullingar          0.0148     53.53      -7.34\n",
       "22    23     Malahide          0.0146     53.45      -6.16\n",
       "23    24      Leixlip          0.0145     53.37      -6.49\n",
       "24    25   Greystones          0.0131     53.14      -6.07\n",
       "25    26  Letterkenny          0.0129     54.94      -7.74\n",
       "26    27    Killarney          0.0128     53.06      -9.52\n",
       "27    28    Tullamore          0.0111     53.28      -7.49\n",
       "28    29     Maynooth          0.0110     53.38      -6.60\n",
       "29    30  Port laoise          0.0108     53.04      -7.30\n",
       "31    32      Ballina          0.0094     54.12      -9.16\n",
       "33    34   Balbriggan          0.0091     53.61      -6.19\n",
       "34    35    Castlebar          0.0091     53.86      -9.30\n",
       "41    42     Skerries          0.0079     53.58      -6.11\n",
       "42    43      Laytown          0.0077     53.67      -6.24\n",
       "44    45     Longford          0.0073     53.73      -7.81"
      ]
     },
     "execution_count": 22,
     "metadata": {},
     "output_type": "execute_result"
    }
   ],
   "source": [
    "df[df[\"Latitude\"] > 53] # just to confirm -- here are all those north of 53 degrees."
   ]
  },
  {
   "cell_type": "markdown",
   "metadata": {
    "slideshow": {
     "slide_type": "subslide"
    }
   },
   "source": [
    "### Creating a DataFrame from scratch\n",
    "\n",
    "If we are generating data somehow, we can build up the DataFrame from scratch. For example, we might want to test how fast a `sort()` function is for different input sizes, and store the results in a DataFrame."
   ]
  },
  {
   "cell_type": "code",
   "execution_count": 23,
   "metadata": {
    "slideshow": {
     "slide_type": "subslide"
    }
   },
   "outputs": [],
   "source": [
    "import numpy as np\n",
    "import time"
   ]
  },
  {
   "cell_type": "code",
   "execution_count": 24,
   "metadata": {
    "slideshow": {
     "slide_type": "subslide"
    }
   },
   "outputs": [],
   "source": [
    "ns = [i * 10**6 for i in range(1, 11)] # sizes\n",
    "reps = 5 # how many repetitions\n",
    "cols = {\"n\": ns} # dict {name: column}\n",
    "for rep in range(reps):\n",
    "    col = []\n",
    "    for n in ns:\n",
    "        L = np.random.random(n) # create a list\n",
    "        # start time after generating the list...\n",
    "        start = time.time() \n",
    "        L.sort() # ... this is the workload\n",
    "        end = time.time()\n",
    "        elapsed = end - start\n",
    "        col.append(elapsed)\n",
    "    cols[\"run%d\" % rep] = col # new name: column"
   ]
  },
  {
   "cell_type": "code",
   "execution_count": 25,
   "metadata": {
    "slideshow": {
     "slide_type": "subslide"
    }
   },
   "outputs": [
    {
     "data": {
      "text/plain": [
       "dict_keys(['n', 'run0', 'run1', 'run2', 'run3', 'run4'])"
      ]
     },
     "execution_count": 25,
     "metadata": {},
     "output_type": "execute_result"
    }
   ],
   "source": [
    "cols.keys()"
   ]
  },
  {
   "cell_type": "code",
   "execution_count": 26,
   "metadata": {
    "slideshow": {
     "slide_type": "fragment"
    }
   },
   "outputs": [
    {
     "data": {
      "text/plain": [
       "[1000000,\n",
       " 2000000,\n",
       " 3000000,\n",
       " 4000000,\n",
       " 5000000,\n",
       " 6000000,\n",
       " 7000000,\n",
       " 8000000,\n",
       " 9000000,\n",
       " 10000000]"
      ]
     },
     "execution_count": 26,
     "metadata": {},
     "output_type": "execute_result"
    }
   ],
   "source": [
    "cols[\"n\"]"
   ]
  },
  {
   "cell_type": "code",
   "execution_count": 27,
   "metadata": {
    "slideshow": {
     "slide_type": "subslide"
    }
   },
   "outputs": [
    {
     "data": {
      "text/plain": [
       "[0.09440112113952637,\n",
       " 0.1825861930847168,\n",
       " 0.28019213676452637,\n",
       " 0.3649258613586426,\n",
       " 0.45937180519104004,\n",
       " 0.555854082107544,\n",
       " 0.6387050151824951,\n",
       " 0.7409951686859131,\n",
       " 0.8423857688903809,\n",
       " 0.9580490589141846]"
      ]
     },
     "execution_count": 27,
     "metadata": {},
     "output_type": "execute_result"
    }
   ],
   "source": [
    "cols[\"run0\"]"
   ]
  },
  {
   "cell_type": "code",
   "execution_count": 28,
   "metadata": {
    "slideshow": {
     "slide_type": "subslide"
    }
   },
   "outputs": [
    {
     "data": {
      "text/html": [
       "<div>\n",
       "<style scoped>\n",
       "    .dataframe tbody tr th:only-of-type {\n",
       "        vertical-align: middle;\n",
       "    }\n",
       "\n",
       "    .dataframe tbody tr th {\n",
       "        vertical-align: top;\n",
       "    }\n",
       "\n",
       "    .dataframe thead th {\n",
       "        text-align: right;\n",
       "    }\n",
       "</style>\n",
       "<table border=\"1\" class=\"dataframe\">\n",
       "  <thead>\n",
       "    <tr style=\"text-align: right;\">\n",
       "      <th></th>\n",
       "      <th>n</th>\n",
       "      <th>run0</th>\n",
       "      <th>run1</th>\n",
       "      <th>run2</th>\n",
       "      <th>run3</th>\n",
       "      <th>run4</th>\n",
       "    </tr>\n",
       "  </thead>\n",
       "  <tbody>\n",
       "    <tr>\n",
       "      <th>0</th>\n",
       "      <td>1000000</td>\n",
       "      <td>0.094401</td>\n",
       "      <td>0.080377</td>\n",
       "      <td>0.079158</td>\n",
       "      <td>0.079481</td>\n",
       "      <td>0.078872</td>\n",
       "    </tr>\n",
       "    <tr>\n",
       "      <th>1</th>\n",
       "      <td>2000000</td>\n",
       "      <td>0.182586</td>\n",
       "      <td>0.170788</td>\n",
       "      <td>0.168519</td>\n",
       "      <td>0.166014</td>\n",
       "      <td>0.167352</td>\n",
       "    </tr>\n",
       "    <tr>\n",
       "      <th>2</th>\n",
       "      <td>3000000</td>\n",
       "      <td>0.280192</td>\n",
       "      <td>0.262669</td>\n",
       "      <td>0.259633</td>\n",
       "      <td>0.257954</td>\n",
       "      <td>0.261811</td>\n",
       "    </tr>\n",
       "    <tr>\n",
       "      <th>3</th>\n",
       "      <td>4000000</td>\n",
       "      <td>0.364926</td>\n",
       "      <td>0.352704</td>\n",
       "      <td>0.353985</td>\n",
       "      <td>0.356670</td>\n",
       "      <td>0.356309</td>\n",
       "    </tr>\n",
       "    <tr>\n",
       "      <th>4</th>\n",
       "      <td>5000000</td>\n",
       "      <td>0.459372</td>\n",
       "      <td>0.448330</td>\n",
       "      <td>0.451217</td>\n",
       "      <td>0.447951</td>\n",
       "      <td>0.450271</td>\n",
       "    </tr>\n",
       "    <tr>\n",
       "      <th>5</th>\n",
       "      <td>6000000</td>\n",
       "      <td>0.555854</td>\n",
       "      <td>0.549305</td>\n",
       "      <td>0.544343</td>\n",
       "      <td>0.550506</td>\n",
       "      <td>0.542300</td>\n",
       "    </tr>\n",
       "    <tr>\n",
       "      <th>6</th>\n",
       "      <td>7000000</td>\n",
       "      <td>0.638705</td>\n",
       "      <td>0.642136</td>\n",
       "      <td>0.641770</td>\n",
       "      <td>0.639789</td>\n",
       "      <td>0.643555</td>\n",
       "    </tr>\n",
       "    <tr>\n",
       "      <th>7</th>\n",
       "      <td>8000000</td>\n",
       "      <td>0.740995</td>\n",
       "      <td>0.740865</td>\n",
       "      <td>0.742342</td>\n",
       "      <td>0.737357</td>\n",
       "      <td>0.752289</td>\n",
       "    </tr>\n",
       "    <tr>\n",
       "      <th>8</th>\n",
       "      <td>9000000</td>\n",
       "      <td>0.842386</td>\n",
       "      <td>0.833323</td>\n",
       "      <td>0.855668</td>\n",
       "      <td>0.849379</td>\n",
       "      <td>0.836651</td>\n",
       "    </tr>\n",
       "    <tr>\n",
       "      <th>9</th>\n",
       "      <td>10000000</td>\n",
       "      <td>0.958049</td>\n",
       "      <td>0.939246</td>\n",
       "      <td>0.946977</td>\n",
       "      <td>0.941535</td>\n",
       "      <td>0.941595</td>\n",
       "    </tr>\n",
       "  </tbody>\n",
       "</table>\n",
       "</div>"
      ],
      "text/plain": [
       "          n      run0      run1      run2      run3      run4\n",
       "0   1000000  0.094401  0.080377  0.079158  0.079481  0.078872\n",
       "1   2000000  0.182586  0.170788  0.168519  0.166014  0.167352\n",
       "2   3000000  0.280192  0.262669  0.259633  0.257954  0.261811\n",
       "3   4000000  0.364926  0.352704  0.353985  0.356670  0.356309\n",
       "4   5000000  0.459372  0.448330  0.451217  0.447951  0.450271\n",
       "5   6000000  0.555854  0.549305  0.544343  0.550506  0.542300\n",
       "6   7000000  0.638705  0.642136  0.641770  0.639789  0.643555\n",
       "7   8000000  0.740995  0.740865  0.742342  0.737357  0.752289\n",
       "8   9000000  0.842386  0.833323  0.855668  0.849379  0.836651\n",
       "9  10000000  0.958049  0.939246  0.946977  0.941535  0.941595"
      ]
     },
     "execution_count": 28,
     "metadata": {},
     "output_type": "execute_result"
    }
   ],
   "source": [
    "df = pd.DataFrame(cols)\n",
    "df.head(n=10)"
   ]
  },
  {
   "cell_type": "markdown",
   "metadata": {
    "slideshow": {
     "slide_type": "subslide"
    }
   },
   "source": [
    "Suppose we want to take the mean and standard deviation across runs, and add them as new columns. \n",
    "\n",
    "* Create a new column in `df` using `df.mean`\n",
    "* Create a new column in `df` using `df.std`"
   ]
  },
  {
   "cell_type": "code",
   "execution_count": 29,
   "metadata": {
    "slideshow": {
     "slide_type": "subslide"
    }
   },
   "outputs": [],
   "source": [
    "# add columns to df\n",
    "# .mean(axis=1) means take the average across columns \n",
    "# (axis=0 would mean across rows)\n",
    "# but df[[\"run0\", \"run1\", etc]] gives a DataFrame \n",
    "# with a subset of columns\n",
    "df[\"mean\"] = df[[\"run0\", \"run1\", \"run2\", \n",
    "                 \"run3\", \"run4\"]].mean(axis=1)\n",
    "df[\"sd\"] = df[[\"run0\", \"run1\", \"run2\", \n",
    "               \"run3\", \"run4\"]].std(axis=1)"
   ]
  },
  {
   "cell_type": "code",
   "execution_count": 30,
   "metadata": {
    "slideshow": {
     "slide_type": "subslide"
    }
   },
   "outputs": [
    {
     "data": {
      "text/html": [
       "<div>\n",
       "<style scoped>\n",
       "    .dataframe tbody tr th:only-of-type {\n",
       "        vertical-align: middle;\n",
       "    }\n",
       "\n",
       "    .dataframe tbody tr th {\n",
       "        vertical-align: top;\n",
       "    }\n",
       "\n",
       "    .dataframe thead th {\n",
       "        text-align: right;\n",
       "    }\n",
       "</style>\n",
       "<table border=\"1\" class=\"dataframe\">\n",
       "  <thead>\n",
       "    <tr style=\"text-align: right;\">\n",
       "      <th></th>\n",
       "      <th>n</th>\n",
       "      <th>run0</th>\n",
       "      <th>run1</th>\n",
       "      <th>run2</th>\n",
       "      <th>run3</th>\n",
       "      <th>run4</th>\n",
       "      <th>mean</th>\n",
       "      <th>sd</th>\n",
       "    </tr>\n",
       "  </thead>\n",
       "  <tbody>\n",
       "    <tr>\n",
       "      <th>0</th>\n",
       "      <td>1000000</td>\n",
       "      <td>0.094401</td>\n",
       "      <td>0.080377</td>\n",
       "      <td>0.079158</td>\n",
       "      <td>0.079481</td>\n",
       "      <td>0.078872</td>\n",
       "      <td>0.082458</td>\n",
       "      <td>0.006700</td>\n",
       "    </tr>\n",
       "    <tr>\n",
       "      <th>1</th>\n",
       "      <td>2000000</td>\n",
       "      <td>0.182586</td>\n",
       "      <td>0.170788</td>\n",
       "      <td>0.168519</td>\n",
       "      <td>0.166014</td>\n",
       "      <td>0.167352</td>\n",
       "      <td>0.171052</td>\n",
       "      <td>0.006682</td>\n",
       "    </tr>\n",
       "    <tr>\n",
       "      <th>2</th>\n",
       "      <td>3000000</td>\n",
       "      <td>0.280192</td>\n",
       "      <td>0.262669</td>\n",
       "      <td>0.259633</td>\n",
       "      <td>0.257954</td>\n",
       "      <td>0.261811</td>\n",
       "      <td>0.264452</td>\n",
       "      <td>0.008991</td>\n",
       "    </tr>\n",
       "    <tr>\n",
       "      <th>3</th>\n",
       "      <td>4000000</td>\n",
       "      <td>0.364926</td>\n",
       "      <td>0.352704</td>\n",
       "      <td>0.353985</td>\n",
       "      <td>0.356670</td>\n",
       "      <td>0.356309</td>\n",
       "      <td>0.356919</td>\n",
       "      <td>0.004768</td>\n",
       "    </tr>\n",
       "    <tr>\n",
       "      <th>4</th>\n",
       "      <td>5000000</td>\n",
       "      <td>0.459372</td>\n",
       "      <td>0.448330</td>\n",
       "      <td>0.451217</td>\n",
       "      <td>0.447951</td>\n",
       "      <td>0.450271</td>\n",
       "      <td>0.451428</td>\n",
       "      <td>0.004641</td>\n",
       "    </tr>\n",
       "  </tbody>\n",
       "</table>\n",
       "</div>"
      ],
      "text/plain": [
       "         n      run0      run1      run2      run3      run4      mean  \\\n",
       "0  1000000  0.094401  0.080377  0.079158  0.079481  0.078872  0.082458   \n",
       "1  2000000  0.182586  0.170788  0.168519  0.166014  0.167352  0.171052   \n",
       "2  3000000  0.280192  0.262669  0.259633  0.257954  0.261811  0.264452   \n",
       "3  4000000  0.364926  0.352704  0.353985  0.356670  0.356309  0.356919   \n",
       "4  5000000  0.459372  0.448330  0.451217  0.447951  0.450271  0.451428   \n",
       "\n",
       "         sd  \n",
       "0  0.006700  \n",
       "1  0.006682  \n",
       "2  0.008991  \n",
       "3  0.004768  \n",
       "4  0.004641  "
      ]
     },
     "execution_count": 30,
     "metadata": {},
     "output_type": "execute_result"
    }
   ],
   "source": [
    "df.head()"
   ]
  },
  {
   "cell_type": "markdown",
   "metadata": {
    "slideshow": {
     "slide_type": "subslide"
    }
   },
   "source": [
    "Let's save to disk, and check what it looks like on disk."
   ]
  },
  {
   "cell_type": "code",
   "execution_count": 31,
   "metadata": {
    "slideshow": {
     "slide_type": "-"
    }
   },
   "outputs": [],
   "source": [
    "df.to_csv(\"data/sort_times.csv\")"
   ]
  },
  {
   "cell_type": "code",
   "execution_count": 32,
   "metadata": {
    "slideshow": {
     "slide_type": "fragment"
    }
   },
   "outputs": [
    {
     "name": "stdout",
     "output_type": "stream",
     "text": [
      ",n,run0,run1,run2,run3,run4,mean,sd\n",
      "0,1000000,0.09440112113952637,0.08037662506103516,0.07915782928466797,0.07948112487792969,0.0788722038269043,0.0824577808380127,0.006700393838938064\n",
      "1,2000000,0.1825861930847168,0.17078781127929688,0.1685192584991455,0.1660139560699463,0.16735172271728516,0.17105178833007811,0.006681993035239037\n",
      "2,3000000,0.28019213676452637,0.2626688480377197,0.25963306427001953,0.2579538822174072,0.2618112564086914,0.26445183753967283,0.008991005771822472\n",
      "3,4000000,0.3649258613586426,0.3527038097381592,0.353985071182251,0.35666990280151367,0.3563089370727539,0.3569187164306641,0.004767594305703232\n",
      "4,5000000,0.45937180519104004,0.4483301639556885,0.4512171745300293,0.4479513168334961,0.4502711296081543,0.45142831802368166,0.004641410100591852\n",
      "5,6000000,0.555854082107544,0.5493049621582031,0.5443427562713623,0.5505061149597168,0.5422999858856201,0.5484615802764893,0.005349543321963814\n",
      "6,7000000,0.6387050151824951,0.6421358585357666,0.6417698860168457,0.6397888660430908,0.6435549259185791,0.6411909103393555,0.0019340445010022367\n",
      "7,8000000,0.7409951686859131,0.7408649921417236,0.7423419952392578,0.7373566627502441,0.7522890567779541,0.7427695751190185,0.005632027397564424\n",
      "8,9000000,0.8423857688903809,0.8333230018615723,0.8556678295135498,0.8493788242340088,0.836651086807251,0.8434813022613525,0.009142419201379993\n",
      "9,10000000,0.9580490589141846,0.9392459392547607,0.946976900100708,0.9415349960327148,0.9415948390960693,0.9454803466796875,0.007578637678129695\n"
     ]
    }
   ],
   "source": [
    "!cat data/sort_times.csv"
   ]
  },
  {
   "cell_type": "markdown",
   "metadata": {
    "slideshow": {
     "slide_type": "subslide"
    }
   },
   "source": [
    "We have seen `read_csv` and `to_csv`. Pandas also allows reading/writing/interacting with Excel, SQL, HDF5 (for big data), and lots more."
   ]
  },
  {
   "cell_type": "markdown",
   "metadata": {
    "slideshow": {
     "slide_type": "subslide"
    }
   },
   "source": [
    "### `groupby`\n",
    "\n",
    "Pandas can do all sorts of data joins, pivot tables and more -- things that are familiar to power users of SQL, Excel, and other data manipulation tools."
   ]
  },
  {
   "cell_type": "markdown",
   "metadata": {
    "slideshow": {
     "slide_type": "notes"
    }
   },
   "source": [
    "Let's start with this diagram from Vanderplas [Data Science Handbook](https://jakevdp.github.io/PythonDataScienceHandbook/03.08-aggregation-and-grouping.html#GroupBy:-Split,-Apply,-Combine). It shows a common scenario: we choose a key column (not necessarily the index) and split the table up (conceptually) by the values in it. Then we apply an aggregation across each split, then recombine.\n",
    "\n",
    "The result of the final combine is a new object a bit like a DataFrame. This is similar to carrying out a pivot table in Excel. We accomplish all this in a `groupby` command in Pandas. First we'll get the Irish cities data again."
   ]
  },
  {
   "cell_type": "markdown",
   "metadata": {
    "slideshow": {
     "slide_type": "subslide"
    }
   },
   "source": [
    "<center><img src=img/jakevdp-03-08-split-apply-combine.png width=80%></center>\n",
    "<font size=1>From <a href=https://jakevdp.github.io/PythonDataScienceHandbook/03.08-aggregation-and-grouping.html>Vanderplas Data Science Handbook </a></font>"
   ]
  },
  {
   "cell_type": "code",
   "execution_count": 33,
   "metadata": {
    "slideshow": {
     "slide_type": "subslide"
    }
   },
   "outputs": [
    {
     "data": {
      "text/html": [
       "<div>\n",
       "<style scoped>\n",
       "    .dataframe tbody tr th:only-of-type {\n",
       "        vertical-align: middle;\n",
       "    }\n",
       "\n",
       "    .dataframe tbody tr th {\n",
       "        vertical-align: top;\n",
       "    }\n",
       "\n",
       "    .dataframe thead th {\n",
       "        text-align: right;\n",
       "    }\n",
       "</style>\n",
       "<table border=\"1\" class=\"dataframe\">\n",
       "  <thead>\n",
       "    <tr style=\"text-align: right;\">\n",
       "      <th></th>\n",
       "      <th>Rank</th>\n",
       "      <th>City</th>\n",
       "      <th>Population (M)</th>\n",
       "      <th>Latitude</th>\n",
       "      <th>Longitude</th>\n",
       "    </tr>\n",
       "  </thead>\n",
       "  <tbody>\n",
       "    <tr>\n",
       "      <th>0</th>\n",
       "      <td>1</td>\n",
       "      <td>Dublin</td>\n",
       "      <td>1.0279</td>\n",
       "      <td>53.33</td>\n",
       "      <td>-6.25</td>\n",
       "    </tr>\n",
       "    <tr>\n",
       "      <th>1</th>\n",
       "      <td>2</td>\n",
       "      <td>Cork</td>\n",
       "      <td>0.1954</td>\n",
       "      <td>51.90</td>\n",
       "      <td>-8.47</td>\n",
       "    </tr>\n",
       "    <tr>\n",
       "      <th>2</th>\n",
       "      <td>3</td>\n",
       "      <td>Limerick</td>\n",
       "      <td>0.0857</td>\n",
       "      <td>52.67</td>\n",
       "      <td>-8.63</td>\n",
       "    </tr>\n",
       "    <tr>\n",
       "      <th>3</th>\n",
       "      <td>4</td>\n",
       "      <td>Galway</td>\n",
       "      <td>0.0686</td>\n",
       "      <td>53.28</td>\n",
       "      <td>-9.06</td>\n",
       "    </tr>\n",
       "    <tr>\n",
       "      <th>4</th>\n",
       "      <td>5</td>\n",
       "      <td>Waterford</td>\n",
       "      <td>0.0483</td>\n",
       "      <td>52.26</td>\n",
       "      <td>-7.13</td>\n",
       "    </tr>\n",
       "  </tbody>\n",
       "</table>\n",
       "</div>"
      ],
      "text/plain": [
       "   Rank       City  Population (M)  Latitude  Longitude\n",
       "0     1     Dublin          1.0279     53.33      -6.25\n",
       "1     2       Cork          0.1954     51.90      -8.47\n",
       "2     3   Limerick          0.0857     52.67      -8.63\n",
       "3     4     Galway          0.0686     53.28      -9.06\n",
       "4     5  Waterford          0.0483     52.26      -7.13"
      ]
     },
     "execution_count": 33,
     "metadata": {},
     "output_type": "execute_result"
    }
   ],
   "source": [
    "df = pd.read_csv(\"data/irish_cities.txt\", sep=\"\\t\", skiprows=1)\n",
    "df[\"Population (2000)\"] /= 1000000.0\n",
    "df = df.rename(columns={\"#Rank\": \"Rank\", \n",
    "                        \"Population (2000)\": \"Population (M)\", \n",
    "                        \"Latitude (DD)\": \"Latitude\", \n",
    "                        \"Longitude (DD)\": \"Longitude\"})\n",
    "df.head()"
   ]
  },
  {
   "cell_type": "markdown",
   "metadata": {
    "slideshow": {
     "slide_type": "subslide"
    }
   },
   "source": [
    "`groupby` works naturally with discrete keys, so we'll make one by rounding off the *longitude*."
   ]
  },
  {
   "cell_type": "code",
   "execution_count": 34,
   "metadata": {},
   "outputs": [],
   "source": [
    "df[\"Longitude (round)\"] = df[\"Longitude\"].astype('int')"
   ]
  },
  {
   "cell_type": "code",
   "execution_count": 35,
   "metadata": {},
   "outputs": [
    {
     "data": {
      "text/html": [
       "<div>\n",
       "<style scoped>\n",
       "    .dataframe tbody tr th:only-of-type {\n",
       "        vertical-align: middle;\n",
       "    }\n",
       "\n",
       "    .dataframe tbody tr th {\n",
       "        vertical-align: top;\n",
       "    }\n",
       "\n",
       "    .dataframe thead th {\n",
       "        text-align: right;\n",
       "    }\n",
       "</style>\n",
       "<table border=\"1\" class=\"dataframe\">\n",
       "  <thead>\n",
       "    <tr style=\"text-align: right;\">\n",
       "      <th></th>\n",
       "      <th>Rank</th>\n",
       "      <th>City</th>\n",
       "      <th>Population (M)</th>\n",
       "      <th>Latitude</th>\n",
       "      <th>Longitude</th>\n",
       "      <th>Longitude (round)</th>\n",
       "    </tr>\n",
       "  </thead>\n",
       "  <tbody>\n",
       "    <tr>\n",
       "      <th>0</th>\n",
       "      <td>1</td>\n",
       "      <td>Dublin</td>\n",
       "      <td>1.0279</td>\n",
       "      <td>53.33</td>\n",
       "      <td>-6.25</td>\n",
       "      <td>-6</td>\n",
       "    </tr>\n",
       "    <tr>\n",
       "      <th>1</th>\n",
       "      <td>2</td>\n",
       "      <td>Cork</td>\n",
       "      <td>0.1954</td>\n",
       "      <td>51.90</td>\n",
       "      <td>-8.47</td>\n",
       "      <td>-8</td>\n",
       "    </tr>\n",
       "    <tr>\n",
       "      <th>2</th>\n",
       "      <td>3</td>\n",
       "      <td>Limerick</td>\n",
       "      <td>0.0857</td>\n",
       "      <td>52.67</td>\n",
       "      <td>-8.63</td>\n",
       "      <td>-8</td>\n",
       "    </tr>\n",
       "    <tr>\n",
       "      <th>3</th>\n",
       "      <td>4</td>\n",
       "      <td>Galway</td>\n",
       "      <td>0.0686</td>\n",
       "      <td>53.28</td>\n",
       "      <td>-9.06</td>\n",
       "      <td>-9</td>\n",
       "    </tr>\n",
       "    <tr>\n",
       "      <th>4</th>\n",
       "      <td>5</td>\n",
       "      <td>Waterford</td>\n",
       "      <td>0.0483</td>\n",
       "      <td>52.26</td>\n",
       "      <td>-7.13</td>\n",
       "      <td>-7</td>\n",
       "    </tr>\n",
       "  </tbody>\n",
       "</table>\n",
       "</div>"
      ],
      "text/plain": [
       "   Rank       City  Population (M)  Latitude  Longitude  Longitude (round)\n",
       "0     1     Dublin          1.0279     53.33      -6.25                 -6\n",
       "1     2       Cork          0.1954     51.90      -8.47                 -8\n",
       "2     3   Limerick          0.0857     52.67      -8.63                 -8\n",
       "3     4     Galway          0.0686     53.28      -9.06                 -9\n",
       "4     5  Waterford          0.0483     52.26      -7.13                 -7"
      ]
     },
     "execution_count": 35,
     "metadata": {},
     "output_type": "execute_result"
    }
   ],
   "source": [
    "df.head()"
   ]
  },
  {
   "cell_type": "markdown",
   "metadata": {
    "slideshow": {
     "slide_type": "subslide"
    }
   },
   "source": [
    "We can now use `groupby` to split the data by (rounded) longitude, calculate the mean on each split, then recombine to a single table."
   ]
  },
  {
   "cell_type": "code",
   "execution_count": 36,
   "metadata": {
    "scrolled": true
   },
   "outputs": [
    {
     "data": {
      "text/html": [
       "<div>\n",
       "<style scoped>\n",
       "    .dataframe tbody tr th:only-of-type {\n",
       "        vertical-align: middle;\n",
       "    }\n",
       "\n",
       "    .dataframe tbody tr th {\n",
       "        vertical-align: top;\n",
       "    }\n",
       "\n",
       "    .dataframe thead th {\n",
       "        text-align: right;\n",
       "    }\n",
       "</style>\n",
       "<table border=\"1\" class=\"dataframe\">\n",
       "  <thead>\n",
       "    <tr style=\"text-align: right;\">\n",
       "      <th></th>\n",
       "      <th>Rank</th>\n",
       "      <th>Population (M)</th>\n",
       "      <th>Latitude</th>\n",
       "      <th>Longitude</th>\n",
       "    </tr>\n",
       "    <tr>\n",
       "      <th>Longitude (round)</th>\n",
       "      <th></th>\n",
       "      <th></th>\n",
       "      <th></th>\n",
       "      <th></th>\n",
       "    </tr>\n",
       "  </thead>\n",
       "  <tbody>\n",
       "    <tr>\n",
       "      <th>-9</th>\n",
       "      <td>21.600000</td>\n",
       "      <td>0.024220</td>\n",
       "      <td>53.320000</td>\n",
       "      <td>-9.352000</td>\n",
       "    </tr>\n",
       "    <tr>\n",
       "      <th>-8</th>\n",
       "      <td>25.000000</td>\n",
       "      <td>0.040278</td>\n",
       "      <td>52.460000</td>\n",
       "      <td>-8.556667</td>\n",
       "    </tr>\n",
       "    <tr>\n",
       "      <th>-7</th>\n",
       "      <td>27.416667</td>\n",
       "      <td>0.015300</td>\n",
       "      <td>53.013333</td>\n",
       "      <td>-7.529167</td>\n",
       "    </tr>\n",
       "    <tr>\n",
       "      <th>-6</th>\n",
       "      <td>24.478261</td>\n",
       "      <td>0.059539</td>\n",
       "      <td>53.225217</td>\n",
       "      <td>-6.436957</td>\n",
       "    </tr>\n",
       "  </tbody>\n",
       "</table>\n",
       "</div>"
      ],
      "text/plain": [
       "                        Rank  Population (M)   Latitude  Longitude\n",
       "Longitude (round)                                                 \n",
       "-9                 21.600000        0.024220  53.320000  -9.352000\n",
       "-8                 25.000000        0.040278  52.460000  -8.556667\n",
       "-7                 27.416667        0.015300  53.013333  -7.529167\n",
       "-6                 24.478261        0.059539  53.225217  -6.436957"
      ]
     },
     "execution_count": 36,
     "metadata": {},
     "output_type": "execute_result"
    }
   ],
   "source": [
    "gb = df.groupby(\"Longitude (round)\").mean()\n",
    "gb"
   ]
  },
  {
   "cell_type": "markdown",
   "metadata": {
    "slideshow": {
     "slide_type": "fragment"
    }
   },
   "source": [
    "This `groupby` result is an object similar to a DataFrame, which we could manipulate further."
   ]
  },
  {
   "cell_type": "markdown",
   "metadata": {
    "slideshow": {
     "slide_type": "notes"
    }
   },
   "source": [
    "There's a lot more in `groupby` and in Pandas in general for this type of data manipulation, but we won't go any further."
   ]
  },
  {
   "cell_type": "markdown",
   "metadata": {
    "slideshow": {
     "slide_type": "subslide"
    }
   },
   "source": [
    "### Plotting in Pandas\n",
    "\n",
    "Pandas has some built-in plotting abilities, e.g.:"
   ]
  },
  {
   "cell_type": "code",
   "execution_count": 37,
   "metadata": {
    "slideshow": {
     "slide_type": "fragment"
    }
   },
   "outputs": [
    {
     "data": {
      "image/png": "[encoded data removed]",
      "text/plain": [
       "<Figure size 432x288 with 1 Axes>"
      ]
     },
     "metadata": {
      "needs_background": "light"
     },
     "output_type": "display_data"
    }
   ],
   "source": [
    "# read data on sugar content of cereals, sampled from a \n",
    "# supermarket in Michigan in 2004.\n",
    "# copied from http://www.math.hope.edu/swanson/data/cereal.txt\n",
    "# (and then edited)\n",
    "d = pd.read_csv(\"data/cereals.txt\", \n",
    "                names=[\"value\"])\n",
    "d.hist();"
   ]
  },
  {
   "cell_type": "markdown",
   "metadata": {
    "slideshow": {
     "slide_type": "fragment"
    }
   },
   "source": [
    "https://kanoki.org/2019/09/16/dataframe-visualization-with-pandas-plot/ - a quick rundown on plotting in Pandas. Usually, I prefer to use Matplotlib or Seaborn, which we'll cover in the next notebooks."
   ]
  },
  {
   "cell_type": "code",
   "execution_count": null,
   "metadata": {},
   "outputs": [],
   "source": []
  },
  {
   "cell_type": "code",
   "execution_count": null,
   "metadata": {},
   "outputs": [],
   "source": []
  }
 ],
 "metadata": {
  "celltoolbar": "Slideshow",
  "kernelspec": {
   "display_name": "Python 3 (ipykernel)",
   "language": "python",
   "name": "python3"
  },
  "language_info": {
   "codemirror_mode": {
    "name": "ipython",
    "version": 3
   },
   "file_extension": ".py",
   "mimetype": "text/x-python",
   "name": "python",
   "nbconvert_exporter": "python",
   "pygments_lexer": "ipython3",
   "version": "3.9.12"
  }
 },
 "nbformat": 4,
 "nbformat_minor": 4
}
