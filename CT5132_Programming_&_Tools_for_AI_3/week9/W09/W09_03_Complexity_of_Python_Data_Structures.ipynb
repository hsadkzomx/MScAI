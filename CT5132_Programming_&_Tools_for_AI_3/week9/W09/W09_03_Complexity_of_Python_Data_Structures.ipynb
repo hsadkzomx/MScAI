{
 "cells": [
  {
   "cell_type": "markdown",
   "metadata": {
    "slideshow": {
     "slide_type": "slide"
    }
   },
   "source": [
    "<center><img src=img/MScAI_brand.png width=70%></center>\n",
    "\n",
    "# Complexity of Python Data Structures\n"
   ]
  },
  {
   "cell_type": "markdown",
   "metadata": {
    "slideshow": {
     "slide_type": "subslide"
    }
   },
   "source": [
    "\n",
    "The basic Python compound data structures (`list`, `set`, `dict`, `tuple`, and a couple of\n",
    "  others) offer various **operations**. Often they **depend on the number of items in the data structure**, so they are not single idealised instructions.\n",
    "  \n",
    "They make different trade-offs between time and memory\n",
    "  usage in different common cases and worst cases. Sometimes the right\n",
    "  choice can make a huge difference to our efficiency."
   ]
  },
  {
   "cell_type": "markdown",
   "metadata": {
    "slideshow": {
     "slide_type": "subslide"
    }
   },
   "source": [
    "Sources:\n",
    "\n",
    "* https://www.ics.uci.edu/~pattis/ICS-33/lectures/complexitypython.txt\n",
    "* https://wiki.python.org/moin/TimeComplexity\n",
    "* Downey, *Think Python*, Appendix B \n",
    "* Downey, *Think Complexity*, Chapter 3.\n"
   ]
  },
  {
   "cell_type": "markdown",
   "metadata": {
    "slideshow": {
     "slide_type": "subslide"
    }
   },
   "source": [
    "### Fundamental fact\n",
    "\n",
    "Given a **known location in memory**, we can:\n",
    "\n",
    "* read from it or\n",
    "* write to it\n",
    "\n",
    "in **constant time**."
   ]
  },
  {
   "cell_type": "markdown",
   "metadata": {
    "slideshow": {
     "slide_type": "slide"
    }
   },
   "source": [
    "### Lists\n",
    "\n",
    "```\n",
    "8   [ ][ ][ ][ ][ ][ ][ ][ ]\n",
    "                          ^\n",
    "```\n",
    "\n",
    "  A Python `list` is represented internally as an **array**\n",
    "  (contiguous cells in memory). Accessing a single cell is immediate (no need to visit any others).\n",
    "  \n",
    "  Many operations involve iterating over\n",
    "  the items: $O(n)$. However, it stores a pointer to the end (so `append`\n",
    "  is constant-time) and remembers its length (so no need to iterate for `len`).\n",
    "\n",
    "  A `list` is also fast for changes at the end, but slow for changes near the\n",
    "  beginning: e.g. deleting the first item means that all other items\n",
    "  have to \"move\"."
   ]
  },
  {
   "cell_type": "markdown",
   "metadata": {
    "slideshow": {
     "slide_type": "subslide"
    }
   },
   "source": [
    "* $O(1)$: append, get and set item (`[]`), `len`\n",
    "* $O(n)$: insert item, delete item, iterate over, `min`, `x in L`"
   ]
  },
  {
   "cell_type": "markdown",
   "metadata": {
    "slideshow": {
     "slide_type": "subslide"
    }
   },
   "source": [
    "### Tuple\n",
    "\n",
    "Similar to list, for the operations that are allowed.\n"
   ]
  },
  {
   "cell_type": "markdown",
   "metadata": {
    "slideshow": {
     "slide_type": "slide"
    }
   },
   "source": [
    "### Double-ended queue\n",
    "\n",
    "  A list is fast for changes at the end, but slow for changes near the\n",
    "  beginning.  If modelling a true queue we would probably want to optimise for `append` (add at the end) and\n",
    "  `popleft` (remove from the front).\n",
    "\n",
    "  But Python provides a double-ended queue (`deque`) which makes both\n",
    "  ends fast, thanks to a doubly-linked list implementation.\n",
    "\n",
    "* $O(1)$: append, appendleft, pop, popleft, `len`\n",
    "* $O(n)$: get, set or remove element in the middle"
   ]
  },
  {
   "cell_type": "markdown",
   "metadata": {
    "slideshow": {
     "slide_type": "slide"
    }
   },
   "source": [
    "### Implications\n",
    "\n",
    "Many of our algorithms depend for run-time on careful choice of data structure\n",
    "* E.g. breadth-first search needs queue behaviour (\"first-in, first-out\"). We can emulate this behaviour using a list (append new item at one end, copy item and delete at the other), but this will be slow: a deque is much better."
   ]
  },
  {
   "cell_type": "markdown",
   "metadata": {
    "slideshow": {
     "slide_type": "slide"
    }
   },
   "source": [
    "### Dictionaries\n",
    "\n",
    "Recall that a **hash function** is the crucial ingredient in implementing \n",
    "`dict`s. A hash function maps an object to an integer,\n",
    "uniformly distributed over some wide range.\n",
    "\n",
    "Recall that Python offers a general hash function `hash`, and some objects are **not hashable**."
   ]
  },
  {
   "cell_type": "code",
   "execution_count": 1,
   "metadata": {
    "slideshow": {
     "slide_type": "subslide"
    }
   },
   "outputs": [
    {
     "name": "stdout",
     "output_type": "stream",
     "text": [
      "hash(2) 2\n",
      "hash('abc') 8793657958543501247\n"
     ]
    },
    {
     "ename": "TypeError",
     "evalue": "unhashable type: 'list'",
     "output_type": "error",
     "traceback": [
      "\u001b[0;31m---------------------------------------------------------------------------\u001b[0m",
      "\u001b[0;31mTypeError\u001b[0m                                 Traceback (most recent call last)",
      "\u001b[0;32m<ipython-input-1-73a5efb3b73d>\u001b[0m in \u001b[0;36m<module>\u001b[0;34m\u001b[0m\n\u001b[1;32m      1\u001b[0m \u001b[0mprint\u001b[0m\u001b[0;34m(\u001b[0m\u001b[0;34m\"hash(2)\"\u001b[0m\u001b[0;34m,\u001b[0m \u001b[0mhash\u001b[0m\u001b[0;34m(\u001b[0m\u001b[0;36m2\u001b[0m\u001b[0;34m)\u001b[0m\u001b[0;34m)\u001b[0m\u001b[0;34m\u001b[0m\u001b[0;34m\u001b[0m\u001b[0m\n\u001b[1;32m      2\u001b[0m \u001b[0mprint\u001b[0m\u001b[0;34m(\u001b[0m\u001b[0;34m\"hash('abc')\"\u001b[0m\u001b[0;34m,\u001b[0m \u001b[0mhash\u001b[0m\u001b[0;34m(\u001b[0m\u001b[0;34m'abc'\u001b[0m\u001b[0;34m)\u001b[0m\u001b[0;34m)\u001b[0m\u001b[0;34m\u001b[0m\u001b[0;34m\u001b[0m\u001b[0m\n\u001b[0;32m----> 3\u001b[0;31m \u001b[0mprint\u001b[0m\u001b[0;34m(\u001b[0m\u001b[0;34m\"hash([5, 6, 7])\"\u001b[0m\u001b[0;34m,\u001b[0m \u001b[0mhash\u001b[0m\u001b[0;34m(\u001b[0m\u001b[0;34m[\u001b[0m\u001b[0;36m5\u001b[0m\u001b[0;34m,\u001b[0m \u001b[0;36m6\u001b[0m\u001b[0;34m,\u001b[0m \u001b[0;36m7\u001b[0m\u001b[0;34m]\u001b[0m\u001b[0;34m)\u001b[0m\u001b[0;34m)\u001b[0m\u001b[0;34m\u001b[0m\u001b[0;34m\u001b[0m\u001b[0m\n\u001b[0m",
      "\u001b[0;31mTypeError\u001b[0m: unhashable type: 'list'"
     ]
    }
   ],
   "source": [
    "print(\"hash(2)\", hash(2))\n",
    "print(\"hash('abc')\", hash('abc'))\n",
    "print(\"hash([5, 6, 7])\", hash([5, 6, 7]))"
   ]
  },
  {
   "cell_type": "markdown",
   "metadata": {
    "slideshow": {
     "slide_type": "slide"
    }
   },
   "source": [
    "### Implementing a dictionary from scratch\n",
    "\n",
    "\n",
    "  (Warning: this is for illustration/intuition: the internal implementation is\n",
    "    much more complicated)\n",
    "\n",
    "Pretend we have a language with lists, but no dictionaries. To make a dictionary, we make a **list** `L` of some small\n",
    "    fixed size, e.g. 5, and fill with non-value pairs:\n",
    "```python\n",
    "L = [(None, None), (None, None), ... (None, None)]\n",
    "```"
   ]
  },
  {
   "cell_type": "markdown",
   "metadata": {
    "slideshow": {
     "slide_type": "subslide"
    }
   },
   "source": [
    "To add a key `k` with value `v`, we calculate a \"bucket\" or \"pigeonhole\"\n",
    "which tells us where to write that key-value:\n",
    "```python\n",
    "i = hash(k) % 5\n",
    "```\n",
    "and we set \n",
    "```python\n",
    "L[i] = (k, v)\n",
    "```"
   ]
  },
  {
   "cell_type": "markdown",
   "metadata": {
    "slideshow": {
     "slide_type": "subslide"
    }
   },
   "source": [
    "<img src=\"img/hash_table_modulus.png\" width=60%>"
   ]
  },
  {
   "cell_type": "markdown",
   "metadata": {
    "slideshow": {
     "slide_type": "fragment"
    }
   },
   "source": [
    "To later retrieve the value for key `k`, we calculate `i` in the same way and retrieve `L[i]`: its first element is `k` and second is `v`."
   ]
  },
  {
   "cell_type": "markdown",
   "metadata": {
    "slideshow": {
     "slide_type": "subslide"
    }
   },
   "source": [
    "### Dictionary performance\n",
    "* Calculating `hash` and looking up `list` element `i` are both $O(1)$ operations! \n",
    "  * (Constant with respect to the number of elements \"filled\" in `L`.)\n",
    "* However, a dict uses extra memory in return for this speedup:\n",
    "  * It makes a list of size 10, even when the dict is empty!\n",
    "* For many situations, this trade-off is well worth it."
   ]
  },
  {
   "cell_type": "markdown",
   "metadata": {
    "slideshow": {
     "slide_type": "slide"
    }
   },
   "source": [
    "### Hash collisions\n",
    "\n",
    "But sometimes two keys `k1`, `k2` could get the same `i` -- called a\n",
    "*hash collision*:"
   ]
  },
  {
   "cell_type": "code",
   "execution_count": 6,
   "metadata": {},
   "outputs": [
    {
     "data": {
      "text/plain": [
       "2"
      ]
     },
     "execution_count": 6,
     "metadata": {},
     "output_type": "execute_result"
    }
   ],
   "source": [
    "hash(2) % 5"
   ]
  },
  {
   "cell_type": "code",
   "execution_count": 15,
   "metadata": {},
   "outputs": [
    {
     "data": {
      "text/plain": [
       "2"
      ]
     },
     "execution_count": 15,
     "metadata": {},
     "output_type": "execute_result"
    }
   ],
   "source": [
    "hash('abcdefghi') % 5 # can change in different runs/Py versions"
   ]
  },
  {
   "cell_type": "markdown",
   "metadata": {
    "slideshow": {
     "slide_type": "subslide"
    }
   },
   "source": [
    "So we need a bit more logic to avoid over-writing an existing\n",
    "key-value, or returning the wrong value, or reporting that an key is\n",
    "present when it's not."
   ]
  },
  {
   "cell_type": "markdown",
   "metadata": {
    "slideshow": {
     "slide_type": "subslide"
    }
   },
   "source": [
    "\n",
    "\n",
    "Because each element of the list contains the key, we\n",
    "can use an approach which checks it. One idea is called *linear probing*:\n",
    "\n",
    "When we are about to add a key-value pair\n",
    "at location `L[i]`, and there's already a *different* key\n",
    "there, just go to `L[i+1]` and see if there is an empty space there (and repeat as needed). \n",
    "\n",
    "(And the same thing when retrieving: probe until we find the *correct* key.)"
   ]
  },
  {
   "cell_type": "markdown",
   "metadata": {
    "slideshow": {
     "slide_type": "subslide"
    }
   },
   "source": [
    "This works as long as the list is sparsely populated, so there are few collisions and most linear probes end quickly.\n",
    "\n",
    "But eventually, if we keep adding key-values, we'll find a lot of\n",
    "collisions, so we'll spend forever linear probing, and get\n",
    "bad performance. Even worse, when the dictionary gets full, there's no space for new elements!"
   ]
  },
  {
   "cell_type": "markdown",
   "metadata": {
    "slideshow": {
     "slide_type": "subslide"
    }
   },
   "source": [
    "At that point we have to **re-hash**: \n",
    "\n",
    "* Make a new, much larger list `L`;\n",
    "* Re-calculate all the indices (`% len(L)`);\n",
    "* Copy each old element to its new location in the new list."
   ]
  },
  {
   "cell_type": "markdown",
   "metadata": {
    "slideshow": {
     "slide_type": "fragment"
    }
   },
   "source": [
    "That will take a long time, so our **worst-case time** for item addition is $O(n)$. But it happens **rarely**."
   ]
  },
  {
   "cell_type": "markdown",
   "metadata": {
    "slideshow": {
     "slide_type": "subslide"
    }
   },
   "source": [
    "### Amortized analysis\n",
    "\n",
    "* Typically, adding an entry to a `dict` takes $O(1)$;\n",
    "* Very rarely, it takes $O(n)$;\n",
    "* On average across many additions to a single `dict`, performance is practically constant-time."
   ]
  },
  {
   "cell_type": "markdown",
   "metadata": {
    "slideshow": {
     "slide_type": "subslide"
    }
   },
   "source": [
    "Since in any higher-level algorithm using `dict` we can expect to be adding to it many times, we are justified in using the `dict` average-case instead of worst-case. This is called **amortized analysis**.\n"
   ]
  },
  {
   "cell_type": "markdown",
   "metadata": {
    "slideshow": {
     "slide_type": "subslide"
    }
   },
   "source": [
    "### Dictionary performance\n",
    "\n",
    "  Thus, we have $O(1)$ average-case performance for common dict\n",
    "  operations:\n",
    "* $O(1)$: `x in d`, add item, overwrite item, retrieve item, delete item, `len`\n",
    "* $O(n)$: iterate over items"
   ]
  },
  {
   "cell_type": "markdown",
   "metadata": {
    "slideshow": {
     "slide_type": "slide"
    }
   },
   "source": [
    "### Sets\n",
    "\n",
    "  We could implement a set as a dictionary with keys and dummy values!\n",
    "\n",
    "  That is, for a set element `x` we would use the key-value pair\n",
    "  `(x, x)`.\n",
    "\n",
    "  In early Python, that's how `set` was implemented. (It's\n",
    "  optimized now.)"
   ]
  },
  {
   "cell_type": "markdown",
   "metadata": {
    "slideshow": {
     "slide_type": "subslide"
    }
   },
   "source": [
    "Result: the same $O(1)$ performance for common operations:\n",
    "\n",
    "* $O(1)$: `x in s`, add item, delete item, `len`\n",
    "* $O(n)$: iterate over items"
   ]
  },
  {
   "cell_type": "markdown",
   "metadata": {
    "slideshow": {
     "slide_type": "subslide"
    }
   },
   "source": [
    "**Exercise**: which is faster: `x in L` or `x in S` or `x in d`? (`list`, `set`, or `dict`)"
   ]
  },
  {
   "cell_type": "markdown",
   "metadata": {
    "slideshow": {
     "slide_type": "fragment"
    }
   },
   "source": [
    "**Solution**: `x in S` and `x in d` are both $O(1)$ while `x in L` is $O(n)$. \n",
    "\n",
    "\"The performance of dictionaries is one of the minor miracles of\n",
    "  computer science.\" -- Downey, *Think Complexity*."
   ]
  }
 ],
 "metadata": {
  "celltoolbar": "Slideshow",
  "kernelspec": {
   "display_name": "Python 3",
   "language": "python",
   "name": "python3"
  },
  "language_info": {
   "codemirror_mode": {
    "name": "ipython",
    "version": 3
   },
   "file_extension": ".py",
   "mimetype": "text/x-python",
   "name": "python",
   "nbconvert_exporter": "python",
   "pygments_lexer": "ipython3",
   "version": "3.8.5"
  }
 },
 "nbformat": 4,
 "nbformat_minor": 4
}
