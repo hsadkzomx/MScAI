{
 "cells": [
  {
   "cell_type": "markdown",
   "metadata": {
    "slideshow": {
     "slide_type": "slide"
    }
   },
   "source": [
    "<center><img src=img/MScAI_brand.png width=70%></center>\n",
    "\n",
    "# Finite State Machines"
   ]
  },
  {
   "cell_type": "markdown",
   "metadata": {
    "slideshow": {
     "slide_type": "subslide"
    }
   },
   "source": [
    "For the last 30 years or so, machine learning methods have gradually taken over as the best methods for solving AI problems. In the 30 years before that, most approaches were *symbolic* and logical rather than numerical, probabilistic and learning-oriented. We sometimes call those approaches (half-joking) \"good old-fashioned AI\"."
   ]
  },
  {
   "cell_type": "markdown",
   "metadata": {
    "slideshow": {
     "slide_type": "subslide"
    }
   },
   "source": [
    "Task | GOFAI | ML-style AI\n",
    "-----|-------|------------\n",
    "Playing games|Minimax (alpha-beta) | Reinforcement learning\n",
    "Reasoning with facts | Logical inference | Probabilistic inference\n",
    "Language | Parsing with grammars | Recurrent neural networks\n",
    "Agent behaviour | **Finite state machines** | Reinforcement learning"
   ]
  },
  {
   "cell_type": "markdown",
   "metadata": {
    "slideshow": {
     "slide_type": "subslide"
    }
   },
   "source": [
    "A finite state machine is a neat representation for agent behaviour, and it's used in other applications also...\n",
    "\n",
    "* Communication protocols, like http\n",
    "* Game AI, like Doom or Pacman\n",
    "* Parsing formal languages, including programming languages.\n"
   ]
  },
  {
   "cell_type": "markdown",
   "metadata": {
    "slideshow": {
     "slide_type": "subslide"
    }
   },
   "source": [
    "### Communication Protocols\n",
    "\n",
    "<img src=img/HTTP_FSM.gif width=50%>\n",
    "\n",
    "[From W3](https://www.w3.org/Library/User/Architecture/HTTPFeatures.html)"
   ]
  },
  {
   "cell_type": "markdown",
   "metadata": {
    "slideshow": {
     "slide_type": "slide"
    }
   },
   "source": [
    "### Game AI\n",
    "\n",
    "The original *DOOM* game used an FSM to control the non-player characters. You can read about it [here](https://www.gamedeveloper.com/blogs/the-ai-of-doom-1993).\n",
    "\n",
    "![FSM in DOOM](img/DOOM-FSM.png)\n",
    "\n"
   ]
  },
  {
   "cell_type": "markdown",
   "metadata": {
    "slideshow": {
     "slide_type": "subslide"
    }
   },
   "source": [
    "### Example: an FSM for a ghost in \"Pacman\"\n",
    "\n",
    "<center><img src=img/pacman.png width=40%></center><font size=1>From http://mentalfloss.com/article/49068/how-win-pac-man</font>\n",
    "\n",
    "[Here's a video to remind us of the gameplay.](https://youtu.be/QjFCmHybgwQ?t=24)"
   ]
  },
  {
   "cell_type": "markdown",
   "metadata": {
    "slideshow": {
     "slide_type": "subslide"
    }
   },
   "source": [
    "### Simplified Pacman FSM\n",
    "\n",
    "<center><img src=img/pacman_ghost_fsm.svg width=40%></center><font size=1>Inspired by Yannakakis and Togelius, <em>Artificial Intelligence and Games</em></font>\n"
   ]
  },
  {
   "cell_type": "markdown",
   "metadata": {
    "slideshow": {
     "slide_type": "slide"
    }
   },
   "source": [
    "### Definition\n",
    "\n",
    "1. There are several *states*. One of them is a special *start state*. Zero or more are special *end states*.\n",
    "2. Every state other than *end states* has some outward edges, pointing to other (or even the same) state. Each edge is labelled with an *input* and optionally with an *action*.\n",
    "3. At every time-step there is an *input*. The input causes the machine to *transition*, i.e. move from the current state, along the edge whose label equals the input, to a new state. The machine may also carry out the *action* associated with that edge."
   ]
  },
  {
   "cell_type": "markdown",
   "metadata": {
    "slideshow": {
     "slide_type": "slide"
    }
   },
   "source": [
    "It's often useful to think of the states as representing *internal* data, and the inputs as input from the environment."
   ]
  },
  {
   "cell_type": "markdown",
   "metadata": {
    "slideshow": {
     "slide_type": "subslide"
    }
   },
   "source": [
    "The states are in circles: **Seek Pacman**, **Evade Pacman**, **Go to regenerate**. The possible inputs are Eaten by Pacman, Pacman has power pill, Power pill time up, Finished regenerating. \n",
    "\n",
    "E.g. when in state **Evade Pacman**, if we receive the *input* Power pill time up, we'll transition to **Seek Pacman**."
   ]
  },
  {
   "cell_type": "markdown",
   "metadata": {
    "slideshow": {
     "slide_type": "subslide"
    }
   },
   "source": [
    "The Pacman FSM doesn't have any *actions*. It's just a mapping of the form:\n",
    "\n",
    "$(\\mathrm{state}, \\mathrm{input}) \\rightarrow \\mathrm{state}$"
   ]
  },
  {
   "cell_type": "markdown",
   "metadata": {
    "slideshow": {
     "slide_type": "fragment"
    }
   },
   "source": [
    "In our example, the states are \"high-level\" states so there would have to be some extra logic in the game."
   ]
  },
  {
   "cell_type": "markdown",
   "metadata": {
    "slideshow": {
     "slide_type": "fragment"
    }
   },
   "source": [
    "In our example, the *start state* is **Seek Pacman** and the *end states* is an empty set, i.e. we continue running forever."
   ]
  },
  {
   "cell_type": "markdown",
   "metadata": {
    "slideshow": {
     "slide_type": "slide"
    }
   },
   "source": [
    "### Implementation\n",
    "\n",
    "All FSMs (well, with some caveats) have the same *code* implementation, and differ in their *data*."
   ]
  },
  {
   "cell_type": "markdown",
   "metadata": {
    "slideshow": {
     "slide_type": "subslide"
    }
   },
   "source": [
    "We'll consider a simpler FSM problem: let's create an FSM which controls a subway turnstile.\n",
    "\n",
    "<img src=img/fsm_turnstile.png width=50%>\n",
    "\n",
    "1. The customer has to pay EUR2, using EUR1 coins only.\n",
    "2. Then the gate opens.\n",
    "3. When the gate detects the customer has gone through, it closes, says \"Thank you!\", and goes back to the start.\n",
    "\n"
   ]
  },
  {
   "cell_type": "markdown",
   "metadata": {
    "slideshow": {
     "slide_type": "subslide"
    }
   },
   "source": [
    "Here's the data, which we write as a `dict`. It maps a *(state, input)* pair to a new *state* and an *action*. Hence the name *SISA*."
   ]
  },
  {
   "cell_type": "code",
   "execution_count": 12,
   "metadata": {
    "slideshow": {
     "slide_type": "subslide"
    }
   },
   "outputs": [],
   "source": [
    "turnstile_SISAs = {\n",
    "    ('Start', 'receive EUR1'): ('EUR1', None),\n",
    "    ('EUR1' , 'receive EUR1'): ('Open', None),\n",
    "    ('Open' , 'detect entry'): \n",
    "         ('Start', lambda: print('Thank you'))\n",
    "}"
   ]
  },
  {
   "cell_type": "code",
   "execution_count": 13,
   "metadata": {
    "slideshow": {
     "slide_type": "subslide"
    }
   },
   "outputs": [],
   "source": [
    "start_state = \"Start\"\n",
    "end_states = set() # empty set, no end states"
   ]
  },
  {
   "cell_type": "markdown",
   "metadata": {
    "slideshow": {
     "slide_type": "subslide"
    }
   },
   "source": [
    "Here's one way to write the code:"
   ]
  },
  {
   "cell_type": "code",
   "execution_count": 14,
   "metadata": {},
   "outputs": [],
   "source": [
    "def fsm(SISAs, start_state, end_states, input_symbols):\n",
    "    state = start_state\n",
    "    yield state\n",
    "    for input_symbol in input_symbols:\n",
    "        if state in end_states:\n",
    "            break\n",
    "        try:\n",
    "            state, action = SISAs[state, input_symbol]\n",
    "            if action is not None: action()\n",
    "        except KeyError:\n",
    "            pass # stay in same state\n",
    "        yield state"
   ]
  },
  {
   "cell_type": "markdown",
   "metadata": {
    "slideshow": {
     "slide_type": "subslide"
    }
   },
   "source": [
    "Now let's suppose this is the sequence of events:"
   ]
  },
  {
   "cell_type": "code",
   "execution_count": 15,
   "metadata": {},
   "outputs": [],
   "source": [
    "inputs = [\n",
    "    'receive EUR1', 'receive EUR1', 'detect entry', \n",
    "    'receive EUR1', 'receive EUR1', 'detect entry'\n",
    "    ]\n"
   ]
  },
  {
   "cell_type": "markdown",
   "metadata": {
    "slideshow": {
     "slide_type": "subslide"
    }
   },
   "source": [
    "And here is how we can use it:"
   ]
  },
  {
   "cell_type": "code",
   "execution_count": 17,
   "metadata": {},
   "outputs": [
    {
     "name": "stdout",
     "output_type": "stream",
     "text": [
      "Current state: Start\n",
      "Current state: EUR1\n",
      "Current state: Open\n",
      "Thank you\n",
      "Current state: Start\n",
      "Current state: EUR1\n",
      "Current state: Open\n",
      "Thank you\n",
      "Current state: Start\n"
     ]
    }
   ],
   "source": [
    "for state in fsm(turnstile_SISAs, start_state, \n",
    "                 end_states, inputs):\n",
    "    print(\"Current state:\", state)"
   ]
  },
  {
   "cell_type": "markdown",
   "metadata": {
    "slideshow": {
     "slide_type": "subslide"
    }
   },
   "source": [
    "In a real application, our *inputs* would come from a user, another process...\n",
    "\n",
    "Our *actions* would actually **do something**!\n",
    "\n",
    "Also, our `for`-loop could be more complex, with some other function calls and logic.  "
   ]
  },
  {
   "cell_type": "markdown",
   "metadata": {
    "slideshow": {
     "slide_type": "subslide"
    }
   },
   "source": [
    "### Exercises\n",
    "\n",
    "What if the customer puts in a wrong coin? What if they try to put in a coin while it's in the Open state? What if there is a button for \"return coins\"? Add some extra states, transitions, and messages (which can be implemented as actions)."
   ]
  }
 ],
 "metadata": {
  "celltoolbar": "Slideshow",
  "kernelspec": {
   "display_name": "Python 3 (ipykernel)",
   "language": "python",
   "name": "python3"
  },
  "language_info": {
   "codemirror_mode": {
    "name": "ipython",
    "version": 3
   },
   "file_extension": ".py",
   "mimetype": "text/x-python",
   "name": "python",
   "nbconvert_exporter": "python",
   "pygments_lexer": "ipython3",
   "version": "3.7.3"
  }
 },
 "nbformat": 4,
 "nbformat_minor": 2
}
